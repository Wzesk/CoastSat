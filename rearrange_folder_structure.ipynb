{
 "cells": [
  {
   "cell_type": "code",
   "execution_count": 1,
   "metadata": {},
   "outputs": [
    {
     "name": "stdout",
     "output_type": "stream",
     "text": [
      "/Users/tishya/Documents/programming/CoastSat\n"
     ]
    }
   ],
   "source": [
    "from coastsat import SDS_earthcache_api\n",
    "import os\n",
    "\n",
    "print(os.getcwd())"
   ]
  },
  {
   "cell_type": "code",
   "execution_count": 2,
   "metadata": {},
   "outputs": [
    {
     "name": "stdout",
     "output_type": "stream",
     "text": [
      "<module 'posixpath' from '/Users/tishya/miniconda3/envs/coastmac/lib/python3.8/posixpath.py'>\n"
     ]
    }
   ],
   "source": [
    "SDS_earthcache_api.format_downloads(\"S2_Earthcache\", True)"
   ]
  },
  {
   "cell_type": "code",
   "execution_count": null,
   "metadata": {},
   "outputs": [],
   "source": [
    "# Tishya's Notes:\n",
    "    # right now, it doesn't create a higher folder called the name of the site, first folder it creates is S2\n",
    "    # would we want the script to delete the other folders once everything has been moved?\n",
    "    # additional functionality that should be implemented (in order of priority *ish):\n",
    "        # renaming the files to whatever format CoastSat likes\n",
    "        # creating the folder based on which satellite the data is coming from\n",
    "        # extracting the data that they expect in their meta text files from earthcache's json files \n",
    "        # do something similar to this so that the folders make sense: **DEPENDENT ON SATELLITE    \n",
    "            # select bands (10m ms RGB+NIR+s2cloudless, 20m SWIR1, 60m QA band)\n",
    "                # bands['ms'] = [im_bands[_] for _ in range(len(im_bands)) if im_bands[_]['id'] in bands_id[:5]]\n",
    "                # bands['swir'] = [im_bands[_] for _ in range(len(im_bands)) if im_bands[_]['id'] in bands_id[5:6]]\n",
    "                # bands['mask'] = [im_bands[_] for _ in range(len(im_bands)) if im_bands[_]['id'] in bands_id[-1:]]\n",
    "            # note about the code snippet ^ -- this is being done in SDS_download, line 342. it seems that they download\n",
    "            # tif files AFTER specifying those bands. the equivalent for earthcache would be having specific output types?"
   ]
  }
 ],
 "metadata": {
  "kernelspec": {
   "display_name": "base",
   "language": "python",
   "name": "python3"
  },
  "language_info": {
   "codemirror_mode": {
    "name": "ipython",
    "version": 3
   },
   "file_extension": ".py",
   "mimetype": "text/x-python",
   "name": "python",
   "nbconvert_exporter": "python",
   "pygments_lexer": "ipython3",
   "version": "3.8.18"
  }
 },
 "nbformat": 4,
 "nbformat_minor": 2
}
