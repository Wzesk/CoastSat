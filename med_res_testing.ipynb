{
 "cells": [
  {
   "cell_type": "markdown",
   "metadata": {},
   "source": [
    "## imports"
   ]
  },
  {
   "cell_type": "code",
   "execution_count": 2,
   "metadata": {},
   "outputs": [
    {
     "name": "stdout",
     "output_type": "stream",
     "text": [
      "d:\\Github\\CoastSat\n"
     ]
    }
   ],
   "source": [
    "%load_ext autoreload\n",
    "%autoreload 2\n",
    "import os\n",
    "import numpy as np\n",
    "import pickle\n",
    "import warnings\n",
    "warnings.filterwarnings(\"ignore\")\n",
    "import matplotlib\n",
    "matplotlib.use('Qt5Agg')\n",
    "import matplotlib.pyplot as plt\n",
    "from matplotlib import gridspec\n",
    "plt.ion()\n",
    "import pandas as pd\n",
    "from coastsat import SDS_download, SDS_preprocess, SDS_shoreline, SDS_tools, SDS_transects,SDS_islands,SDS_universal_transects,SDS_preprocess_med,SDS_earthcache_api\n",
    "from osgeo import gdal\n",
    "import json\n",
    "print(os.getcwd())"
   ]
  },
  {
   "cell_type": "markdown",
   "metadata": {},
   "source": [
    "## reformat downloads"
   ]
  },
  {
   "cell_type": "code",
   "execution_count": 3,
   "metadata": {},
   "outputs": [
    {
     "name": "stdout",
     "output_type": "stream",
     "text": [
      "<module 'ntpath' from 'c:\\\\Users\\\\walte\\\\.conda\\\\envs\\\\coastnurbs\\\\lib\\\\ntpath.py'>\n",
      "<module 'ntpath' from 'c:\\\\Users\\\\walte\\\\.conda\\\\envs\\\\coastnurbs\\\\lib\\\\ntpath.py'>\n",
      "<module 'ntpath' from 'c:\\\\Users\\\\walte\\\\.conda\\\\envs\\\\coastnurbs\\\\lib\\\\ntpath.py'>\n",
      "<module 'ntpath' from 'c:\\\\Users\\\\walte\\\\.conda\\\\envs\\\\coastnurbs\\\\lib\\\\ntpath.py'>\n",
      "<module 'ntpath' from 'c:\\\\Users\\\\walte\\\\.conda\\\\envs\\\\coastnurbs\\\\lib\\\\ntpath.py'>\n",
      "<module 'ntpath' from 'c:\\\\Users\\\\walte\\\\.conda\\\\envs\\\\coastnurbs\\\\lib\\\\ntpath.py'>\n",
      "<module 'ntpath' from 'c:\\\\Users\\\\walte\\\\.conda\\\\envs\\\\coastnurbs\\\\lib\\\\ntpath.py'>\n",
      "<module 'ntpath' from 'c:\\\\Users\\\\walte\\\\.conda\\\\envs\\\\coastnurbs\\\\lib\\\\ntpath.py'>\n",
      "<module 'ntpath' from 'c:\\\\Users\\\\walte\\\\.conda\\\\envs\\\\coastnurbs\\\\lib\\\\ntpath.py'>\n",
      "<module 'ntpath' from 'c:\\\\Users\\\\walte\\\\.conda\\\\envs\\\\coastnurbs\\\\lib\\\\ntpath.py'>\n",
      "<module 'ntpath' from 'c:\\\\Users\\\\walte\\\\.conda\\\\envs\\\\coastnurbs\\\\lib\\\\ntpath.py'>\n",
      "<module 'ntpath' from 'c:\\\\Users\\\\walte\\\\.conda\\\\envs\\\\coastnurbs\\\\lib\\\\ntpath.py'>\n",
      "<module 'ntpath' from 'c:\\\\Users\\\\walte\\\\.conda\\\\envs\\\\coastnurbs\\\\lib\\\\ntpath.py'>\n",
      "Renaming SKYWATCH_PLSD_PS_20230101T0516_TC_Tile_0_0_0b1d.txt to 2023-01-01-05-01-06-PLSD_ukulhas_ps.txt\n",
      "Renaming SKYWATCH_PLSD_PS_20230103T0435_TC_Tile_0_0_ec9f.txt to 2023-01-03-04-03-05-PLSD_ukulhas_ps.txt\n",
      "Renaming SKYWATCH_PLSD_PS_20230108T0511_TC_Tile_0_0_164e.txt to 2023-01-08-05-01-01-PLSD_ukulhas_ps.txt\n",
      "Renaming SKYWATCH_PLSD_PS_20230114T0433_TC_Tile_0_0_8792.txt to 2023-01-14-04-03-03-PLSD_ukulhas_ps.txt\n",
      "Renaming SKYWATCH_PLSD_PS_20230117T0509_TC_Tile_0_0_bc6d.txt to 2023-01-17-05-00-09-PLSD_ukulhas_ps.txt\n",
      "Renaming SKYWATCH_PLSD_PS_20230122T0512_TC_Tile_0_0_2da8.txt to 2023-01-22-05-01-02-PLSD_ukulhas_ps.txt\n",
      "Renaming SKYWATCH_PLSD_PS_20230131T0436_TC_Tile_0_0_5d9e.txt to 2023-01-31-04-03-06-PLSD_ukulhas_ps.txt\n",
      "Renaming SKYWATCH_PLSD_PS_20230216T0512_ALL_Tile_0_0_40b3.txt to 2023-02-16-05-01-02-PLSD_ukulhas_ps.txt\n",
      "Renaming SKYWATCH_PLSD_PS_20230328T0433_ALL_Tile_0_0_a5f7.txt to 2023-03-28-04-03-03-PLSD_ukulhas_ps.txt\n",
      "Renaming SKYWATCH_PLSD_PS_20230418T0433_ALL_Tile_0_0_f88b.txt to 2023-04-18-04-03-03-PLSD_ukulhas_ps.txt\n",
      "Renaming SKYWATCH_PLSD_PS_20230505T0440_ALL_Tile_0_0_ab0b.txt to 2023-05-05-04-04-00-PLSD_ukulhas_ps.txt\n",
      "Renaming SKYWATCH_PLSD_PS_20230508T0514_ALL_Tile_0_0_8acf.txt to 2023-05-08-05-01-04-PLSD_ukulhas_ps.txt\n",
      "Renaming SKYWATCH_PLSD_PS_20230517T0514_ALL_Tile_0_0_dcb4.txt to 2023-05-17-05-01-04-PLSD_ukulhas_ps.txt\n",
      "Renaming SKYWATCH_PLSD_PS_20230615T0517_ALL_Tile_0_0_8a10.txt to 2023-06-15-05-01-07-PLSD_ukulhas_ps.txt\n",
      "Renaming SKYWATCH_PLSD_PS_20230617T0437_ALL_Tile_0_0_7cc0.txt to 2023-06-17-04-03-07-PLSD_ukulhas_ps.txt\n",
      "Renaming SKYWATCH_PLSD_PS_20230709T0434_ALL_Tile_0_0_9689.txt to 2023-07-09-04-03-04-PLSD_ukulhas_ps.txt\n",
      "Renaming SKYWATCH_PLSD_PS_20230719T0516_ALL_Tile_0_0_29ea.txt to 2023-07-19-05-01-06-PLSD_ukulhas_ps.txt\n",
      "Renaming SKYWATCH_PLSD_PS_20230722T0520_ALL_Tile_0_0_4dbe.txt to 2023-07-22-05-02-00-PLSD_ukulhas_ps.txt\n",
      "Renaming SKYWATCH_PLSD_PS_20230728T0439_ALL_Tile_0_0_94cc.txt to 2023-07-28-04-03-09-PLSD_ukulhas_ps.txt\n",
      "Renaming SKYWATCH_PLSD_PS_20230801T0443_ALL_Tile_0_0_a714.txt to 2023-08-01-04-04-03-PLSD_ukulhas_ps.txt\n",
      "Renaming SKYWATCH_PLSD_PS_20230807T0437_ALL_Tile_0_0_6528.txt to 2023-08-07-04-03-07-PLSD_ukulhas_ps.txt\n",
      "Renaming SKYWATCH_PLSD_PS_20230812T0437_ALL_Tile_0_0_8d22.txt to 2023-08-12-04-03-07-PLSD_ukulhas_ps.txt\n",
      "Renaming SKYWATCH_PLSD_PS_20230820T0442_ALL_Tile_0_0_29a6.txt to 2023-08-20-04-04-02-PLSD_ukulhas_ps.txt\n",
      "Renaming SKYWATCH_PLSD_PS_20230830T0520_ALL_Tile_0_0_e0b3.txt to 2023-08-30-05-02-00-PLSD_ukulhas_ps.txt\n",
      "Renaming SKYWATCH_PLSD_PS_20230913T0442_ALL_Tile_0_0_e1ed.txt to 2023-09-13-04-04-02-PLSD_ukulhas_ps.txt\n",
      "Renaming SKYWATCH_PLSD_PS_20230930T0438_ALL_Tile_0_0_0a02.txt to 2023-09-30-04-03-08-PLSD_ukulhas_ps.txt\n",
      "Renaming SKYWATCH_PLSD_PS_20231007T0523_ALL_Tile_0_0_135e.txt to 2023-10-07-05-02-03-PLSD_ukulhas_ps.txt\n",
      "Renaming SKYWATCH_PLSD_PS_20231015T0521_ALL_Tile_0_0_cc07.txt to 2023-10-15-05-02-01-PLSD_ukulhas_ps.txt\n",
      "Renaming SKYWATCH_PLSD_PS_20231016T0446_ALL_Tile_0_0_6000.txt to 2023-10-16-04-04-06-PLSD_ukulhas_ps.txt\n",
      "Renaming SKYWATCH_PLSD_PS_20231115T0525_ALL_Tile_0_0_9765.txt to 2023-11-15-05-02-05-PLSD_ukulhas_ps.txt\n",
      "Renaming SKYWATCH_PLSD_PS_20231218T0447_ALL_Tile_0_0_aadf.txt to 2023-12-18-04-04-07-PLSD_ukulhas_ps.txt\n",
      "Renaming SKYWATCH_PLSD_PS_20231224T0526_ALL_Tile_0_0_0b28.txt to 2023-12-24-05-02-06-PLSD_ukulhas_ps.txt\n",
      "Renaming SKYWATCH_S2_MS_20220101T0522_ALL_Tile_0_0_14ea.txt to 2022-01-01-05-02-02-S2_ukulhas_ps.txt\n",
      "Renaming SKYWATCH_S2_MS_20220126T0520_ALL_Tile_0_0_6786.txt to 2022-01-26-05-02-00-S2_ukulhas_ps.txt\n",
      "Renaming SKYWATCH_S2_MS_20220131T0520_ALL_Tile_0_0_fc2b.txt to 2022-01-31-05-02-00-S2_ukulhas_ps.txt\n",
      "Renaming SKYWATCH_S2_MS_20230210T0519_ALL_Tile_0_0_cfcb.txt to 2023-02-10-05-01-09-S2_ukulhas_ps.txt\n",
      "Renaming SKYWATCH_S2_MS_20230215T0519_ALL_Tile_0_0_edb0.txt to 2023-02-15-05-01-09-S2_ukulhas_ps.txt\n",
      "Renaming SKYWATCH_S2_MS_20230225T0518_ALL_Tile_0_0_84d2.txt to 2023-02-25-05-01-08-S2_ukulhas_ps.txt\n",
      "Renaming SKYWATCH_S2_MS_20230307T0516_ALL_Tile_0_0_fec0.txt to 2023-03-07-05-01-06-S2_ukulhas_ps.txt\n",
      "Renaming SKYWATCH_S2_MS_20230312T0516_ALL_Tile_0_0_f694.txt to 2023-03-12-05-01-06-S2_ukulhas_ps.txt\n",
      "Renaming SKYWATCH_S2_MS_20230406T0516_ALL_Tile_0_0_e87e.txt to 2023-04-06-05-01-06-S2_ukulhas_ps.txt\n",
      "Renaming SKYWATCH_S2_MS_20230411T0516_ALL_Tile_0_0_f252.txt to 2023-04-11-05-01-06-S2_ukulhas_ps.txt\n",
      "Renaming SKYWATCH_S2_MS_20230421T0516_ALL_Tile_0_0_639e.txt to 2023-04-21-05-01-06-S2_ukulhas_ps.txt\n",
      "Renaming SKYWATCH_S2_MS_20230521T0516_ALL_Tile_0_0_86b0.txt to 2023-05-21-05-01-06-S2_ukulhas_ps.txt\n",
      "Renaming SKYWATCH_S2_MS_20230526T0516_ALL_Tile_0_0_2ae6.txt to 2023-05-26-05-01-06-S2_ukulhas_ps.txt\n",
      "Renaming SKYWATCH_S2_MS_20230715T0516_ALL_Tile_0_0_415e.txt to 2023-07-15-05-01-06-S2_ukulhas_ps.txt\n",
      "Renaming SKYWATCH_S2_MS_20230824T0517_ALL_Tile_0_0_d998.txt to 2023-08-24-05-01-07-S2_ukulhas_ps.txt\n",
      "Renaming SKYWATCH_S2_MS_20231117T0521_ALL_Tile_0_0_50d3.txt to 2023-11-17-05-02-01-S2_ukulhas_ps.txt\n",
      "Renaming SKYWATCH_S2_MS_20231202T0521_ALL_Tile_0_0_6aac.txt to 2023-12-02-05-02-01-S2_ukulhas_ps.txt\n",
      "Renaming SKYWATCH_PLSD_PS_20230101T0516_TC_Tile_0_0_0b1d.tif to 2023-01-01-05-01-06-PLSD_ukulhas_ps_ms.tif\n",
      "Renaming SKYWATCH_PLSD_PS_20230103T0435_TC_Tile_0_0_ec9f.tif to 2023-01-03-04-03-05-PLSD_ukulhas_ps_ms.tif\n",
      "Renaming SKYWATCH_PLSD_PS_20230108T0511_TC_Tile_0_0_164e.tif to 2023-01-08-05-01-01-PLSD_ukulhas_ps_ms.tif\n",
      "Renaming SKYWATCH_PLSD_PS_20230114T0433_TC_Tile_0_0_8792.tif to 2023-01-14-04-03-03-PLSD_ukulhas_ps_ms.tif\n",
      "Renaming SKYWATCH_PLSD_PS_20230117T0509_TC_Tile_0_0_bc6d.tif to 2023-01-17-05-00-09-PLSD_ukulhas_ps_ms.tif\n",
      "Renaming SKYWATCH_PLSD_PS_20230122T0512_TC_Tile_0_0_2da8.tif to 2023-01-22-05-01-02-PLSD_ukulhas_ps_ms.tif\n",
      "Renaming SKYWATCH_PLSD_PS_20230131T0436_TC_Tile_0_0_5d9e.tif to 2023-01-31-04-03-06-PLSD_ukulhas_ps_ms.tif\n",
      "Renaming SKYWATCH_PLSD_PS_20230216T0512_ALL_Tile_0_0_40b3.tif to 2023-02-16-05-01-02-PLSD_ukulhas_ps_ms.tif\n",
      "Renaming SKYWATCH_PLSD_PS_20230328T0433_ALL_Tile_0_0_a5f7.tif to 2023-03-28-04-03-03-PLSD_ukulhas_ps_ms.tif\n",
      "Renaming SKYWATCH_PLSD_PS_20230418T0433_ALL_Tile_0_0_f88b.tif to 2023-04-18-04-03-03-PLSD_ukulhas_ps_ms.tif\n",
      "Renaming SKYWATCH_PLSD_PS_20230505T0440_ALL_Tile_0_0_ab0b.tif to 2023-05-05-04-04-00-PLSD_ukulhas_ps_ms.tif\n",
      "Renaming SKYWATCH_PLSD_PS_20230508T0514_ALL_Tile_0_0_8acf.tif to 2023-05-08-05-01-04-PLSD_ukulhas_ps_ms.tif\n",
      "Renaming SKYWATCH_PLSD_PS_20230517T0514_ALL_Tile_0_0_dcb4.tif to 2023-05-17-05-01-04-PLSD_ukulhas_ps_ms.tif\n",
      "Renaming SKYWATCH_PLSD_PS_20230615T0517_ALL_Tile_0_0_8a10.tif to 2023-06-15-05-01-07-PLSD_ukulhas_ps_ms.tif\n",
      "Renaming SKYWATCH_PLSD_PS_20230617T0437_ALL_Tile_0_0_7cc0.tif to 2023-06-17-04-03-07-PLSD_ukulhas_ps_ms.tif\n",
      "Renaming SKYWATCH_PLSD_PS_20230709T0434_ALL_Tile_0_0_9689.tif to 2023-07-09-04-03-04-PLSD_ukulhas_ps_ms.tif\n",
      "Renaming SKYWATCH_PLSD_PS_20230719T0516_ALL_Tile_0_0_29ea.tif to 2023-07-19-05-01-06-PLSD_ukulhas_ps_ms.tif\n",
      "Renaming SKYWATCH_PLSD_PS_20230722T0520_ALL_Tile_0_0_4dbe.tif to 2023-07-22-05-02-00-PLSD_ukulhas_ps_ms.tif\n",
      "Renaming SKYWATCH_PLSD_PS_20230728T0439_ALL_Tile_0_0_94cc.tif to 2023-07-28-04-03-09-PLSD_ukulhas_ps_ms.tif\n",
      "Renaming SKYWATCH_PLSD_PS_20230801T0443_ALL_Tile_0_0_a714.tif to 2023-08-01-04-04-03-PLSD_ukulhas_ps_ms.tif\n",
      "Renaming SKYWATCH_PLSD_PS_20230807T0437_ALL_Tile_0_0_6528.tif to 2023-08-07-04-03-07-PLSD_ukulhas_ps_ms.tif\n",
      "Renaming SKYWATCH_PLSD_PS_20230812T0437_ALL_Tile_0_0_8d22.tif to 2023-08-12-04-03-07-PLSD_ukulhas_ps_ms.tif\n",
      "Renaming SKYWATCH_PLSD_PS_20230820T0442_ALL_Tile_0_0_29a6.tif to 2023-08-20-04-04-02-PLSD_ukulhas_ps_ms.tif\n",
      "Renaming SKYWATCH_PLSD_PS_20230830T0520_ALL_Tile_0_0_e0b3.tif to 2023-08-30-05-02-00-PLSD_ukulhas_ps_ms.tif\n",
      "Renaming SKYWATCH_PLSD_PS_20230913T0442_ALL_Tile_0_0_e1ed.tif to 2023-09-13-04-04-02-PLSD_ukulhas_ps_ms.tif\n",
      "Renaming SKYWATCH_PLSD_PS_20230930T0438_ALL_Tile_0_0_0a02.tif to 2023-09-30-04-03-08-PLSD_ukulhas_ps_ms.tif\n",
      "Renaming SKYWATCH_PLSD_PS_20231007T0523_ALL_Tile_0_0_135e.tif to 2023-10-07-05-02-03-PLSD_ukulhas_ps_ms.tif\n",
      "Renaming SKYWATCH_PLSD_PS_20231015T0521_ALL_Tile_0_0_cc07.tif to 2023-10-15-05-02-01-PLSD_ukulhas_ps_ms.tif\n",
      "Renaming SKYWATCH_PLSD_PS_20231016T0446_ALL_Tile_0_0_6000.tif to 2023-10-16-04-04-06-PLSD_ukulhas_ps_ms.tif\n",
      "Renaming SKYWATCH_PLSD_PS_20231115T0525_ALL_Tile_0_0_9765.tif to 2023-11-15-05-02-05-PLSD_ukulhas_ps_ms.tif\n",
      "Renaming SKYWATCH_PLSD_PS_20231218T0447_ALL_Tile_0_0_aadf.tif to 2023-12-18-04-04-07-PLSD_ukulhas_ps_ms.tif\n",
      "Renaming SKYWATCH_PLSD_PS_20231224T0526_ALL_Tile_0_0_0b28.tif to 2023-12-24-05-02-06-PLSD_ukulhas_ps_ms.tif\n",
      "Renaming SKYWATCH_S2_MS_20220101T0522_ALL_Tile_0_0_14ea.tif to 2022-01-01-05-02-02-S2_ukulhas_ps_ms.tif\n",
      "Renaming SKYWATCH_S2_MS_20220126T0520_ALL_Tile_0_0_6786.tif to 2022-01-26-05-02-00-S2_ukulhas_ps_ms.tif\n",
      "Renaming SKYWATCH_S2_MS_20220131T0520_ALL_Tile_0_0_fc2b.tif to 2022-01-31-05-02-00-S2_ukulhas_ps_ms.tif\n",
      "Renaming SKYWATCH_S2_MS_20230210T0519_ALL_Tile_0_0_cfcb.tif to 2023-02-10-05-01-09-S2_ukulhas_ps_ms.tif\n",
      "Renaming SKYWATCH_S2_MS_20230215T0519_ALL_Tile_0_0_edb0.tif to 2023-02-15-05-01-09-S2_ukulhas_ps_ms.tif\n",
      "Renaming SKYWATCH_S2_MS_20230225T0518_ALL_Tile_0_0_84d2.tif to 2023-02-25-05-01-08-S2_ukulhas_ps_ms.tif\n",
      "Renaming SKYWATCH_S2_MS_20230307T0516_ALL_Tile_0_0_fec0.tif to 2023-03-07-05-01-06-S2_ukulhas_ps_ms.tif\n",
      "Renaming SKYWATCH_S2_MS_20230312T0516_ALL_Tile_0_0_f694.tif to 2023-03-12-05-01-06-S2_ukulhas_ps_ms.tif\n",
      "Renaming SKYWATCH_S2_MS_20230406T0516_ALL_Tile_0_0_e87e.tif to 2023-04-06-05-01-06-S2_ukulhas_ps_ms.tif\n",
      "Renaming SKYWATCH_S2_MS_20230411T0516_ALL_Tile_0_0_f252.tif to 2023-04-11-05-01-06-S2_ukulhas_ps_ms.tif\n",
      "Renaming SKYWATCH_S2_MS_20230421T0516_ALL_Tile_0_0_639e.tif to 2023-04-21-05-01-06-S2_ukulhas_ps_ms.tif\n",
      "Renaming SKYWATCH_S2_MS_20230521T0516_ALL_Tile_0_0_86b0.tif to 2023-05-21-05-01-06-S2_ukulhas_ps_ms.tif\n",
      "Renaming SKYWATCH_S2_MS_20230526T0516_ALL_Tile_0_0_2ae6.tif to 2023-05-26-05-01-06-S2_ukulhas_ps_ms.tif\n",
      "Renaming SKYWATCH_S2_MS_20230715T0516_ALL_Tile_0_0_415e.tif to 2023-07-15-05-01-06-S2_ukulhas_ps_ms.tif\n",
      "Renaming SKYWATCH_S2_MS_20230824T0517_ALL_Tile_0_0_d998.tif to 2023-08-24-05-01-07-S2_ukulhas_ps_ms.tif\n",
      "Renaming SKYWATCH_S2_MS_20231117T0521_ALL_Tile_0_0_50d3.tif to 2023-11-17-05-02-01-S2_ukulhas_ps_ms.tif\n",
      "Renaming SKYWATCH_S2_MS_20231202T0521_ALL_Tile_0_0_6aac.tif to 2023-12-02-05-02-01-S2_ukulhas_ps_ms.tif\n"
     ]
    }
   ],
   "source": [
    "SDS_earthcache_api.reformat_downloads('Ukulhas_', 'ukulhas_ps')"
   ]
  },
  {
   "cell_type": "markdown",
   "metadata": {},
   "source": [
    "## testing band selection"
   ]
  },
  {
   "cell_type": "code",
   "execution_count": 88,
   "metadata": {},
   "outputs": [
    {
     "data": {
      "text/plain": [
       "['coastal-blue',\n",
       " 'blue',\n",
       " 'green053',\n",
       " 'green',\n",
       " 'yellow',\n",
       " 'red',\n",
       " 'vegetation-red-edge-1',\n",
       " 'near-infrared',\n",
       " 'flags',\n",
       " 'tmp_flags',\n",
       " 'mosaic_flags\\n']"
      ]
     },
     "execution_count": 88,
     "metadata": {},
     "output_type": "execute_result"
    }
   ],
   "source": [
    "fn_ms = 'data\\\\ukulhas_ps\\\\S2\\\\ms\\\\2023-10-07-05-02-03-PLSD_ukulhas_ps_ms.tif'\n",
    "fn_meta = fn_ms.replace('_ms.tif','.txt').replace('ms','meta') \n",
    "bandlist= SDS_preprocess_med.get_bandlist(fn_meta)\n",
    "bandlist"
   ]
  },
  {
   "cell_type": "code",
   "execution_count": 89,
   "metadata": {},
   "outputs": [
    {
     "name": "stdout",
     "output_type": "stream",
     "text": [
      "Missing bands: ['short-wave-infrared-1', 'short-wave-infrared-2']\n",
      "unused bands: ['coastal-blue', 'green053', 'yellow', 'vegetation-red-edge-1', 'flags', 'tmp_flags', 'mosaic_flags\\n']\n"
     ]
    },
    {
     "data": {
      "text/plain": [
       "(750, 741, 5)"
      ]
     },
     "execution_count": 89,
     "metadata": {},
     "output_type": "execute_result"
    }
   ],
   "source": [
    "band_order = ['blue', 'green','red', 'near-infrared','short-wave-infrared-1', 'short-wave-infrared-2','red']\n",
    "im_ms, georef, cloud_mask, im_extra, im_QA, im_nodata = SDS_preprocess_med.preprocess(fn_ms,'S2',band_order)\n",
    "im_ms.shape"
   ]
  },
  {
   "cell_type": "markdown",
   "metadata": {},
   "source": [
    "## read in settings and start coastsat process"
   ]
  },
  {
   "cell_type": "code",
   "execution_count": 4,
   "metadata": {},
   "outputs": [
    {
     "name": "stdout",
     "output_type": "stream",
     "text": [
      "dict_keys(['S2'])\n",
      "['2023-01-01-05-01-06-PLSD_ukulhas_ps_ms.tif', '2023-01-03-04-03-05-PLSD_ukulhas_ps_ms.tif', '2023-01-08-05-01-01-PLSD_ukulhas_ps_ms.tif', '2023-01-14-04-03-03-PLSD_ukulhas_ps_ms.tif', '2023-01-17-05-00-09-PLSD_ukulhas_ps_ms.tif', '2023-01-22-05-01-02-PLSD_ukulhas_ps_ms.tif', '2023-01-31-04-03-06-PLSD_ukulhas_ps_ms.tif', '2023-02-16-05-01-02-PLSD_ukulhas_ps_ms.tif', '2023-03-28-04-03-03-PLSD_ukulhas_ps_ms.tif', '2023-04-18-04-03-03-PLSD_ukulhas_ps_ms.tif', '2023-05-05-04-04-00-PLSD_ukulhas_ps_ms.tif', '2023-05-08-05-01-04-PLSD_ukulhas_ps_ms.tif', '2023-05-17-05-01-04-PLSD_ukulhas_ps_ms.tif', '2023-06-15-05-01-07-PLSD_ukulhas_ps_ms.tif', '2023-06-17-04-03-07-PLSD_ukulhas_ps_ms.tif', '2023-07-09-04-03-04-PLSD_ukulhas_ps_ms.tif', '2023-07-19-05-01-06-PLSD_ukulhas_ps_ms.tif', '2023-07-22-05-02-00-PLSD_ukulhas_ps_ms.tif', '2023-07-28-04-03-09-PLSD_ukulhas_ps_ms.tif', '2023-08-01-04-04-03-PLSD_ukulhas_ps_ms.tif', '2023-08-07-04-03-07-PLSD_ukulhas_ps_ms.tif', '2023-08-12-04-03-07-PLSD_ukulhas_ps_ms.tif', '2023-08-20-04-04-02-PLSD_ukulhas_ps_ms.tif', '2023-08-30-05-02-00-PLSD_ukulhas_ps_ms.tif', '2023-09-13-04-04-02-PLSD_ukulhas_ps_ms.tif', '2023-09-30-04-03-08-PLSD_ukulhas_ps_ms.tif', '2023-10-07-05-02-03-PLSD_ukulhas_ps_ms.tif', '2023-10-15-05-02-01-PLSD_ukulhas_ps_ms.tif', '2023-10-16-04-04-06-PLSD_ukulhas_ps_ms.tif', '2023-11-15-05-02-05-PLSD_ukulhas_ps_ms.tif', '2023-12-18-04-04-07-PLSD_ukulhas_ps_ms.tif', '2023-12-24-05-02-06-PLSD_ukulhas_ps_ms.tif', '2022-01-01-05-02-02-S2_ukulhas_ps_ms.tif', '2022-01-26-05-02-00-S2_ukulhas_ps_ms.tif', '2022-01-31-05-02-00-S2_ukulhas_ps_ms.tif', '2023-02-10-05-01-09-S2_ukulhas_ps_ms.tif', '2023-02-15-05-01-09-S2_ukulhas_ps_ms.tif', '2023-02-25-05-01-08-S2_ukulhas_ps_ms.tif', '2023-03-07-05-01-06-S2_ukulhas_ps_ms.tif', '2023-03-12-05-01-06-S2_ukulhas_ps_ms.tif', '2023-04-06-05-01-06-S2_ukulhas_ps_ms.tif', '2023-04-11-05-01-06-S2_ukulhas_ps_ms.tif', '2023-04-21-05-01-06-S2_ukulhas_ps_ms.tif', '2023-05-21-05-01-06-S2_ukulhas_ps_ms.tif', '2023-05-26-05-01-06-S2_ukulhas_ps_ms.tif', '2023-07-15-05-01-06-S2_ukulhas_ps_ms.tif', '2023-08-24-05-01-07-S2_ukulhas_ps_ms.tif', '2023-11-17-05-02-01-S2_ukulhas_ps_ms.tif', '2023-12-02-05-02-01-S2_ukulhas_ps_ms.tif']\n"
     ]
    }
   ],
   "source": [
    "#read pkl file\n",
    "with open('data\\\\ukulhas_ps\\\\ukulhas_ps_metadata.pkl', 'rb') as f:\n",
    "    data = pickle.load(f)\n",
    "    print(data.keys())\n",
    "    print(data['S2'])"
   ]
  },
  {
   "cell_type": "code",
   "execution_count": 5,
   "metadata": {},
   "outputs": [],
   "source": [
    "# region of interest\n",
    "polygon = SDS_tools.polygon_from_kml(os.path.join(os.getcwd(), 'example','ukulhas.kml'))\n",
    "#polygon = aoi\n",
    "# date range\n",
    "dates = ['2022-01-01', '2023-12-30']\n",
    "# satellite missions\n",
    "sat_list = ['S2']\n",
    "# choose Landsat collection 'C01' or 'C02'\n",
    "collection = 'C02'\n",
    "# name of the site\n",
    "sitename = 'ukulhas_ps'#'Madhirivaadhoo_ps'\n",
    "# directory where the data will be stored\n",
    "filepath = os.path.join(os.getcwd(), 'data')\n",
    "# put all the inputs into a dictionnary\n",
    "inputs = {'polygon': polygon, 'dates': dates, 'sat_list': sat_list, 'sitename': sitename, 'filepath':filepath,\n",
    "         'landsat_collection': collection}"
   ]
  },
  {
   "cell_type": "code",
   "execution_count": 6,
   "metadata": {},
   "outputs": [],
   "source": [
    "metadata = SDS_download.get_metadata(inputs) "
   ]
  },
  {
   "cell_type": "code",
   "execution_count": 18,
   "metadata": {},
   "outputs": [],
   "source": [
    "# settings for the sand contour mapping\n",
    "settings = { \n",
    "    # general parameters:\n",
    "    'cloud_thresh': 0.5,        # threshold on maximum cloud cover\n",
    "    'dist_clouds': 300,         # ditance around clouds where shoreline can't be mapped\n",
    "    'output_epsg': 4326,#3857,        # epsg code of spatial reference system desired for the output\n",
    "    # quality control:\n",
    "    'check_detection': False,    # if True, shows each shoreline detection to the user for validation\n",
    "    'adjust_detection': False,  # if True, allows user to adjust the postion of each shoreline by changing the threhold        \n",
    "    'check_detection_sand_poly': False, # if True, uses sand polygon for detection and shows user for validation \n",
    "    'save_figure': True,               # if True, saves a figure showing the mapped shoreline for each image\n",
    "    # add the inputs defined previously\n",
    "    'inputs': inputs,\n",
    "    # [ONLY FOR ADVANCED USERS] shoreline detection parameters:\n",
    "    'min_beach_area': 10,        # minimum area (in metres^2) for an object to be labelled as a beach\n",
    "    'buffer_size': 20,         # radius (in metres) of the buffer around sandy pixels considered in the shoreline detection\n",
    "    'min_length_sl': 50,       # minimum length (in metres) of shoreline perimeter to be valid\n",
    "    'cloud_mask_issue': False,  # switch this parameter to True if sand pixels are masked (in black) on many images\n",
    "    'sand_color': 'default',    # 'default', 'dark' (for grey/black sand beaches) or 'bright' (for white sand beaches)\n",
    "    'pan_off': False,           # True to switch pansharpening off for Landsat 7/8/9 imagery\n",
    "    's2cloudless_prob': 60,     # probability threshold to identify cloudy pixels in the s2cloudless mask\n",
    "}"
   ]
  },
  {
   "cell_type": "markdown",
   "metadata": {},
   "source": [
    "## save jpegs"
   ]
  },
  {
   "cell_type": "code",
   "execution_count": 10,
   "metadata": {},
   "outputs": [
    {
     "name": "stdout",
     "output_type": "stream",
     "text": [
      "Saving images as jpg:\n",
      "S2: 49 images\n",
      "2%Missing bands: []\n",
      "unused bands: ['coastal-blue', 'vegetation-red-edge-1', 'vegetation-red-edge-2', 'vegetation-red-edge-3', 'narrow-near-infrared', 'water-vapor', 'average-scene-water-vapor', 'aerosol-optical-thickness', 'flags', 'mosaic_flags\\n']\n",
      "4%Missing bands: []\n",
      "unused bands: ['coastal-blue', 'vegetation-red-edge-1', 'vegetation-red-edge-2', 'vegetation-red-edge-3', 'narrow-near-infrared', 'water-vapor', 'average-scene-water-vapor', 'aerosol-optical-thickness', 'flags', 'mosaic_flags\\n']\n",
      "6%Missing bands: []\n",
      "unused bands: ['coastal-blue', 'vegetation-red-edge-1', 'vegetation-red-edge-2', 'vegetation-red-edge-3', 'narrow-near-infrared', 'water-vapor', 'average-scene-water-vapor', 'aerosol-optical-thickness', 'flags', 'mosaic_flags\\n']\n",
      "8%Missing bands: ['near-infrared', 'short-wave-infrared-1', 'short-wave-infrared-2']\n",
      "unused bands: ['coastal-blue', 'green053', 'yellow', 'vegetation-red-edge-1', 'flags', 'tmp_flags', 'mosaic_flags\\n']\n",
      "10%Missing bands: ['near-infrared', 'short-wave-infrared-1', 'short-wave-infrared-2']\n",
      "unused bands: ['coastal-blue', 'green053', 'yellow', 'vegetation-red-edge-1', 'flags', 'tmp_flags', 'mosaic_flags\\n']\n",
      "12%Missing bands: ['near-infrared', 'short-wave-infrared-1', 'short-wave-infrared-2']\n",
      "unused bands: ['coastal-blue', 'green053', 'yellow', 'vegetation-red-edge-1', 'flags', 'tmp_flags', 'mosaic_flags\\n']\n",
      "14%Missing bands: ['near-infrared', 'short-wave-infrared-1', 'short-wave-infrared-2']\n",
      "unused bands: ['coastal-blue', 'green053', 'yellow', 'vegetation-red-edge-1', 'flags', 'tmp_flags', 'mosaic_flags\\n']\n",
      "16%Missing bands: ['near-infrared', 'short-wave-infrared-1', 'short-wave-infrared-2']\n",
      "unused bands: ['coastal-blue', 'green053', 'yellow', 'vegetation-red-edge-1', 'flags', 'tmp_flags', 'mosaic_flags\\n']\n",
      "18%Missing bands: ['near-infrared', 'short-wave-infrared-1', 'short-wave-infrared-2']\n",
      "unused bands: ['coastal-blue', 'green053', 'yellow', 'vegetation-red-edge-1', 'flags', 'tmp_flags', 'mosaic_flags\\n']\n",
      "20%Missing bands: ['near-infrared', 'short-wave-infrared-1', 'short-wave-infrared-2']\n",
      "unused bands: ['coastal-blue', 'green053', 'yellow', 'vegetation-red-edge-1', 'flags', 'tmp_flags', 'mosaic_flags\\n']\n",
      "22%Missing bands: []\n",
      "unused bands: ['coastal-blue', 'vegetation-red-edge-1', 'vegetation-red-edge-2', 'vegetation-red-edge-3', 'narrow-near-infrared', 'water-vapor', 'average-scene-water-vapor', 'aerosol-optical-thickness', 'flags', 'mosaic_flags\\n']\n",
      "24%Missing bands: []\n",
      "unused bands: ['coastal-blue', 'vegetation-red-edge-1', 'vegetation-red-edge-2', 'vegetation-red-edge-3', 'narrow-near-infrared', 'water-vapor', 'average-scene-water-vapor', 'aerosol-optical-thickness', 'flags', 'mosaic_flags\\n']\n",
      "26%Missing bands: ['short-wave-infrared-1', 'short-wave-infrared-2']\n",
      "unused bands: ['coastal-blue', 'green053', 'yellow', 'vegetation-red-edge-1', 'flags', 'tmp_flags', 'mosaic_flags\\n']\n",
      "28%Missing bands: []\n",
      "unused bands: ['coastal-blue', 'vegetation-red-edge-1', 'vegetation-red-edge-2', 'vegetation-red-edge-3', 'narrow-near-infrared', 'water-vapor', 'average-scene-water-vapor', 'aerosol-optical-thickness', 'flags', 'mosaic_flags\\n']\n",
      "30%Missing bands: []\n",
      "unused bands: ['coastal-blue', 'vegetation-red-edge-1', 'vegetation-red-edge-2', 'vegetation-red-edge-3', 'narrow-near-infrared', 'water-vapor', 'average-scene-water-vapor', 'aerosol-optical-thickness', 'flags', 'mosaic_flags\\n']\n",
      "32%Missing bands: []\n",
      "unused bands: ['coastal-blue', 'vegetation-red-edge-1', 'vegetation-red-edge-2', 'vegetation-red-edge-3', 'narrow-near-infrared', 'water-vapor', 'average-scene-water-vapor', 'aerosol-optical-thickness', 'flags', 'mosaic_flags\\n']\n",
      "34%Missing bands: ['short-wave-infrared-1', 'short-wave-infrared-2']\n",
      "unused bands: ['coastal-blue', 'green053', 'yellow', 'vegetation-red-edge-1', 'flags', 'tmp_flags', 'mosaic_flags\\n']\n",
      "36%Missing bands: []\n",
      "unused bands: ['coastal-blue', 'vegetation-red-edge-1', 'vegetation-red-edge-2', 'vegetation-red-edge-3', 'narrow-near-infrared', 'water-vapor', 'average-scene-water-vapor', 'aerosol-optical-thickness', 'flags', 'mosaic_flags\\n']\n",
      "38%Missing bands: []\n",
      "unused bands: ['coastal-blue', 'vegetation-red-edge-1', 'vegetation-red-edge-2', 'vegetation-red-edge-3', 'narrow-near-infrared', 'water-vapor', 'average-scene-water-vapor', 'aerosol-optical-thickness', 'flags', 'mosaic_flags\\n']\n",
      "40%Missing bands: ['short-wave-infrared-1', 'short-wave-infrared-2']\n",
      "unused bands: ['coastal-blue', 'green053', 'yellow', 'vegetation-red-edge-1', 'flags', 'tmp_flags', 'mosaic_flags\\n']\n",
      "42%Missing bands: []\n",
      "unused bands: ['coastal-blue', 'vegetation-red-edge-1', 'vegetation-red-edge-2', 'vegetation-red-edge-3', 'narrow-near-infrared', 'water-vapor', 'average-scene-water-vapor', 'aerosol-optical-thickness', 'flags', 'mosaic_flags\\n']\n",
      "44%Missing bands: ['short-wave-infrared-1', 'short-wave-infrared-2']\n",
      "unused bands: ['coastal-blue', 'green053', 'yellow', 'vegetation-red-edge-1', 'flags', 'tmp_flags', 'mosaic_flags\\n']\n",
      "46%Missing bands: ['short-wave-infrared-1', 'short-wave-infrared-2']\n",
      "unused bands: ['coastal-blue', 'green053', 'yellow', 'vegetation-red-edge-1', 'flags', 'tmp_flags', 'mosaic_flags\\n']\n",
      "48%Missing bands: ['short-wave-infrared-1', 'short-wave-infrared-2']\n",
      "unused bands: ['coastal-blue', 'green053', 'yellow', 'vegetation-red-edge-1', 'flags', 'tmp_flags', 'mosaic_flags\\n']\n",
      "51%Missing bands: []\n",
      "unused bands: ['coastal-blue', 'vegetation-red-edge-1', 'vegetation-red-edge-2', 'vegetation-red-edge-3', 'narrow-near-infrared', 'water-vapor', 'average-scene-water-vapor', 'aerosol-optical-thickness', 'flags', 'mosaic_flags\\n']\n",
      "53%Missing bands: []\n",
      "unused bands: ['coastal-blue', 'vegetation-red-edge-1', 'vegetation-red-edge-2', 'vegetation-red-edge-3', 'narrow-near-infrared', 'water-vapor', 'average-scene-water-vapor', 'aerosol-optical-thickness', 'flags', 'mosaic_flags\\n']\n",
      "55%Missing bands: ['short-wave-infrared-1', 'short-wave-infrared-2']\n",
      "unused bands: ['coastal-blue', 'green053', 'yellow', 'vegetation-red-edge-1', 'flags', 'tmp_flags', 'mosaic_flags\\n']\n",
      "57%Missing bands: ['short-wave-infrared-1', 'short-wave-infrared-2']\n",
      "unused bands: ['coastal-blue', 'green053', 'yellow', 'vegetation-red-edge-1', 'flags', 'tmp_flags', 'mosaic_flags\\n']\n",
      "59%Missing bands: ['short-wave-infrared-1', 'short-wave-infrared-2']\n",
      "unused bands: ['coastal-blue', 'green053', 'yellow', 'vegetation-red-edge-1', 'flags', 'tmp_flags', 'mosaic_flags\\n']\n",
      "61%Missing bands: []\n",
      "unused bands: ['coastal-blue', 'vegetation-red-edge-1', 'vegetation-red-edge-2', 'vegetation-red-edge-3', 'narrow-near-infrared', 'water-vapor', 'average-scene-water-vapor', 'aerosol-optical-thickness', 'flags', 'mosaic_flags\\n']\n",
      "63%Missing bands: ['short-wave-infrared-1', 'short-wave-infrared-2']\n",
      "unused bands: ['coastal-blue', 'green053', 'yellow', 'vegetation-red-edge-1', 'flags', 'tmp_flags', 'mosaic_flags\\n']\n",
      "65%Missing bands: ['short-wave-infrared-1', 'short-wave-infrared-2']\n",
      "unused bands: ['coastal-blue', 'green053', 'yellow', 'vegetation-red-edge-1', 'flags', 'tmp_flags', 'mosaic_flags\\n']\n",
      "67%Missing bands: ['short-wave-infrared-1', 'short-wave-infrared-2']\n",
      "unused bands: ['coastal-blue', 'green053', 'yellow', 'vegetation-red-edge-1', 'flags', 'tmp_flags', 'mosaic_flags\\n']\n",
      "69%Missing bands: ['short-wave-infrared-1', 'short-wave-infrared-2']\n",
      "unused bands: ['coastal-blue', 'green053', 'yellow', 'vegetation-red-edge-1', 'flags', 'tmp_flags', 'mosaic_flags\\n']\n",
      "71%Missing bands: ['short-wave-infrared-1', 'short-wave-infrared-2']\n",
      "unused bands: ['coastal-blue', 'green053', 'yellow', 'vegetation-red-edge-1', 'flags', 'tmp_flags', 'mosaic_flags\\n']\n",
      "73%Missing bands: ['short-wave-infrared-1', 'short-wave-infrared-2']\n",
      "unused bands: ['coastal-blue', 'green053', 'yellow', 'vegetation-red-edge-1', 'flags', 'tmp_flags', 'mosaic_flags\\n']\n",
      "75%Missing bands: ['short-wave-infrared-1', 'short-wave-infrared-2']\n",
      "unused bands: ['coastal-blue', 'green053', 'yellow', 'vegetation-red-edge-1', 'flags', 'tmp_flags', 'mosaic_flags\\n']\n",
      "77%Missing bands: []\n",
      "unused bands: ['coastal-blue', 'vegetation-red-edge-1', 'vegetation-red-edge-2', 'vegetation-red-edge-3', 'narrow-near-infrared', 'water-vapor', 'average-scene-water-vapor', 'aerosol-optical-thickness', 'flags', 'mosaic_flags\\n']\n",
      "79%Missing bands: ['short-wave-infrared-1', 'short-wave-infrared-2']\n",
      "unused bands: ['coastal-blue', 'green053', 'yellow', 'vegetation-red-edge-1', 'flags', 'tmp_flags', 'mosaic_flags\\n']\n",
      "81%Missing bands: ['short-wave-infrared-1', 'short-wave-infrared-2']\n",
      "unused bands: ['coastal-blue', 'green053', 'yellow', 'vegetation-red-edge-1', 'flags', 'tmp_flags', 'mosaic_flags\\n']\n",
      "83%Missing bands: ['short-wave-infrared-1', 'short-wave-infrared-2']\n",
      "unused bands: ['coastal-blue', 'green053', 'yellow', 'vegetation-red-edge-1', 'flags', 'tmp_flags', 'mosaic_flags\\n']\n",
      "85%Missing bands: ['short-wave-infrared-1', 'short-wave-infrared-2']\n",
      "unused bands: ['coastal-blue', 'green053', 'yellow', 'vegetation-red-edge-1', 'flags', 'tmp_flags', 'mosaic_flags\\n']\n",
      "87%Missing bands: ['short-wave-infrared-1', 'short-wave-infrared-2']\n",
      "unused bands: ['coastal-blue', 'green053', 'yellow', 'vegetation-red-edge-1', 'flags', 'tmp_flags', 'mosaic_flags\\n']\n",
      "89%Missing bands: ['short-wave-infrared-1', 'short-wave-infrared-2']\n",
      "unused bands: ['coastal-blue', 'green053', 'yellow', 'vegetation-red-edge-1', 'flags', 'tmp_flags', 'mosaic_flags\\n']\n",
      "91%Missing bands: ['short-wave-infrared-1', 'short-wave-infrared-2']\n",
      "unused bands: ['coastal-blue', 'green053', 'yellow', 'vegetation-red-edge-1', 'flags', 'tmp_flags', 'mosaic_flags\\n']\n",
      "93%Missing bands: []\n",
      "unused bands: ['coastal-blue', 'vegetation-red-edge-1', 'vegetation-red-edge-2', 'vegetation-red-edge-3', 'narrow-near-infrared', 'water-vapor', 'average-scene-water-vapor', 'aerosol-optical-thickness', 'flags', 'mosaic_flags\\n']\n",
      "95%Missing bands: []\n",
      "unused bands: ['coastal-blue', 'vegetation-red-edge-1', 'vegetation-red-edge-2', 'vegetation-red-edge-3', 'narrow-near-infrared', 'water-vapor', 'average-scene-water-vapor', 'aerosol-optical-thickness', 'flags', 'mosaic_flags\\n']\n",
      "97%Missing bands: ['short-wave-infrared-1', 'short-wave-infrared-2']\n",
      "unused bands: ['coastal-blue', 'green053', 'yellow', 'vegetation-red-edge-1', 'flags', 'tmp_flags', 'mosaic_flags\\n']\n",
      "100%Missing bands: ['short-wave-infrared-1', 'short-wave-infrared-2']\n",
      "unused bands: ['coastal-blue', 'green053', 'yellow', 'vegetation-red-edge-1', 'flags', 'tmp_flags', 'mosaic_flags\\n']\n",
      "\n",
      "Satellite images saved as .jpg in d:\\Github\\CoastSat\\data\\ukulhas_ps\\jpg_files\\preprocessed\n"
     ]
    }
   ],
   "source": [
    "SDS_preprocess_med.save_jpg(metadata, settings)"
   ]
  },
  {
   "cell_type": "markdown",
   "metadata": {},
   "source": [
    "## extract shorelines"
   ]
  },
  {
   "cell_type": "code",
   "execution_count": 19,
   "metadata": {},
   "outputs": [
    {
     "name": "stdout",
     "output_type": "stream",
     "text": [
      "Reference shoreline already exists and was loaded\n",
      "Reference shoreline coordinates are in epsg:4326\n"
     ]
    }
   ],
   "source": [
    "%matplotlib qt\n",
    "settings['reference_shoreline'] = SDS_preprocess_med.get_reference_sl(metadata, settings)\n",
    "settings['max_dist_ref'] = 50 # max distance (in meters) allowed from the reference shoreline"
   ]
  },
  {
   "cell_type": "code",
   "execution_count": 20,
   "metadata": {},
   "outputs": [],
   "source": [
    "#if periodic, set the last point equal to the first point\n",
    "settings['periodic'] = True\n",
    "# fit a nurbs curve through the shoreline\n",
    "settings['reference_nurbs'] = SDS_universal_transects.fit_nurbs(settings['reference_shoreline'],degree=3,size=24,periodic=settings['periodic'])"
   ]
  },
  {
   "cell_type": "code",
   "execution_count": 21,
   "metadata": {},
   "outputs": [
    {
     "name": "stdout",
     "output_type": "stream",
     "text": [
      "Mapping shorelines:\n",
      "S2:   2%Missing bands: []\n",
      "unused bands: ['coastal-blue', 'vegetation-red-edge-1', 'vegetation-red-edge-2', 'vegetation-red-edge-3', 'narrow-near-infrared', 'water-vapor', 'average-scene-water-vapor', 'aerosol-optical-thickness', 'flags', 'mosaic_flags\\n']\n",
      "S2:   4%Missing bands: []\n",
      "unused bands: ['coastal-blue', 'vegetation-red-edge-1', 'vegetation-red-edge-2', 'vegetation-red-edge-3', 'narrow-near-infrared', 'water-vapor', 'average-scene-water-vapor', 'aerosol-optical-thickness', 'flags', 'mosaic_flags\\n']\n",
      "S2:   6%Missing bands: []\n",
      "unused bands: ['coastal-blue', 'vegetation-red-edge-1', 'vegetation-red-edge-2', 'vegetation-red-edge-3', 'narrow-near-infrared', 'water-vapor', 'average-scene-water-vapor', 'aerosol-optical-thickness', 'flags', 'mosaic_flags\\n']\n",
      "S2:   8%Missing bands: ['near-infrared', 'short-wave-infrared-1', 'short-wave-infrared-2']\n",
      "unused bands: ['coastal-blue', 'green053', 'yellow', 'vegetation-red-edge-1', 'flags', 'tmp_flags', 'mosaic_flags\\n']\n",
      "S2:   10%Missing bands: ['near-infrared', 'short-wave-infrared-1', 'short-wave-infrared-2']\n",
      "unused bands: ['coastal-blue', 'green053', 'yellow', 'vegetation-red-edge-1', 'flags', 'tmp_flags', 'mosaic_flags\\n']\n",
      "S2:   12%Missing bands: ['near-infrared', 'short-wave-infrared-1', 'short-wave-infrared-2']\n",
      "unused bands: ['coastal-blue', 'green053', 'yellow', 'vegetation-red-edge-1', 'flags', 'tmp_flags', 'mosaic_flags\\n']\n",
      "S2:   14%Missing bands: ['near-infrared', 'short-wave-infrared-1', 'short-wave-infrared-2']\n",
      "unused bands: ['coastal-blue', 'green053', 'yellow', 'vegetation-red-edge-1', 'flags', 'tmp_flags', 'mosaic_flags\\n']\n",
      "S2:   16%Missing bands: ['near-infrared', 'short-wave-infrared-1', 'short-wave-infrared-2']\n",
      "unused bands: ['coastal-blue', 'green053', 'yellow', 'vegetation-red-edge-1', 'flags', 'tmp_flags', 'mosaic_flags\\n']\n",
      "S2:   18%Missing bands: ['near-infrared', 'short-wave-infrared-1', 'short-wave-infrared-2']\n",
      "unused bands: ['coastal-blue', 'green053', 'yellow', 'vegetation-red-edge-1', 'flags', 'tmp_flags', 'mosaic_flags\\n']\n",
      "S2:   20%Missing bands: ['near-infrared', 'short-wave-infrared-1', 'short-wave-infrared-2']\n",
      "unused bands: ['coastal-blue', 'green053', 'yellow', 'vegetation-red-edge-1', 'flags', 'tmp_flags', 'mosaic_flags\\n']\n",
      "S2:   22%Missing bands: []\n",
      "unused bands: ['coastal-blue', 'vegetation-red-edge-1', 'vegetation-red-edge-2', 'vegetation-red-edge-3', 'narrow-near-infrared', 'water-vapor', 'average-scene-water-vapor', 'aerosol-optical-thickness', 'flags', 'mosaic_flags\\n']\n",
      "S2:   24%Missing bands: []\n",
      "unused bands: ['coastal-blue', 'vegetation-red-edge-1', 'vegetation-red-edge-2', 'vegetation-red-edge-3', 'narrow-near-infrared', 'water-vapor', 'average-scene-water-vapor', 'aerosol-optical-thickness', 'flags', 'mosaic_flags\\n']\n",
      "S2:   26%Missing bands: ['short-wave-infrared-1', 'short-wave-infrared-2']\n",
      "unused bands: ['coastal-blue', 'green053', 'yellow', 'vegetation-red-edge-1', 'flags', 'tmp_flags', 'mosaic_flags\\n']\n",
      "S2:   28%Missing bands: []\n",
      "unused bands: ['coastal-blue', 'vegetation-red-edge-1', 'vegetation-red-edge-2', 'vegetation-red-edge-3', 'narrow-near-infrared', 'water-vapor', 'average-scene-water-vapor', 'aerosol-optical-thickness', 'flags', 'mosaic_flags\\n']\n",
      "S2:   30%Missing bands: []\n",
      "unused bands: ['coastal-blue', 'vegetation-red-edge-1', 'vegetation-red-edge-2', 'vegetation-red-edge-3', 'narrow-near-infrared', 'water-vapor', 'average-scene-water-vapor', 'aerosol-optical-thickness', 'flags', 'mosaic_flags\\n']\n",
      "S2:   32%Missing bands: []\n",
      "unused bands: ['coastal-blue', 'vegetation-red-edge-1', 'vegetation-red-edge-2', 'vegetation-red-edge-3', 'narrow-near-infrared', 'water-vapor', 'average-scene-water-vapor', 'aerosol-optical-thickness', 'flags', 'mosaic_flags\\n']\n",
      "S2:   34%Missing bands: ['short-wave-infrared-1', 'short-wave-infrared-2']\n",
      "unused bands: ['coastal-blue', 'green053', 'yellow', 'vegetation-red-edge-1', 'flags', 'tmp_flags', 'mosaic_flags\\n']\n",
      "S2:   36%Missing bands: []\n",
      "unused bands: ['coastal-blue', 'vegetation-red-edge-1', 'vegetation-red-edge-2', 'vegetation-red-edge-3', 'narrow-near-infrared', 'water-vapor', 'average-scene-water-vapor', 'aerosol-optical-thickness', 'flags', 'mosaic_flags\\n']\n",
      "S2:   38%Missing bands: []\n",
      "unused bands: ['coastal-blue', 'vegetation-red-edge-1', 'vegetation-red-edge-2', 'vegetation-red-edge-3', 'narrow-near-infrared', 'water-vapor', 'average-scene-water-vapor', 'aerosol-optical-thickness', 'flags', 'mosaic_flags\\n']\n",
      "S2:   40%Missing bands: ['short-wave-infrared-1', 'short-wave-infrared-2']\n",
      "unused bands: ['coastal-blue', 'green053', 'yellow', 'vegetation-red-edge-1', 'flags', 'tmp_flags', 'mosaic_flags\\n']\n",
      "S2:   42%Missing bands: []\n",
      "unused bands: ['coastal-blue', 'vegetation-red-edge-1', 'vegetation-red-edge-2', 'vegetation-red-edge-3', 'narrow-near-infrared', 'water-vapor', 'average-scene-water-vapor', 'aerosol-optical-thickness', 'flags', 'mosaic_flags\\n']\n",
      "S2:   44%Missing bands: ['short-wave-infrared-1', 'short-wave-infrared-2']\n",
      "unused bands: ['coastal-blue', 'green053', 'yellow', 'vegetation-red-edge-1', 'flags', 'tmp_flags', 'mosaic_flags\\n']\n",
      "S2:   46%Missing bands: ['short-wave-infrared-1', 'short-wave-infrared-2']\n",
      "unused bands: ['coastal-blue', 'green053', 'yellow', 'vegetation-red-edge-1', 'flags', 'tmp_flags', 'mosaic_flags\\n']\n",
      "S2:   48%Missing bands: ['short-wave-infrared-1', 'short-wave-infrared-2']\n",
      "unused bands: ['coastal-blue', 'green053', 'yellow', 'vegetation-red-edge-1', 'flags', 'tmp_flags', 'mosaic_flags\\n']\n",
      "S2:   51%Missing bands: []\n",
      "unused bands: ['coastal-blue', 'vegetation-red-edge-1', 'vegetation-red-edge-2', 'vegetation-red-edge-3', 'narrow-near-infrared', 'water-vapor', 'average-scene-water-vapor', 'aerosol-optical-thickness', 'flags', 'mosaic_flags\\n']\n",
      "S2:   53%Missing bands: []\n",
      "unused bands: ['coastal-blue', 'vegetation-red-edge-1', 'vegetation-red-edge-2', 'vegetation-red-edge-3', 'narrow-near-infrared', 'water-vapor', 'average-scene-water-vapor', 'aerosol-optical-thickness', 'flags', 'mosaic_flags\\n']\n",
      "S2:   55%Missing bands: ['short-wave-infrared-1', 'short-wave-infrared-2']\n",
      "unused bands: ['coastal-blue', 'green053', 'yellow', 'vegetation-red-edge-1', 'flags', 'tmp_flags', 'mosaic_flags\\n']\n",
      "S2:   57%Missing bands: ['short-wave-infrared-1', 'short-wave-infrared-2']\n",
      "unused bands: ['coastal-blue', 'green053', 'yellow', 'vegetation-red-edge-1', 'flags', 'tmp_flags', 'mosaic_flags\\n']\n",
      "S2:   59%Missing bands: ['short-wave-infrared-1', 'short-wave-infrared-2']\n",
      "unused bands: ['coastal-blue', 'green053', 'yellow', 'vegetation-red-edge-1', 'flags', 'tmp_flags', 'mosaic_flags\\n']\n",
      "S2:   61%Missing bands: []\n",
      "unused bands: ['coastal-blue', 'vegetation-red-edge-1', 'vegetation-red-edge-2', 'vegetation-red-edge-3', 'narrow-near-infrared', 'water-vapor', 'average-scene-water-vapor', 'aerosol-optical-thickness', 'flags', 'mosaic_flags\\n']\n",
      "S2:   63%Missing bands: ['short-wave-infrared-1', 'short-wave-infrared-2']\n",
      "unused bands: ['coastal-blue', 'green053', 'yellow', 'vegetation-red-edge-1', 'flags', 'tmp_flags', 'mosaic_flags\\n']\n",
      "S2:   65%Missing bands: ['short-wave-infrared-1', 'short-wave-infrared-2']\n",
      "unused bands: ['coastal-blue', 'green053', 'yellow', 'vegetation-red-edge-1', 'flags', 'tmp_flags', 'mosaic_flags\\n']\n",
      "S2:   67%Missing bands: ['short-wave-infrared-1', 'short-wave-infrared-2']\n",
      "unused bands: ['coastal-blue', 'green053', 'yellow', 'vegetation-red-edge-1', 'flags', 'tmp_flags', 'mosaic_flags\\n']\n",
      "S2:   69%Missing bands: ['short-wave-infrared-1', 'short-wave-infrared-2']\n",
      "unused bands: ['coastal-blue', 'green053', 'yellow', 'vegetation-red-edge-1', 'flags', 'tmp_flags', 'mosaic_flags\\n']\n",
      "S2:   71%Missing bands: ['short-wave-infrared-1', 'short-wave-infrared-2']\n",
      "unused bands: ['coastal-blue', 'green053', 'yellow', 'vegetation-red-edge-1', 'flags', 'tmp_flags', 'mosaic_flags\\n']\n",
      "S2:   73%Missing bands: ['short-wave-infrared-1', 'short-wave-infrared-2']\n",
      "unused bands: ['coastal-blue', 'green053', 'yellow', 'vegetation-red-edge-1', 'flags', 'tmp_flags', 'mosaic_flags\\n']\n",
      "S2:   75%Missing bands: ['short-wave-infrared-1', 'short-wave-infrared-2']\n",
      "unused bands: ['coastal-blue', 'green053', 'yellow', 'vegetation-red-edge-1', 'flags', 'tmp_flags', 'mosaic_flags\\n']\n",
      "S2:   77%Missing bands: []\n",
      "unused bands: ['coastal-blue', 'vegetation-red-edge-1', 'vegetation-red-edge-2', 'vegetation-red-edge-3', 'narrow-near-infrared', 'water-vapor', 'average-scene-water-vapor', 'aerosol-optical-thickness', 'flags', 'mosaic_flags\\n']\n",
      "S2:   79%Missing bands: ['short-wave-infrared-1', 'short-wave-infrared-2']\n",
      "unused bands: ['coastal-blue', 'green053', 'yellow', 'vegetation-red-edge-1', 'flags', 'tmp_flags', 'mosaic_flags\\n']\n",
      "S2:   81%Missing bands: ['short-wave-infrared-1', 'short-wave-infrared-2']\n",
      "unused bands: ['coastal-blue', 'green053', 'yellow', 'vegetation-red-edge-1', 'flags', 'tmp_flags', 'mosaic_flags\\n']\n",
      "S2:   83%Missing bands: ['short-wave-infrared-1', 'short-wave-infrared-2']\n",
      "unused bands: ['coastal-blue', 'green053', 'yellow', 'vegetation-red-edge-1', 'flags', 'tmp_flags', 'mosaic_flags\\n']\n",
      "S2:   85%Missing bands: ['short-wave-infrared-1', 'short-wave-infrared-2']\n",
      "unused bands: ['coastal-blue', 'green053', 'yellow', 'vegetation-red-edge-1', 'flags', 'tmp_flags', 'mosaic_flags\\n']\n",
      "S2:   87%Missing bands: ['short-wave-infrared-1', 'short-wave-infrared-2']\n",
      "unused bands: ['coastal-blue', 'green053', 'yellow', 'vegetation-red-edge-1', 'flags', 'tmp_flags', 'mosaic_flags\\n']\n",
      "S2:   89%Missing bands: ['short-wave-infrared-1', 'short-wave-infrared-2']\n",
      "unused bands: ['coastal-blue', 'green053', 'yellow', 'vegetation-red-edge-1', 'flags', 'tmp_flags', 'mosaic_flags\\n']\n",
      "S2:   91%Missing bands: ['short-wave-infrared-1', 'short-wave-infrared-2']\n",
      "unused bands: ['coastal-blue', 'green053', 'yellow', 'vegetation-red-edge-1', 'flags', 'tmp_flags', 'mosaic_flags\\n']\n",
      "S2:   93%Missing bands: []\n",
      "unused bands: ['coastal-blue', 'vegetation-red-edge-1', 'vegetation-red-edge-2', 'vegetation-red-edge-3', 'narrow-near-infrared', 'water-vapor', 'average-scene-water-vapor', 'aerosol-optical-thickness', 'flags', 'mosaic_flags\\n']\n",
      "S2:   95%Missing bands: []\n",
      "unused bands: ['coastal-blue', 'vegetation-red-edge-1', 'vegetation-red-edge-2', 'vegetation-red-edge-3', 'narrow-near-infrared', 'water-vapor', 'average-scene-water-vapor', 'aerosol-optical-thickness', 'flags', 'mosaic_flags\\n']\n",
      "S2:   97%Missing bands: ['short-wave-infrared-1', 'short-wave-infrared-2']\n",
      "unused bands: ['coastal-blue', 'green053', 'yellow', 'vegetation-red-edge-1', 'flags', 'tmp_flags', 'mosaic_flags\\n']\n",
      "S2:   100%Missing bands: ['short-wave-infrared-1', 'short-wave-infrared-2']\n",
      "unused bands: ['coastal-blue', 'green053', 'yellow', 'vegetation-red-edge-1', 'flags', 'tmp_flags', 'mosaic_flags\\n']\n",
      "\n"
     ]
    }
   ],
   "source": [
    "%matplotlib inline\n",
    "output = SDS_preprocess_med.extract_shorelines(metadata, settings)"
   ]
  },
  {
   "cell_type": "code",
   "execution_count": 22,
   "metadata": {},
   "outputs": [
    {
     "name": "stdout",
     "output_type": "stream",
     "text": [
      "0 duplicates\n",
      "0 bad georef\n"
     ]
    }
   ],
   "source": [
    "output = SDS_tools.remove_duplicates(output) # removes duplicates (images taken on the same date by the same satellite)\n",
    "output = SDS_tools.remove_inaccurate_georef(output, 10) # remove inaccurate georeferencing (set threshold to 10 m)"
   ]
  },
  {
   "cell_type": "code",
   "execution_count": 23,
   "metadata": {},
   "outputs": [],
   "source": [
    "filepath = os.path.join(inputs['filepath'], sitename)\n",
    "with open(os.path.join(filepath, sitename + '_output' + '.pkl'), 'rb') as f:\n",
    "    output = pickle.load(f)"
   ]
  },
  {
   "cell_type": "code",
   "execution_count": 24,
   "metadata": {},
   "outputs": [
    {
     "name": "stdout",
     "output_type": "stream",
     "text": [
      "49\n",
      "0 shorelines with gaps removed\n",
      "49\n"
     ]
    }
   ],
   "source": [
    "print(len(output['dates']))\n",
    "output = SDS_universal_transects.remove_gaps(output,100)\n",
    "print(len(output['dates']))"
   ]
  },
  {
   "cell_type": "code",
   "execution_count": 27,
   "metadata": {},
   "outputs": [],
   "source": [
    "from datetime import datetime\n",
    "\n",
    "csvpath = os.path.join(inputs['filepath'], sitename)\n",
    "csvpath = csvpath +\"/\"+ sitename + '_output.csv'\n",
    "\n",
    "#export boundaries as csv\n",
    "shorelines = output['shorelines']\n",
    "dates = output['dates']\n",
    "for i in range(len(shorelines)):\n",
    "    distances = [datetime.strftime(dates[i],'%Y-%m-%d')] \n",
    "    for j in range(len(shorelines[i])):\n",
    "        distances.append(str(shorelines[i][j])) \n",
    "    SDS_universal_transects.add_line_to_csv(distances,csvpath)\n",
    "\n",
    "SDS_universal_transects.infill_missing_days(csvpath)"
   ]
  }
 ],
 "metadata": {
  "kernelspec": {
   "display_name": "Python 3",
   "language": "python",
   "name": "python3"
  },
  "language_info": {
   "codemirror_mode": {
    "name": "ipython",
    "version": 3
   },
   "file_extension": ".py",
   "mimetype": "text/x-python",
   "name": "python",
   "nbconvert_exporter": "python",
   "pygments_lexer": "ipython3",
   "version": "3.8.15"
  },
  "toc": {
   "base_numbering": 1,
   "nav_menu": {},
   "number_sections": true,
   "sideBar": true,
   "skip_h1_title": false,
   "title_cell": "Table of Contents",
   "title_sidebar": "Contents",
   "toc_cell": false,
   "toc_position": {},
   "toc_section_display": true,
   "toc_window_display": false
  },
  "varInspector": {
   "cols": {
    "lenName": 16,
    "lenType": 16,
    "lenVar": 40
   },
   "kernels_config": {
    "python": {
     "delete_cmd_postfix": "",
     "delete_cmd_prefix": "del ",
     "library": "var_list.py",
     "varRefreshCmd": "print(var_dic_list())"
    },
    "r": {
     "delete_cmd_postfix": ") ",
     "delete_cmd_prefix": "rm(",
     "library": "var_list.r",
     "varRefreshCmd": "cat(var_dic_list()) "
    }
   },
   "types_to_exclude": [
    "module",
    "function",
    "builtin_function_or_method",
    "instance",
    "_Feature"
   ],
   "window_display": false
  }
 },
 "nbformat": 4,
 "nbformat_minor": 2
}
