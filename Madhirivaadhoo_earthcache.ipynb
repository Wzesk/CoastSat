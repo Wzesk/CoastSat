{
 "cells": [
  {
   "attachments": {},
   "cell_type": "markdown",
   "metadata": {},
   "source": [
    "https://www.wrl.unsw.edu.au/news/coastsat-how-to-estimate-beach-slopes-using-satellite-imagery\n",
    "https://www.wrl.unsw.edu.au/research/coastsat\n"
   ]
  },
  {
   "cell_type": "code",
   "execution_count": 1,
   "metadata": {
    "tags": []
   },
   "outputs": [],
   "source": [
    "%load_ext autoreload\n",
    "%autoreload 2\n",
    "import os\n",
    "import numpy as np\n",
    "import pickle\n",
    "import warnings\n",
    "import time\n",
    "warnings.filterwarnings(\"ignore\")\n",
    "import matplotlib\n",
    "matplotlib.use('Qt5Agg')\n",
    "import matplotlib.pyplot as plt\n",
    "from matplotlib import gridspec\n",
    "plt.ion()\n",
    "import pandas as pd\n",
    "from datetime import datetime\n",
    "from coastsat import SDS_earthcache_api, SDS_preprocess, SDS_shoreline, SDS_tools, SDS_transects, SDS_earthcache_client"
   ]
  },
  {
   "cell_type": "markdown",
   "metadata": {},
   "source": [
    "## 1. Retrieval of the images from Earthcache\n",
    "\n",
    "****this part is what is different --> using earthcache to retrieve images****"
   ]
  },
  {
   "cell_type": "code",
   "execution_count": 8,
   "metadata": {},
   "outputs": [],
   "source": [
    "#setup monthly pipelines\n",
    "def fmt(x):\n",
    "    if x < 10:\n",
    "        return '0' + str(x)\n",
    "    else:\n",
    "        return str(x)\n",
    "def monthly_pipes(startyear,endyear=2024):  \n",
    "    starts = [] ; ends = []\n",
    "    dates = range(startyear, endyear)  \n",
    "    for y in dates:\n",
    "        for m in range(1, 13):\n",
    "            starts.append(str(y) + '-' + fmt(m) + '-01')\n",
    "            if m == 2:\n",
    "                ends.append(str(y) + '-' + fmt(m) + '-28')\n",
    "            elif m in [4, 6, 9, 11]:\n",
    "                ends.append(str(y) + '-' + fmt(m) + '-30')\n",
    "            else:\n",
    "                ends.append(str(y) + '-' + fmt(m) + '-31')\n",
    "    return starts, ends"
   ]
  },
  {
   "cell_type": "code",
   "execution_count": 7,
   "metadata": {},
   "outputs": [
    {
     "data": {
      "text/plain": [
       "['2023-01-31',\n",
       " '2023-02-28',\n",
       " '2023-03-31',\n",
       " '2023-04-30',\n",
       " '2023-05-31',\n",
       " '2023-06-30',\n",
       " '2023-07-31',\n",
       " '2023-08-31',\n",
       " '2023-09-30',\n",
       " '2023-10-31',\n",
       " '2023-11-30',\n",
       " '2023-12-31']"
      ]
     },
     "execution_count": 7,
     "metadata": {},
     "output_type": "execute_result"
    }
   ],
   "source": [
    "# these coordinates are a rectangle around the island of Madhirivaadhoo\n",
    "aoi = { \"type\": \"Polygon\", \n",
    "        \"coordinates\": [\n",
    "      [\n",
    "        [\n",
    "          72.94835170895487,\n",
    "          5.464405141242935\n",
    "        ],\n",
    "        [\n",
    "          72.94835170895487,\n",
    "          5.452180140477154\n",
    "        ],\n",
    "        [\n",
    "          72.96171014465997,\n",
    "          5.452180140477154\n",
    "        ],\n",
    "        [\n",
    "          72.96171014465997,\n",
    "          5.464405141242935\n",
    "        ],\n",
    "        [\n",
    "          72.94835170895487,\n",
    "          5.464405141242935\n",
    "        ]\n",
    "      ]\n",
    "    ]\n",
    "    }"
   ]
  },
  {
   "cell_type": "code",
   "execution_count": 3,
   "metadata": {
    "tags": []
   },
   "outputs": [],
   "source": [
    "# region of interest (longitude, latitude)\n",
    "# change this depending on where we want images of\n",
    "# can also use SDS_tools to read from geojson or kml\n",
    "key = input(\"please enter your API key for Earthcache:\")\n",
    "resolution = [ 'low' ]\n",
    "location_name = 'Madhirivaadhoo_'\n",
    "\n",
    "# need to specify what type of images want to be downloaded\n",
    "image_type = \"a8fc3dde-a3e8-11e7-9793-ae4260ee3b4b\" #ID for true color image\n",
    "# the available IDs can be found at: https://support.skywatch.com/hc/en-us/articles/7297565063067-Available-Outputs\n",
    "# look at the SDS_earthcache_api.py file for more options\n",
    "# like searching, creating a pipeline from a search, and getting the max cost of a pipeline"
   ]
  },
  {
   "cell_type": "code",
   "execution_count": 4,
   "metadata": {},
   "outputs": [
    {
     "name": "stdout",
     "output_type": "stream",
     "text": [
      "d5431cc4-b43b-4f31-8db4-d1efe9e589c9\n",
      "201 {'data': {'id': '3b8fe191-ead6-11ee-bb2d-539166b49226', 'name': 'Madhirivaadhoo_2023-01-01', 'start_date': '2023-01-01', 'end_date': '2023-01-30', 'aoi': {'type': 'Polygon', 'coordinates': [[[72.94835170895487, 5.464405141242935], [72.94835170895487, 5.452180140477154], [72.96171014465997, 5.452180140477154], [72.96171014465997, 5.464405141242935], [72.94835170895487, 5.464405141242935]]]}, 'area_km2': 2.0145276052499086, 'cloud_cover_percentage': 100, 'min_aoi_coverage_percentage': 0, 'interval': '30d', 'resolution_low': 30, 'resolution_high': 10, 'status': 'pending', 'tags': None, 'created_at': '2024-03-25T18:33:53.775090Z', 'updated_at': '2024-03-25T18:33:53.775090Z', 'max_cost': 0, 'result_delivery': {'max_latency': '0d', 'priorities': ['lowest_cost']}, 'output': {'id': 'a8fc3dde-a3e8-11e7-9793-ae4260ee3b4b', 'format': 'geotiff', 'mosaic': 'stitched'}}}\n",
      "200 {'data': {'id': '3b8fe191-ead6-11ee-bb2d-539166b49226', 'org_id': '001JR00000AfBY1YAN', 'name': 'Madhirivaadhoo_2023-01-01', 'start_date': '2023-01-01', 'end_date': '2023-01-30', 'aoi': {'type': 'Polygon', 'coordinates': [[[72.94835170895487, 5.464405141242935], [72.94835170895487, 5.452180140477154], [72.96171014465997, 5.452180140477154], [72.96171014465997, 5.464405141242935], [72.94835170895487, 5.464405141242935]]]}, 'area_km2': 2.0145276052499086, 'cloud_cover_percentage': 100, 'min_aoi_coverage_percentage': 0, 'interval': '30d', 'resolution_low': 30, 'resolution_high': 10, 'output': {'id': 'a8fc3dde-a3e8-11e7-9793-ae4260ee3b4b', 'format': 'geotiff', 'mosaic': 'stitched'}, 'status': 'active', 'tags': [], 'result_delivery': {'max_latency': '0d', 'priorities': ['lowest_cost']}, 'created_at': '2024-03-25T18:33:53.775090Z', 'updated_at': '2024-03-25T18:33:54Z', 'max_cost': 0, 'user_information': {}}}\n",
      "400 {'errors': [{'message': \"'end_date' = 2023-02-30 is invalid. '2023-02-30' is not a 'date'\"}]}\n",
      "404 {'errors': [{'message': 'Not found'}]}\n",
      "201 {'data': {'id': '4d49a314-ead6-11ee-95e5-539166b49226', 'name': 'Madhirivaadhoo_2023-03-01', 'start_date': '2023-03-01', 'end_date': '2023-03-30', 'aoi': {'type': 'Polygon', 'coordinates': [[[72.94835170895487, 5.464405141242935], [72.94835170895487, 5.452180140477154], [72.96171014465997, 5.452180140477154], [72.96171014465997, 5.464405141242935], [72.94835170895487, 5.464405141242935]]]}, 'area_km2': 2.0145276052499086, 'cloud_cover_percentage': 100, 'min_aoi_coverage_percentage': 0, 'interval': '30d', 'resolution_low': 30, 'resolution_high': 10, 'status': 'pending', 'tags': None, 'created_at': '2024-03-25T18:34:23.534083Z', 'updated_at': '2024-03-25T18:34:23.534083Z', 'max_cost': 0, 'result_delivery': {'max_latency': '0d', 'priorities': ['lowest_cost']}, 'output': {'id': 'a8fc3dde-a3e8-11e7-9793-ae4260ee3b4b', 'format': 'geotiff', 'mosaic': 'stitched'}}}\n",
      "200 {'data': {'id': '4d49a314-ead6-11ee-95e5-539166b49226', 'org_id': '001JR00000AfBY1YAN', 'name': 'Madhirivaadhoo_2023-03-01', 'start_date': '2023-03-01', 'end_date': '2023-03-30', 'aoi': {'type': 'Polygon', 'coordinates': [[[72.94835170895487, 5.464405141242935], [72.94835170895487, 5.452180140477154], [72.96171014465997, 5.452180140477154], [72.96171014465997, 5.464405141242935], [72.94835170895487, 5.464405141242935]]]}, 'area_km2': 2.0145276052499086, 'cloud_cover_percentage': 100, 'min_aoi_coverage_percentage': 0, 'interval': '30d', 'resolution_low': 30, 'resolution_high': 10, 'output': {'id': 'a8fc3dde-a3e8-11e7-9793-ae4260ee3b4b', 'format': 'geotiff', 'mosaic': 'stitched'}, 'status': 'active', 'tags': [], 'result_delivery': {'max_latency': '0d', 'priorities': ['lowest_cost']}, 'created_at': '2024-03-25T18:34:23.534083Z', 'updated_at': '2024-03-25T18:34:23Z', 'max_cost': 0, 'user_information': {}}}\n",
      "201 {'data': {'id': '549fba3a-ead6-11ee-86a0-539166b49226', 'name': 'Madhirivaadhoo_2023-04-01', 'start_date': '2023-04-01', 'end_date': '2023-04-30', 'aoi': {'type': 'Polygon', 'coordinates': [[[72.94835170895487, 5.464405141242935], [72.94835170895487, 5.452180140477154], [72.96171014465997, 5.452180140477154], [72.96171014465997, 5.464405141242935], [72.94835170895487, 5.464405141242935]]]}, 'area_km2': 2.0145276052499086, 'cloud_cover_percentage': 100, 'min_aoi_coverage_percentage': 0, 'interval': '30d', 'resolution_low': 30, 'resolution_high': 10, 'status': 'pending', 'tags': None, 'created_at': '2024-03-25T18:34:35.855777Z', 'updated_at': '2024-03-25T18:34:35.855777Z', 'max_cost': 0, 'result_delivery': {'max_latency': '0d', 'priorities': ['lowest_cost']}, 'output': {'id': 'a8fc3dde-a3e8-11e7-9793-ae4260ee3b4b', 'format': 'geotiff', 'mosaic': 'stitched'}}}\n",
      "200 {'data': {'id': '549fba3a-ead6-11ee-86a0-539166b49226', 'org_id': '001JR00000AfBY1YAN', 'name': 'Madhirivaadhoo_2023-04-01', 'start_date': '2023-04-01', 'end_date': '2023-04-30', 'aoi': {'type': 'Polygon', 'coordinates': [[[72.94835170895487, 5.464405141242935], [72.94835170895487, 5.452180140477154], [72.96171014465997, 5.452180140477154], [72.96171014465997, 5.464405141242935], [72.94835170895487, 5.464405141242935]]]}, 'area_km2': 2.0145276052499086, 'cloud_cover_percentage': 100, 'min_aoi_coverage_percentage': 0, 'interval': '30d', 'resolution_low': 30, 'resolution_high': 10, 'output': {'id': 'a8fc3dde-a3e8-11e7-9793-ae4260ee3b4b', 'format': 'geotiff', 'mosaic': 'stitched'}, 'status': 'pending', 'tags': [], 'result_delivery': {'max_latency': '0d', 'priorities': ['lowest_cost']}, 'created_at': '2024-03-25T18:34:35.855777Z', 'updated_at': '2024-03-25T18:34:36Z', 'max_cost': 0, 'user_information': {}}}\n",
      "201 {'data': {'id': '5bb9f9c6-ead6-11ee-bab8-539166b49226', 'name': 'Madhirivaadhoo_2023-05-01', 'start_date': '2023-05-01', 'end_date': '2023-05-30', 'aoi': {'type': 'Polygon', 'coordinates': [[[72.94835170895487, 5.464405141242935], [72.94835170895487, 5.452180140477154], [72.96171014465997, 5.452180140477154], [72.96171014465997, 5.464405141242935], [72.94835170895487, 5.464405141242935]]]}, 'area_km2': 2.0145276052499086, 'cloud_cover_percentage': 100, 'min_aoi_coverage_percentage': 0, 'interval': '30d', 'resolution_low': 30, 'resolution_high': 10, 'status': 'pending', 'tags': None, 'created_at': '2024-03-25T18:34:47.774970Z', 'updated_at': '2024-03-25T18:34:47.774970Z', 'max_cost': 0, 'result_delivery': {'max_latency': '0d', 'priorities': ['lowest_cost']}, 'output': {'id': 'a8fc3dde-a3e8-11e7-9793-ae4260ee3b4b', 'format': 'geotiff', 'mosaic': 'stitched'}}}\n",
      "200 {'data': {'id': '5bb9f9c6-ead6-11ee-bab8-539166b49226', 'org_id': '001JR00000AfBY1YAN', 'name': 'Madhirivaadhoo_2023-05-01', 'start_date': '2023-05-01', 'end_date': '2023-05-30', 'aoi': {'type': 'Polygon', 'coordinates': [[[72.94835170895487, 5.464405141242935], [72.94835170895487, 5.452180140477154], [72.96171014465997, 5.452180140477154], [72.96171014465997, 5.464405141242935], [72.94835170895487, 5.464405141242935]]]}, 'area_km2': 2.0145276052499086, 'cloud_cover_percentage': 100, 'min_aoi_coverage_percentage': 0, 'interval': '30d', 'resolution_low': 30, 'resolution_high': 10, 'output': {'id': 'a8fc3dde-a3e8-11e7-9793-ae4260ee3b4b', 'format': 'geotiff', 'mosaic': 'stitched'}, 'status': 'active', 'tags': [], 'result_delivery': {'max_latency': '0d', 'priorities': ['lowest_cost']}, 'created_at': '2024-03-25T18:34:47.774970Z', 'updated_at': '2024-03-25T18:34:47Z', 'max_cost': 0, 'user_information': {}}}\n",
      "201 {'data': {'id': '62ed6e96-ead6-11ee-b8d5-539166b49226', 'name': 'Madhirivaadhoo_2023-06-01', 'start_date': '2023-06-01', 'end_date': '2023-06-30', 'aoi': {'type': 'Polygon', 'coordinates': [[[72.94835170895487, 5.464405141242935], [72.94835170895487, 5.452180140477154], [72.96171014465997, 5.452180140477154], [72.96171014465997, 5.464405141242935], [72.94835170895487, 5.464405141242935]]]}, 'area_km2': 2.0145276052499086, 'cloud_cover_percentage': 100, 'min_aoi_coverage_percentage': 0, 'interval': '30d', 'resolution_low': 30, 'resolution_high': 10, 'status': 'pending', 'tags': None, 'created_at': '2024-03-25T18:34:59.855443Z', 'updated_at': '2024-03-25T18:34:59.855443Z', 'max_cost': 0, 'result_delivery': {'max_latency': '0d', 'priorities': ['lowest_cost']}, 'output': {'id': 'a8fc3dde-a3e8-11e7-9793-ae4260ee3b4b', 'format': 'geotiff', 'mosaic': 'stitched'}}}\n",
      "200 {'data': {'id': '62ed6e96-ead6-11ee-b8d5-539166b49226', 'org_id': '001JR00000AfBY1YAN', 'name': 'Madhirivaadhoo_2023-06-01', 'start_date': '2023-06-01', 'end_date': '2023-06-30', 'aoi': {'type': 'Polygon', 'coordinates': [[[72.94835170895487, 5.464405141242935], [72.94835170895487, 5.452180140477154], [72.96171014465997, 5.452180140477154], [72.96171014465997, 5.464405141242935], [72.94835170895487, 5.464405141242935]]]}, 'area_km2': 2.0145276052499086, 'cloud_cover_percentage': 100, 'min_aoi_coverage_percentage': 0, 'interval': '30d', 'resolution_low': 30, 'resolution_high': 10, 'output': {'id': 'a8fc3dde-a3e8-11e7-9793-ae4260ee3b4b', 'format': 'geotiff', 'mosaic': 'stitched'}, 'status': 'active', 'tags': [], 'result_delivery': {'max_latency': '0d', 'priorities': ['lowest_cost']}, 'created_at': '2024-03-25T18:34:59.855443Z', 'updated_at': '2024-03-25T18:35:00Z', 'max_cost': 0, 'user_information': {}}}\n",
      "201 {'data': {'id': '6a342b98-ead6-11ee-8a1a-539166b49226', 'name': 'Madhirivaadhoo_2023-07-01', 'start_date': '2023-07-01', 'end_date': '2023-07-30', 'aoi': {'type': 'Polygon', 'coordinates': [[[72.94835170895487, 5.464405141242935], [72.94835170895487, 5.452180140477154], [72.96171014465997, 5.452180140477154], [72.96171014465997, 5.464405141242935], [72.94835170895487, 5.464405141242935]]]}, 'area_km2': 2.0145276052499086, 'cloud_cover_percentage': 100, 'min_aoi_coverage_percentage': 0, 'interval': '30d', 'resolution_low': 30, 'resolution_high': 10, 'status': 'pending', 'tags': None, 'created_at': '2024-03-25T18:35:12.055237Z', 'updated_at': '2024-03-25T18:35:12.055237Z', 'max_cost': 0, 'result_delivery': {'max_latency': '0d', 'priorities': ['lowest_cost']}, 'output': {'id': 'a8fc3dde-a3e8-11e7-9793-ae4260ee3b4b', 'format': 'geotiff', 'mosaic': 'stitched'}}}\n",
      "200 {'data': {'id': '6a342b98-ead6-11ee-8a1a-539166b49226', 'org_id': '001JR00000AfBY1YAN', 'name': 'Madhirivaadhoo_2023-07-01', 'start_date': '2023-07-01', 'end_date': '2023-07-30', 'aoi': {'type': 'Polygon', 'coordinates': [[[72.94835170895487, 5.464405141242935], [72.94835170895487, 5.452180140477154], [72.96171014465997, 5.452180140477154], [72.96171014465997, 5.464405141242935], [72.94835170895487, 5.464405141242935]]]}, 'area_km2': 2.0145276052499086, 'cloud_cover_percentage': 100, 'min_aoi_coverage_percentage': 0, 'interval': '30d', 'resolution_low': 30, 'resolution_high': 10, 'output': {'id': 'a8fc3dde-a3e8-11e7-9793-ae4260ee3b4b', 'format': 'geotiff', 'mosaic': 'stitched'}, 'status': 'active', 'tags': [], 'result_delivery': {'max_latency': '0d', 'priorities': ['lowest_cost']}, 'created_at': '2024-03-25T18:35:12.055237Z', 'updated_at': '2024-03-25T18:35:12Z', 'max_cost': 0, 'user_information': {}}}\n",
      "201 {'data': {'id': '717639b8-ead6-11ee-90e5-539166b49226', 'name': 'Madhirivaadhoo_2023-08-01', 'start_date': '2023-08-01', 'end_date': '2023-08-30', 'aoi': {'type': 'Polygon', 'coordinates': [[[72.94835170895487, 5.464405141242935], [72.94835170895487, 5.452180140477154], [72.96171014465997, 5.452180140477154], [72.96171014465997, 5.464405141242935], [72.94835170895487, 5.464405141242935]]]}, 'area_km2': 2.0145276052499086, 'cloud_cover_percentage': 100, 'min_aoi_coverage_percentage': 0, 'interval': '30d', 'resolution_low': 30, 'resolution_high': 10, 'status': 'pending', 'tags': None, 'created_at': '2024-03-25T18:35:24.239874Z', 'updated_at': '2024-03-25T18:35:24.239874Z', 'max_cost': 0, 'result_delivery': {'max_latency': '0d', 'priorities': ['lowest_cost']}, 'output': {'id': 'a8fc3dde-a3e8-11e7-9793-ae4260ee3b4b', 'format': 'geotiff', 'mosaic': 'stitched'}}}\n",
      "200 {'data': {'id': '717639b8-ead6-11ee-90e5-539166b49226', 'org_id': '001JR00000AfBY1YAN', 'name': 'Madhirivaadhoo_2023-08-01', 'start_date': '2023-08-01', 'end_date': '2023-08-30', 'aoi': {'type': 'Polygon', 'coordinates': [[[72.94835170895487, 5.464405141242935], [72.94835170895487, 5.452180140477154], [72.96171014465997, 5.452180140477154], [72.96171014465997, 5.464405141242935], [72.94835170895487, 5.464405141242935]]]}, 'area_km2': 2.0145276052499086, 'cloud_cover_percentage': 100, 'min_aoi_coverage_percentage': 0, 'interval': '30d', 'resolution_low': 30, 'resolution_high': 10, 'output': {'id': 'a8fc3dde-a3e8-11e7-9793-ae4260ee3b4b', 'format': 'geotiff', 'mosaic': 'stitched'}, 'status': 'active', 'tags': [], 'result_delivery': {'max_latency': '0d', 'priorities': ['lowest_cost']}, 'created_at': '2024-03-25T18:35:24.239874Z', 'updated_at': '2024-03-25T18:35:24Z', 'max_cost': 0, 'user_information': {}}}\n",
      "201 {'data': {'id': '78d82c89-ead6-11ee-82b7-539166b49226', 'name': 'Madhirivaadhoo_2023-09-01', 'start_date': '2023-09-01', 'end_date': '2023-09-30', 'aoi': {'type': 'Polygon', 'coordinates': [[[72.94835170895487, 5.464405141242935], [72.94835170895487, 5.452180140477154], [72.96171014465997, 5.452180140477154], [72.96171014465997, 5.464405141242935], [72.94835170895487, 5.464405141242935]]]}, 'area_km2': 2.0145276052499086, 'cloud_cover_percentage': 100, 'min_aoi_coverage_percentage': 0, 'interval': '30d', 'resolution_low': 30, 'resolution_high': 10, 'status': 'pending', 'tags': None, 'created_at': '2024-03-25T18:35:36.621576Z', 'updated_at': '2024-03-25T18:35:36.621576Z', 'max_cost': 0, 'result_delivery': {'max_latency': '0d', 'priorities': ['lowest_cost']}, 'output': {'id': 'a8fc3dde-a3e8-11e7-9793-ae4260ee3b4b', 'format': 'geotiff', 'mosaic': 'stitched'}}}\n",
      "200 {'data': {'id': '78d82c89-ead6-11ee-82b7-539166b49226', 'org_id': '001JR00000AfBY1YAN', 'name': 'Madhirivaadhoo_2023-09-01', 'start_date': '2023-09-01', 'end_date': '2023-09-30', 'aoi': {'type': 'Polygon', 'coordinates': [[[72.94835170895487, 5.464405141242935], [72.94835170895487, 5.452180140477154], [72.96171014465997, 5.452180140477154], [72.96171014465997, 5.464405141242935], [72.94835170895487, 5.464405141242935]]]}, 'area_km2': 2.0145276052499086, 'cloud_cover_percentage': 100, 'min_aoi_coverage_percentage': 0, 'interval': '30d', 'resolution_low': 30, 'resolution_high': 10, 'output': {'id': 'a8fc3dde-a3e8-11e7-9793-ae4260ee3b4b', 'format': 'geotiff', 'mosaic': 'stitched'}, 'status': 'active', 'tags': [], 'result_delivery': {'max_latency': '0d', 'priorities': ['lowest_cost']}, 'created_at': '2024-03-25T18:35:36.621576Z', 'updated_at': '2024-03-25T18:35:36Z', 'max_cost': 0, 'user_information': {}}}\n",
      "201 {'data': {'id': '800ca15d-ead6-11ee-ac3d-539166b49226', 'name': 'Madhirivaadhoo_2023-10-01', 'start_date': '2023-10-01', 'end_date': '2023-10-30', 'aoi': {'type': 'Polygon', 'coordinates': [[[72.94835170895487, 5.464405141242935], [72.94835170895487, 5.452180140477154], [72.96171014465997, 5.452180140477154], [72.96171014465997, 5.464405141242935], [72.94835170895487, 5.464405141242935]]]}, 'area_km2': 2.0145276052499086, 'cloud_cover_percentage': 100, 'min_aoi_coverage_percentage': 0, 'interval': '30d', 'resolution_low': 30, 'resolution_high': 10, 'status': 'pending', 'tags': None, 'created_at': '2024-03-25T18:35:48.713468Z', 'updated_at': '2024-03-25T18:35:48.713468Z', 'max_cost': 0, 'result_delivery': {'max_latency': '0d', 'priorities': ['lowest_cost']}, 'output': {'id': 'a8fc3dde-a3e8-11e7-9793-ae4260ee3b4b', 'format': 'geotiff', 'mosaic': 'stitched'}}}\n",
      "200 {'data': {'id': '800ca15d-ead6-11ee-ac3d-539166b49226', 'org_id': '001JR00000AfBY1YAN', 'name': 'Madhirivaadhoo_2023-10-01', 'start_date': '2023-10-01', 'end_date': '2023-10-30', 'aoi': {'type': 'Polygon', 'coordinates': [[[72.94835170895487, 5.464405141242935], [72.94835170895487, 5.452180140477154], [72.96171014465997, 5.452180140477154], [72.96171014465997, 5.464405141242935], [72.94835170895487, 5.464405141242935]]]}, 'area_km2': 2.0145276052499086, 'cloud_cover_percentage': 100, 'min_aoi_coverage_percentage': 0, 'interval': '30d', 'resolution_low': 30, 'resolution_high': 10, 'output': {'id': 'a8fc3dde-a3e8-11e7-9793-ae4260ee3b4b', 'format': 'geotiff', 'mosaic': 'stitched'}, 'status': 'active', 'tags': [], 'result_delivery': {'max_latency': '0d', 'priorities': ['lowest_cost']}, 'created_at': '2024-03-25T18:35:48.713468Z', 'updated_at': '2024-03-25T18:35:48Z', 'max_cost': 0, 'user_information': {}}}\n",
      "201 {'data': {'id': '872dbcc6-ead6-11ee-be4e-539166b49226', 'name': 'Madhirivaadhoo_2023-11-01', 'start_date': '2023-11-01', 'end_date': '2023-11-30', 'aoi': {'type': 'Polygon', 'coordinates': [[[72.94835170895487, 5.464405141242935], [72.94835170895487, 5.452180140477154], [72.96171014465997, 5.452180140477154], [72.96171014465997, 5.464405141242935], [72.94835170895487, 5.464405141242935]]]}, 'area_km2': 2.0145276052499086, 'cloud_cover_percentage': 100, 'min_aoi_coverage_percentage': 0, 'interval': '30d', 'resolution_low': 30, 'resolution_high': 10, 'status': 'pending', 'tags': None, 'created_at': '2024-03-25T18:36:00.674147Z', 'updated_at': '2024-03-25T18:36:00.674147Z', 'max_cost': 0, 'result_delivery': {'max_latency': '0d', 'priorities': ['lowest_cost']}, 'output': {'id': 'a8fc3dde-a3e8-11e7-9793-ae4260ee3b4b', 'format': 'geotiff', 'mosaic': 'stitched'}}}\n",
      "200 {'data': {'id': '872dbcc6-ead6-11ee-be4e-539166b49226', 'org_id': '001JR00000AfBY1YAN', 'name': 'Madhirivaadhoo_2023-11-01', 'start_date': '2023-11-01', 'end_date': '2023-11-30', 'aoi': {'type': 'Polygon', 'coordinates': [[[72.94835170895487, 5.464405141242935], [72.94835170895487, 5.452180140477154], [72.96171014465997, 5.452180140477154], [72.96171014465997, 5.464405141242935], [72.94835170895487, 5.464405141242935]]]}, 'area_km2': 2.0145276052499086, 'cloud_cover_percentage': 100, 'min_aoi_coverage_percentage': 0, 'interval': '30d', 'resolution_low': 30, 'resolution_high': 10, 'output': {'id': 'a8fc3dde-a3e8-11e7-9793-ae4260ee3b4b', 'format': 'geotiff', 'mosaic': 'stitched'}, 'status': 'active', 'tags': [], 'result_delivery': {'max_latency': '0d', 'priorities': ['lowest_cost']}, 'created_at': '2024-03-25T18:36:00.674147Z', 'updated_at': '2024-03-25T18:36:00Z', 'max_cost': 0, 'user_information': {}}}\n",
      "201 {'data': {'id': '8e61a4ba-ead6-11ee-8144-539166b49226', 'name': 'Madhirivaadhoo_2023-12-01', 'start_date': '2023-12-01', 'end_date': '2023-12-30', 'aoi': {'type': 'Polygon', 'coordinates': [[[72.94835170895487, 5.464405141242935], [72.94835170895487, 5.452180140477154], [72.96171014465997, 5.452180140477154], [72.96171014465997, 5.464405141242935], [72.94835170895487, 5.464405141242935]]]}, 'area_km2': 2.0145276052499086, 'cloud_cover_percentage': 100, 'min_aoi_coverage_percentage': 0, 'interval': '30d', 'resolution_low': 30, 'resolution_high': 10, 'status': 'pending', 'tags': None, 'created_at': '2024-03-25T18:36:12.757816Z', 'updated_at': '2024-03-25T18:36:12.757816Z', 'max_cost': 0, 'result_delivery': {'max_latency': '0d', 'priorities': ['lowest_cost']}, 'output': {'id': 'a8fc3dde-a3e8-11e7-9793-ae4260ee3b4b', 'format': 'geotiff', 'mosaic': 'stitched'}}}\n",
      "200 {'data': {'id': '8e61a4ba-ead6-11ee-8144-539166b49226', 'org_id': '001JR00000AfBY1YAN', 'name': 'Madhirivaadhoo_2023-12-01', 'start_date': '2023-12-01', 'end_date': '2023-12-30', 'aoi': {'type': 'Polygon', 'coordinates': [[[72.94835170895487, 5.464405141242935], [72.94835170895487, 5.452180140477154], [72.96171014465997, 5.452180140477154], [72.96171014465997, 5.464405141242935], [72.94835170895487, 5.464405141242935]]]}, 'area_km2': 2.0145276052499086, 'cloud_cover_percentage': 100, 'min_aoi_coverage_percentage': 0, 'interval': '30d', 'resolution_low': 30, 'resolution_high': 10, 'output': {'id': 'a8fc3dde-a3e8-11e7-9793-ae4260ee3b4b', 'format': 'geotiff', 'mosaic': 'stitched'}, 'status': 'active', 'tags': [], 'result_delivery': {'max_latency': '0d', 'priorities': ['lowest_cost']}, 'created_at': '2024-03-25T18:36:12.757816Z', 'updated_at': '2024-03-25T18:36:12Z', 'max_cost': 0, 'user_information': {}}}\n"
     ]
    }
   ],
   "source": [
    "# need to initialize the api first\n",
    "SDS_earthcache_api.initialize(key)\n",
    "#create a set of dates so each pipeline is one month\n",
    "starts,ends = monthly_pipes(2023)\n",
    "\n",
    "#get all imagery for each month\n",
    "for i in range(len(starts)):\n",
    "    start_date = starts[i]\n",
    "    end_date = ends[i]\n",
    "    pipeline_name = location_name + start_date\n",
    "    SDS_earthcache_api.retrieve_images_earthcache(key, pipeline_name, aoi, start_date, end_date, image_type)\n",
    "    #add 10 seconds of delay between each request\n",
    "    time.sleep(10)"
   ]
  },
  {
   "cell_type": "code",
   "execution_count": null,
   "metadata": {},
   "outputs": [],
   "source": [
    "# after about 20 minutes, make sure the status is ready\n",
    "SDS_earthcache_api.initialize(key)\n",
    "for i in range(len(starts)):\n",
    "    start_date = starts[i]\n",
    "    end_date = ends[i]\n",
    "    pipeline_name = location_name + start_date\n",
    "    status,res = SDS_earthcache_api.checkStatus(pipeline_name)\n",
    "    print(status,res)"
   ]
  },
  {
   "cell_type": "code",
   "execution_count": 25,
   "metadata": {},
   "outputs": [
    {
     "name": "stdout",
     "output_type": "stream",
     "text": [
      "d5431cc4-b43b-4f31-8db4-d1efe9e589c9\n",
      "data/Madhirivaadhoo_2023-01-01\\108196dc-030b-4591-954e-4af1b0227500\n",
      "... downloading https://s3-us-west-2.amazonaws.com/aoi-processed-images-prod/3b8fe191-ead6-11ee-bb2d-539166b49226/94de387a-03d9-4939-ac35-846b002e1041/metadata/SKYWATCH_S2_MS_20230111T0521_TC_Tile_0_0_a852_metadata.json\n",
      "... downloading https://s3-us-west-2.amazonaws.com/aoi-processed-images-prod/3b8fe191-ead6-11ee-bb2d-539166b49226/94de387a-03d9-4939-ac35-846b002e1041/analytic/SKYWATCH_S2_MS_20230111T0521_TC_Tile_0_0_a852.tif\n",
      "data/Madhirivaadhoo_2023-03-01\\41393180-9f01-418c-8a3a-9ed703c0d8e5\n",
      "... downloading https://s3-us-west-2.amazonaws.com/aoi-processed-images-prod/4d49a314-ead6-11ee-95e5-539166b49226/8dbd32d0-ae53-4828-9288-96742c8533e9/metadata/SKYWATCH_S2_MS_20230327T0516_TC_Tile_0_0_0dfc_metadata.json\n",
      "... downloading https://s3-us-west-2.amazonaws.com/aoi-processed-images-prod/4d49a314-ead6-11ee-95e5-539166b49226/8dbd32d0-ae53-4828-9288-96742c8533e9/analytic/SKYWATCH_S2_MS_20230327T0516_TC_Tile_0_0_0dfc.tif\n",
      "data/Madhirivaadhoo_2023-04-01\\d47d5eb7-9a76-482c-8a3c-5848d056662c\n",
      "... downloading https://s3-us-west-2.amazonaws.com/aoi-processed-images-prod/549fba3a-ead6-11ee-86a0-539166b49226/124fc6eb-ab13-49a9-8289-0255386dee25/metadata/SKYWATCH_S2_MS_20230426T0516_TC_Tile_0_0_59d3_metadata.json\n",
      "... downloading https://s3-us-west-2.amazonaws.com/aoi-processed-images-prod/549fba3a-ead6-11ee-86a0-539166b49226/124fc6eb-ab13-49a9-8289-0255386dee25/analytic/SKYWATCH_S2_MS_20230426T0516_TC_Tile_0_0_59d3.tif\n",
      "data/Madhirivaadhoo_2023-05-01\\36cf4aa8-18eb-43d3-8155-6af8099a688f\n",
      "... downloading https://s3-us-west-2.amazonaws.com/aoi-processed-images-prod/5bb9f9c6-ead6-11ee-bab8-539166b49226/d42c7b8a-3f89-4fb0-8498-e939b2e9b5d0/metadata/SKYWATCH_S2_MS_20230526T0516_TC_Tile_0_0_c027_metadata.json\n",
      "... downloading https://s3-us-west-2.amazonaws.com/aoi-processed-images-prod/5bb9f9c6-ead6-11ee-bab8-539166b49226/d42c7b8a-3f89-4fb0-8498-e939b2e9b5d0/analytic/SKYWATCH_S2_MS_20230526T0516_TC_Tile_0_0_c027.tif\n",
      "data/Madhirivaadhoo_2023-06-01\\08c13579-d416-4f45-ab6c-984dd32fc4af\n",
      "... downloading https://s3-us-west-2.amazonaws.com/aoi-processed-images-prod/62ed6e96-ead6-11ee-b8d5-539166b49226/df1e9791-c1f9-4d16-8be5-7e3e8432c5b0/metadata/SKYWATCH_S2_MS_20230610T0516_TC_Tile_0_0_4571_metadata.json\n",
      "... downloading https://s3-us-west-2.amazonaws.com/aoi-processed-images-prod/62ed6e96-ead6-11ee-b8d5-539166b49226/df1e9791-c1f9-4d16-8be5-7e3e8432c5b0/analytic/SKYWATCH_S2_MS_20230610T0516_TC_Tile_0_0_4571.tif\n",
      "data/Madhirivaadhoo_2023-07-01\\48e17e81-1448-4966-8119-659a00fb938d\n",
      "data/Madhirivaadhoo_2023-08-01\\0badf73c-36c1-4b73-9266-045f513b4894\n",
      "... downloading https://s3-us-west-2.amazonaws.com/aoi-processed-images-prod/717639b8-ead6-11ee-90e5-539166b49226/4ad108aa-0307-4898-8b1a-7fc513953570/metadata/SKYWATCH_S2_MS_20230824T0517_TC_Tile_0_0_8b16_metadata.json\n",
      "... downloading https://s3-us-west-2.amazonaws.com/aoi-processed-images-prod/717639b8-ead6-11ee-90e5-539166b49226/4ad108aa-0307-4898-8b1a-7fc513953570/analytic/SKYWATCH_S2_MS_20230824T0517_TC_Tile_0_0_8b16.tif\n",
      "data/Madhirivaadhoo_2023-09-01\\5dc73fdb-c2d2-43e7-a18a-0a9c51e22412\n",
      "... downloading https://s3-us-west-2.amazonaws.com/aoi-processed-images-prod/78d82c89-ead6-11ee-82b7-539166b49226/61d2cff2-2466-4934-9bdf-bcb5a0afb94a/metadata/SKYWATCH_S2_MS_20230928T0516_TC_Tile_0_0_3034_metadata.json\n",
      "... downloading https://s3-us-west-2.amazonaws.com/aoi-processed-images-prod/78d82c89-ead6-11ee-82b7-539166b49226/61d2cff2-2466-4934-9bdf-bcb5a0afb94a/analytic/SKYWATCH_S2_MS_20230928T0516_TC_Tile_0_0_3034.tif\n",
      "data/Madhirivaadhoo_2023-10-01\\dd2e0006-602d-46a7-8a6c-4cf11d3b25fe\n",
      "... downloading https://s3-us-west-2.amazonaws.com/aoi-processed-images-prod/800ca15d-ead6-11ee-ac3d-539166b49226/a7d5e946-82ee-44fb-88ad-240d32cfcb03/metadata/SKYWATCH_S2_MS_20231028T0519_TC_Tile_0_0_7379_metadata.json\n",
      "... downloading https://s3-us-west-2.amazonaws.com/aoi-processed-images-prod/800ca15d-ead6-11ee-ac3d-539166b49226/a7d5e946-82ee-44fb-88ad-240d32cfcb03/analytic/SKYWATCH_S2_MS_20231028T0519_TC_Tile_0_0_7379.tif\n",
      "data/Madhirivaadhoo_2023-11-01\\9fa5c032-a02d-410d-8e12-a421e0e13816\n",
      "... downloading https://s3-us-west-2.amazonaws.com/aoi-processed-images-prod/872dbcc6-ead6-11ee-be4e-539166b49226/c07ccf11-9a05-4613-bda5-04333c82a900/metadata/SKYWATCH_S2_MS_20231117T0521_TC_Tile_0_0_bf37_metadata.json\n",
      "... downloading https://s3-us-west-2.amazonaws.com/aoi-processed-images-prod/872dbcc6-ead6-11ee-be4e-539166b49226/c07ccf11-9a05-4613-bda5-04333c82a900/analytic/SKYWATCH_S2_MS_20231117T0521_TC_Tile_0_0_bf37.tif\n",
      "data/Madhirivaadhoo_2023-12-01\\aff4630e-6597-4c45-bead-d0428a9b90db\n",
      "... downloading https://s3-us-west-2.amazonaws.com/aoi-processed-images-prod/8e61a4ba-ead6-11ee-8144-539166b49226/d1242832-e268-4143-b02f-328775f3304b/metadata/SKYWATCH_S2_MS_20231222T0522_TC_Tile_0_0_285e_metadata.json\n",
      "... downloading https://s3-us-west-2.amazonaws.com/aoi-processed-images-prod/8e61a4ba-ead6-11ee-8144-539166b49226/d1242832-e268-4143-b02f-328775f3304b/analytic/SKYWATCH_S2_MS_20231222T0522_TC_Tile_0_0_285e.tif\n"
     ]
    }
   ],
   "source": [
    "# once the status is good, run this cell to download the images\n",
    "SDS_earthcache_api.initialize(key)\n",
    "images = []\n",
    "for i in range(len(starts)):\n",
    "    start_date = starts[i]\n",
    "    pipeline_name = location_name + start_date\n",
    "    status,res = SDS_earthcache_api.checkStatus(pipeline_name)\n",
    "    if(status == 200):\n",
    "        images.append(SDS_earthcache_api.download_images(pipeline_name))"
   ]
  },
  {
   "cell_type": "code",
   "execution_count": null,
   "metadata": {},
   "outputs": [],
   "source": [
    "# this function visualizes the first image\n",
    "SDS_earthcache_api.view_first_image(images)"
   ]
  }
 ],
 "metadata": {
  "kernelspec": {
   "display_name": "coastsat",
   "language": "python",
   "name": "python3"
  },
  "language_info": {
   "codemirror_mode": {
    "name": "ipython",
    "version": 3
   },
   "file_extension": ".py",
   "mimetype": "text/x-python",
   "name": "python",
   "nbconvert_exporter": "python",
   "pygments_lexer": "ipython3",
   "version": "3.8.15"
  },
  "toc": {
   "base_numbering": 1,
   "nav_menu": {},
   "number_sections": true,
   "sideBar": true,
   "skip_h1_title": false,
   "title_cell": "Table of Contents",
   "title_sidebar": "Contents",
   "toc_cell": false,
   "toc_position": {},
   "toc_section_display": true,
   "toc_window_display": false
  },
  "varInspector": {
   "cols": {
    "lenName": 16,
    "lenType": 16,
    "lenVar": 40
   },
   "kernels_config": {
    "python": {
     "delete_cmd_postfix": "",
     "delete_cmd_prefix": "del ",
     "library": "var_list.py",
     "varRefreshCmd": "print(var_dic_list())"
    },
    "r": {
     "delete_cmd_postfix": ") ",
     "delete_cmd_prefix": "rm(",
     "library": "var_list.r",
     "varRefreshCmd": "cat(var_dic_list()) "
    }
   },
   "types_to_exclude": [
    "module",
    "function",
    "builtin_function_or_method",
    "instance",
    "_Feature"
   ],
   "window_display": false
  }
 },
 "nbformat": 4,
 "nbformat_minor": 4
}
