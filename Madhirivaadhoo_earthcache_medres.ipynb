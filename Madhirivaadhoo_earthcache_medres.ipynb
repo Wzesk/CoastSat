{
 "cells": [
  {
   "cell_type": "markdown",
   "metadata": {},
   "source": [
    "# imports"
   ]
  },
  {
   "attachments": {},
   "cell_type": "markdown",
   "metadata": {},
   "source": [
    "https://www.wrl.unsw.edu.au/news/coastsat-how-to-estimate-beach-slopes-using-satellite-imagery\n",
    "https://www.wrl.unsw.edu.au/research/coastsat\n"
   ]
  },
  {
   "cell_type": "code",
   "execution_count": 1,
   "metadata": {
    "tags": []
   },
   "outputs": [],
   "source": [
    "%load_ext autoreload\n",
    "%autoreload 2\n",
    "import os\n",
    "import numpy as np\n",
    "import pickle\n",
    "import warnings\n",
    "import time\n",
    "warnings.filterwarnings(\"ignore\")\n",
    "import matplotlib\n",
    "matplotlib.use('Qt5Agg')\n",
    "import matplotlib.pyplot as plt\n",
    "from matplotlib import gridspec\n",
    "plt.ion()\n",
    "import pandas as pd\n",
    "from datetime import datetime\n",
    "from coastsat import SDS_earthcache_api, SDS_preprocess, SDS_shoreline, SDS_tools, SDS_transects, SDS_earthcache_client"
   ]
  },
  {
   "cell_type": "markdown",
   "metadata": {},
   "source": [
    "## setup timeline and AOL"
   ]
  },
  {
   "cell_type": "code",
   "execution_count": 2,
   "metadata": {},
   "outputs": [],
   "source": [
    "#setup monthly pipelines\n",
    "def fmt(x):\n",
    "    if x < 10:\n",
    "        return '0' + str(x)\n",
    "    else:\n",
    "        return str(x)\n",
    "def monthly_pipes(startyear,endyear=2024):  \n",
    "    starts = [] ; ends = []\n",
    "    dates = range(startyear, endyear)  \n",
    "    for y in dates:\n",
    "        for m in range(1, 13):\n",
    "            starts.append(str(y) + '-' + fmt(m) + '-01')\n",
    "            if m == 2:\n",
    "                ends.append(str(y) + '-' + fmt(m) + '-28')\n",
    "            elif m in [4, 6, 9, 11]:\n",
    "                ends.append(str(y) + '-' + fmt(m) + '-30')\n",
    "            else:\n",
    "                ends.append(str(y) + '-' + fmt(m) + '-31')\n",
    "    return starts, ends"
   ]
  },
  {
   "cell_type": "code",
   "execution_count": 3,
   "metadata": {},
   "outputs": [],
   "source": [
    "# these coordinates are a rectangle around the island of Madhirivaadhoo\n",
    "aoi = { \"type\": \"Polygon\", \n",
    "        \"coordinates\": [\n",
    "      [\n",
    "        [\n",
    "          72.94835170895487,\n",
    "          5.464405141242935\n",
    "        ],\n",
    "        [\n",
    "          72.94835170895487,\n",
    "          5.452180140477154\n",
    "        ],\n",
    "        [\n",
    "          72.96171014465997,\n",
    "          5.452180140477154\n",
    "        ],\n",
    "        [\n",
    "          72.96171014465997,\n",
    "          5.464405141242935\n",
    "        ],\n",
    "        [\n",
    "          72.94835170895487,\n",
    "          5.464405141242935\n",
    "        ]\n",
    "      ]\n",
    "    ]\n",
    "    }"
   ]
  },
  {
   "cell_type": "markdown",
   "metadata": {},
   "source": [
    "# setup pipeline"
   ]
  },
  {
   "cell_type": "code",
   "execution_count": 4,
   "metadata": {},
   "outputs": [],
   "source": [
    "key = input(\"please enter your API key for Earthcache:\")"
   ]
  },
  {
   "cell_type": "code",
   "execution_count": 5,
   "metadata": {},
   "outputs": [
    {
     "name": "stdout",
     "output_type": "stream",
     "text": [
      "d5431cc4-b43b-4f31-8db4-d1efe9e589c9\n"
     ]
    }
   ],
   "source": [
    "repo = 'CoastSat'\n",
    "root_path = os.getcwd()[ 0 : os.getcwd().find( repo ) + len ( repo )]\n",
    "cfg_path = os.path.join( root_path, 'earthcache-cfg' )\n",
    "notebook_client = SDS_earthcache_client.EcClient(cfg_path, key)"
   ]
  },
  {
   "cell_type": "code",
   "execution_count": 6,
   "metadata": {
    "tags": []
   },
   "outputs": [],
   "source": [
    "\n",
    "location_name = 'Madhirivaadhoo_'\n",
    "# need to specify what type of images want to be downloaded\n",
    "image_type = \"a8fc3dde-a3e8-11e7-9793-ae4260ee3b4b\" #ID for true color image\n",
    "# the available IDs can be found at: https://support.skywatch.com/hc/en-us/articles/7297565063067-Available-Outputs\n",
    "# look at the SDS_earthcache_api.py file for more options\n",
    "# like searching, creating a pipeline from a search, and getting the max cost of a pipeline"
   ]
  },
  {
   "cell_type": "code",
   "execution_count": 37,
   "metadata": {},
   "outputs": [],
   "source": [
    "resolution = [ 'low' ]"
   ]
  },
  {
   "cell_type": "code",
   "execution_count": 38,
   "metadata": {},
   "outputs": [
    {
     "name": "stdout",
     "output_type": "stream",
     "text": [
      "2023-01-01\n",
      "{'interval_quantity': 31, 'price_km2': 0.0, 'minimum_area_km2': 0.0, 'interval_cost': 0.0, 'max_cost': 0.0}\n",
      "balance: 3000.0\n"
     ]
    }
   ],
   "source": [
    "# need to initialize the api first\n",
    "#SDS_earthcache_api.initialize(key)\n",
    "#create a set of dates so each pipeline is one month\n",
    "starts,ends = monthly_pipes(2023)\n",
    "for i in range(0,1):#len(starts)):\n",
    "    start_date = starts[i]\n",
    "    print(start_date)\n",
    "    end_date = ends[i]\n",
    "    pipeline_name = location_name + start_date\n",
    "    status, response = notebook_client.calculatePrice(resolution[0], aoi, start_date, end_date)\n",
    "    if(status != 200):\n",
    "        print(response['errors'])\n",
    "    else:\n",
    "        print(response['data']['archive'])\n",
    "        print(\"balance: \"+str(response['data']['prepurchase_balance']))\n",
    "    #add 3 seconds of delay between each request\n",
    "    time.sleep(3)"
   ]
  },
  {
   "cell_type": "code",
   "execution_count": 36,
   "metadata": {},
   "outputs": [
    {
     "name": "stdout",
     "output_type": "stream",
     "text": [
      "d5431cc4-b43b-4f31-8db4-d1efe9e589c9\n",
      "201 {'data': {'id': '1aaebb2e-eae4-11ee-9b07-2333090573a3', 'name': 'Madhirivaadhoo_2023-01-01', 'start_date': '2023-01-01', 'end_date': '2023-01-31', 'aoi': {'type': 'Polygon', 'coordinates': [[[72.94835170895487, 5.464405141242935], [72.94835170895487, 5.452180140477154], [72.96171014465997, 5.452180140477154], [72.96171014465997, 5.464405141242935], [72.94835170895487, 5.464405141242935]]]}, 'area_km2': 2.0145276052499086, 'cloud_cover_percentage': 100, 'min_aoi_coverage_percentage': 0, 'interval': '30d', 'resolution_low': 30, 'resolution_high': 10, 'status': 'pending', 'tags': None, 'created_at': '2024-03-25T20:13:11.534188Z', 'updated_at': '2024-03-25T20:13:11.534188Z', 'max_cost': 0, 'result_delivery': {'max_latency': '0d', 'priorities': ['lowest_cost']}, 'output': {'id': 'a8fc3dde-a3e8-11e7-9793-ae4260ee3b4b', 'format': 'geotiff', 'mosaic': 'stitched'}}}\n",
      "200 {'data': {'id': '1aaebb2e-eae4-11ee-9b07-2333090573a3', 'org_id': '001JR00000AfBY1YAN', 'name': 'Madhirivaadhoo_2023-01-01', 'start_date': '2023-01-01', 'end_date': '2023-01-31', 'aoi': {'type': 'Polygon', 'coordinates': [[[72.94835170895487, 5.464405141242935], [72.94835170895487, 5.452180140477154], [72.96171014465997, 5.452180140477154], [72.96171014465997, 5.464405141242935], [72.94835170895487, 5.464405141242935]]]}, 'area_km2': 2.0145276052499086, 'cloud_cover_percentage': 100, 'min_aoi_coverage_percentage': 0, 'interval': '30d', 'resolution_low': 30, 'resolution_high': 10, 'output': {'id': 'a8fc3dde-a3e8-11e7-9793-ae4260ee3b4b', 'format': 'geotiff', 'mosaic': 'stitched'}, 'status': 'pending', 'tags': [], 'result_delivery': {'max_latency': '0d', 'priorities': ['lowest_cost']}, 'created_at': '2024-03-25T20:13:11.534188Z', 'updated_at': '2024-03-25T20:13:12Z', 'max_cost': 0, 'user_information': {}}}\n"
     ]
    }
   ],
   "source": [
    "key = input(\"please enter your API key for Earthcache:\")\n",
    "interval = 0\n",
    "start_date = starts[interval]\n",
    "end_date = ends[interval]\n",
    "pipeline_name = location_name + start_date\n",
    "SDS_earthcache_api.initialize(key)\n",
    "#SDS_earthcache_api.retrieve_images_earthcache(key, pipeline_name, aoi, start_date, end_date, image_type)"
   ]
  },
  {
   "cell_type": "code",
   "execution_count": 39,
   "metadata": {},
   "outputs": [
    {
     "name": "stdout",
     "output_type": "stream",
     "text": [
      "d5431cc4-b43b-4f31-8db4-d1efe9e589c9\n",
      "200 {'data': [{'id': 'f8b03317-15c7-4306-98cc-bdb835dea5ee', 'created_at': '2024-03-25T20:13:30.956731+0000', 'updated_at': '2024-03-25T20:14:17.577790+0000', 'pipeline_id': '1aaebb2e-eae4-11ee-9b07-2333090573a3', 'output_id': 'a8fc3dde-a3e8-11e7-9793-ae4260ee3b4b', 'status': 'processing', 'message': 'Image processing - started', 'interval': {'start_date': '2023-01-01', 'end_date': '2023-01-30'}, 'total_interval_cost': None, 'overall_metadata': {'scene_height': None, 'scene_width': None, 'filled_area_km2': None, 'filled_area_percentage_of_aoi': None, 'cloud_cover_percentage': None, 'cloud_cover_percentage_of_aoi': None, 'visible_area_km2': None, 'visible_area_percentage': None, 'visible_area_percentage_of_aoi': None}, 'results': [], 'alternate_search_results': []}, {'id': 'db58e59b-e0ea-46eb-870c-57eaf957aea1', 'created_at': '2024-03-25T20:13:30.914977+0000', 'updated_at': '2024-03-25T20:13:51.902373+0000', 'pipeline_id': '1aaebb2e-eae4-11ee-9b07-2333090573a3', 'output_id': 'a8fc3dde-a3e8-11e7-9793-ae4260ee3b4b', 'status': 'complete', 'message': 'Processing complete', 'interval': {'start_date': '2023-01-31', 'end_date': '2023-01-31'}, 'total_interval_cost': None, 'overall_metadata': {'scene_height': None, 'scene_width': None, 'filled_area_km2': None, 'filled_area_percentage_of_aoi': None, 'cloud_cover_percentage': None, 'cloud_cover_percentage_of_aoi': None, 'visible_area_km2': None, 'visible_area_percentage': None, 'visible_area_percentage_of_aoi': None}, 'results': [], 'alternate_search_results': [{'index': 0, 'search_result_id': 'dc4fbc21-a181-4180-94c3-3e5f55218cb9', 'source': 'Sentinel-2', 'capture_date': '2023-01-31', 'resolution': 10.0, 'price_per_km2': 0, 'max_interval_cost': 0, 'aoi_coverage_percentage': 18.07, 'filled_coverage_percentage': None, 'processing_status': 'rejected - aoi coverage percentage too low'}]}], 'pagination': {'per_page': 500, 'cursor': {'next': None, 'self': '2023-01-01--2023-01-30'}}}\n",
      "404 {'errors': [{'message': 'Not found'}]}\n",
      "404 {'errors': [{'message': 'Not found'}]}\n",
      "404 {'errors': [{'message': 'Not found'}]}\n",
      "404 {'errors': [{'message': 'Not found'}]}\n",
      "404 {'errors': [{'message': 'Not found'}]}\n",
      "404 {'errors': [{'message': 'Not found'}]}\n",
      "404 {'errors': [{'message': 'Not found'}]}\n",
      "404 {'errors': [{'message': 'Not found'}]}\n",
      "404 {'errors': [{'message': 'Not found'}]}\n",
      "404 {'errors': [{'message': 'Not found'}]}\n",
      "404 {'errors': [{'message': 'Not found'}]}\n"
     ]
    }
   ],
   "source": [
    "# after about 20 minutes, make sure the status is ready\n",
    "SDS_earthcache_api.initialize(key)\n",
    "for i in range(len(starts)):\n",
    "    start_date = starts[i]\n",
    "    end_date = ends[i]\n",
    "    pipeline_name = location_name + start_date\n",
    "    status,res = SDS_earthcache_api.checkStatus(pipeline_name)\n",
    "    print(status,res)"
   ]
  },
  {
   "cell_type": "code",
   "execution_count": null,
   "metadata": {},
   "outputs": [],
   "source": [
    "# once the status is good, run this cell to download the images\n",
    "SDS_earthcache_api.initialize(key)\n",
    "images = []\n",
    "for i in range(len(starts)):\n",
    "    start_date = starts[i]\n",
    "    pipeline_name = location_name + start_date\n",
    "    status,res = SDS_earthcache_api.checkStatus(pipeline_name)\n",
    "    if(status == 200):\n",
    "        images.append(SDS_earthcache_api.download_images(pipeline_name))"
   ]
  },
  {
   "cell_type": "code",
   "execution_count": null,
   "metadata": {},
   "outputs": [],
   "source": [
    "# this function visualizes the first image\n",
    "SDS_earthcache_api.view_first_image(images)"
   ]
  }
 ],
 "metadata": {
  "kernelspec": {
   "display_name": "coastsat",
   "language": "python",
   "name": "python3"
  },
  "language_info": {
   "codemirror_mode": {
    "name": "ipython",
    "version": 3
   },
   "file_extension": ".py",
   "mimetype": "text/x-python",
   "name": "python",
   "nbconvert_exporter": "python",
   "pygments_lexer": "ipython3",
   "version": "3.8.15"
  },
  "toc": {
   "base_numbering": 1,
   "nav_menu": {},
   "number_sections": true,
   "sideBar": true,
   "skip_h1_title": false,
   "title_cell": "Table of Contents",
   "title_sidebar": "Contents",
   "toc_cell": false,
   "toc_position": {},
   "toc_section_display": true,
   "toc_window_display": false
  },
  "varInspector": {
   "cols": {
    "lenName": 16,
    "lenType": 16,
    "lenVar": 40
   },
   "kernels_config": {
    "python": {
     "delete_cmd_postfix": "",
     "delete_cmd_prefix": "del ",
     "library": "var_list.py",
     "varRefreshCmd": "print(var_dic_list())"
    },
    "r": {
     "delete_cmd_postfix": ") ",
     "delete_cmd_prefix": "rm(",
     "library": "var_list.r",
     "varRefreshCmd": "cat(var_dic_list()) "
    }
   },
   "types_to_exclude": [
    "module",
    "function",
    "builtin_function_or_method",
    "instance",
    "_Feature"
   ],
   "window_display": false
  }
 },
 "nbformat": 4,
 "nbformat_minor": 4
}
