{
 "cells": [
  {
   "cell_type": "code",
   "execution_count": 1,
   "metadata": {
    "tags": []
   },
   "outputs": [],
   "source": [
    "%load_ext autoreload\n",
    "%autoreload 2\n",
    "import os\n",
    "import numpy as np\n",
    "\n",
    "import matplotlib\n",
    "matplotlib.use('Qt5Agg')\n",
    "import matplotlib.pyplot as plt\n",
    "from matplotlib import gridspec\n",
    "plt.ion()\n",
    "from PIL import Image\n",
    "from osgeo import gdal"
   ]
  },
  {
   "cell_type": "code",
   "execution_count": 2,
   "metadata": {},
   "outputs": [],
   "source": [
    "#recursively look through a directory and create a list of all tif files\n",
    "\n",
    "def get_tif_files(directory):\n",
    "    tif_files = []\n",
    "    for root, dirs, files in os.walk(directory):\n",
    "        for file in files:\n",
    "            if file.endswith(\".tif\"):\n",
    "                tif_files.append(os.path.join(root, file))\n",
    "    return tif_files\n",
    "\n",
    "#look through directory and return a list of all subdirectories that start with a certain string\n",
    "def get_subdirs(directory, startswith):\n",
    "    subdirs = []\n",
    "    for root, dirs, files in os.walk(directory):\n",
    "        for d in dirs:\n",
    "            if d.startswith(startswith):\n",
    "                subdirs.append(os.path.join(root, d))\n",
    "    return subdirs"
   ]
  },
  {
   "cell_type": "code",
   "execution_count": 16,
   "metadata": {},
   "outputs": [
    {
     "data": {
      "text/plain": [
       "['data\\\\Ukulhas_2023-01-01_medium',\n",
       " 'data\\\\Ukulhas_2023-02-01_medium',\n",
       " 'data\\\\Ukulhas_2023-03-01_medium',\n",
       " 'data\\\\Ukulhas_2023-04-01_medium',\n",
       " 'data\\\\Ukulhas_2023-05-01_medium',\n",
       " 'data\\\\Ukulhas_2023-06-01_medium',\n",
       " 'data\\\\Ukulhas_2023-07-01_medium',\n",
       " 'data\\\\Ukulhas_2023-08-01_medium',\n",
       " 'data\\\\Ukulhas_2023-09-01_medium',\n",
       " 'data\\\\Ukulhas_2023-10-01_medium',\n",
       " 'data\\\\Ukulhas_2023-11-01_medium',\n",
       " 'data\\\\Ukulhas_2023-12-01_medium']"
      ]
     },
     "execution_count": 16,
     "metadata": {},
     "output_type": "execute_result"
    }
   ],
   "source": [
    "subds = get_subdirs(\"data\", \"Ukulhas_2023\")\n",
    "subds"
   ]
  },
  {
   "cell_type": "code",
   "execution_count": 12,
   "metadata": {},
   "outputs": [],
   "source": [
    "tifs = []\n",
    "for subd in subds:\n",
    "    tifs.extend(get_tif_files(subd))"
   ]
  },
  {
   "cell_type": "markdown",
   "metadata": {},
   "source": [
    "# read in tiff and view"
   ]
  },
  {
   "cell_type": "code",
   "execution_count": 19,
   "metadata": {},
   "outputs": [],
   "source": [
    "#function to read in multiband tiff file and return viewable array alongside other bands array\n",
    "def vis_tif(file_path):\n",
    "    # read bands\n",
    "    data = gdal.Open(file_path, gdal.GA_ReadOnly)\n",
    "    georef = np.array(data.GetGeoTransform())\n",
    "    bands = [data.GetRasterBand(k + 1).ReadAsArray() for k in range(data.RasterCount)]\n",
    "    im_ms = np.stack(bands, 2)\n",
    "    im_ms = im_ms/10000 # TOA scaled to 10000\n",
    "\n",
    "    #example of separating visible from other bands and returning separately\n",
    "    r = im_ms[:,:,5]#red\n",
    "    g = im_ms[:,:,3]#green\n",
    "    b = im_ms[:,:,0]#coastal blue\n",
    "\n",
    "    bl = im_ms[:,:,1]#blue\n",
    "    gr53 = im_ms[:,:,2]#green 53\n",
    "    y = im_ms[:,:,4]#yellow\n",
    "    veg_red = im_ms[:,:,6]#vegetation red edge\n",
    "    #nir = im_ms[:,:,7]#nir\n",
    "\n",
    "    im_vis = np.stack([r,g,b],2)\n",
    "    im_alt = np.stack([bl,gr53,y,veg_red],2)#,nir],2)\n",
    "    return im_vis,im_alt\n"
   ]
  },
  {
   "cell_type": "code",
   "execution_count": 20,
   "metadata": {},
   "outputs": [],
   "source": [
    "for tif in tifs:\n",
    "    fp = tif#'data/Ukulhas_2023-11-01_medium/137f6427-9fb3-4380-a0b6-4766910bb0c4/20231115_052549/SKYWATCH_PLSD_PS_20231115T0525_ALL_Tile_0_0_9765.tif'\n",
    "    #split path to get filename\n",
    "    filename = os.path.basename(fp)\n",
    "    filename = os.path.splitext(filename)[0]\n",
    "\n",
    "\n",
    "    visible_bands,alt_bands = vis_tif(fp)\n",
    "    visible_bands = (visible_bands*255).astype(np.uint8)\n",
    "    visible_bands = Image.fromarray(visible_bands)\n",
    "    visible_bands.save('D:/Github/CoastSat/data/ukulhas/mr/png/' + filename + '.png')\n",
    "\n",
    "\n",
    "    #copy the tif file to a new location\n",
    "    import shutil\n",
    "    shutil.copy(fp,'D:/Github/CoastSat/data/ukulhas/mr/ms/'+ filename + '.tif')#"
   ]
  }
 ],
 "metadata": {
  "kernelspec": {
   "display_name": "coastsat",
   "language": "python",
   "name": "python3"
  },
  "language_info": {
   "codemirror_mode": {
    "name": "ipython",
    "version": 3
   },
   "file_extension": ".py",
   "mimetype": "text/x-python",
   "name": "python",
   "nbconvert_exporter": "python",
   "pygments_lexer": "ipython3",
   "version": "3.8.15"
  },
  "toc": {
   "base_numbering": 1,
   "nav_menu": {},
   "number_sections": true,
   "sideBar": true,
   "skip_h1_title": false,
   "title_cell": "Table of Contents",
   "title_sidebar": "Contents",
   "toc_cell": false,
   "toc_position": {},
   "toc_section_display": true,
   "toc_window_display": false
  },
  "varInspector": {
   "cols": {
    "lenName": 16,
    "lenType": 16,
    "lenVar": 40
   },
   "kernels_config": {
    "python": {
     "delete_cmd_postfix": "",
     "delete_cmd_prefix": "del ",
     "library": "var_list.py",
     "varRefreshCmd": "print(var_dic_list())"
    },
    "r": {
     "delete_cmd_postfix": ") ",
     "delete_cmd_prefix": "rm(",
     "library": "var_list.r",
     "varRefreshCmd": "cat(var_dic_list()) "
    }
   },
   "types_to_exclude": [
    "module",
    "function",
    "builtin_function_or_method",
    "instance",
    "_Feature"
   ],
   "window_display": false
  }
 },
 "nbformat": 4,
 "nbformat_minor": 4
}
