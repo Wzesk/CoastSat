{
 "cells": [
  {
   "cell_type": "markdown",
   "metadata": {},
   "source": [
    "# imports"
   ]
  },
  {
   "attachments": {},
   "cell_type": "markdown",
   "metadata": {},
   "source": [
    "https://www.wrl.unsw.edu.au/news/coastsat-how-to-estimate-beach-slopes-using-satellite-imagery\n",
    "https://www.wrl.unsw.edu.au/research/coastsat\n"
   ]
  },
  {
   "cell_type": "code",
   "execution_count": 17,
   "metadata": {
    "tags": []
   },
   "outputs": [
    {
     "name": "stdout",
     "output_type": "stream",
     "text": [
      "The autoreload extension is already loaded. To reload it, use:\n",
      "  %reload_ext autoreload\n"
     ]
    }
   ],
   "source": [
    "%load_ext autoreload\n",
    "%autoreload 2\n",
    "import os\n",
    "import numpy as np\n",
    "import pickle\n",
    "import warnings\n",
    "import time\n",
    "warnings.filterwarnings(\"ignore\")\n",
    "import matplotlib\n",
    "matplotlib.use('Qt5Agg')\n",
    "import matplotlib.pyplot as plt\n",
    "from matplotlib import gridspec\n",
    "plt.ion()\n",
    "import pandas as pd\n",
    "from datetime import datetime\n",
    "from coastsat import SDS_earthcache_api, SDS_preprocess, SDS_shoreline, SDS_tools, SDS_transects, SDS_earthcache_client"
   ]
  },
  {
   "cell_type": "markdown",
   "metadata": {},
   "source": [
    "## setup timeline and AOL"
   ]
  },
  {
   "cell_type": "code",
   "execution_count": 9,
   "metadata": {},
   "outputs": [],
   "source": [
    "#setup monthly pipelines\n",
    "def fmt(x):\n",
    "    if x < 10:\n",
    "        return '0' + str(x)\n",
    "    else:\n",
    "        return str(x)\n",
    "def monthly_pipes(startyear,endyear=2024,day=[0,0]):  \n",
    "    starts = [] ; ends = []\n",
    "    dates = range(startyear, endyear)  \n",
    "    for y in dates:\n",
    "        for m in range(1, 13):\n",
    "            if day[0] == 0:\n",
    "                starts.append(str(y) + '-' + fmt(m) + '-01')\n",
    "            else:\n",
    "                starts.append(str(y) + '-' + fmt(m) + '-' + fmt(day[0]))\n",
    "\n",
    "            if day[1] == 0:\n",
    "                if m == 2:\n",
    "                    ends.append(str(y) + '-' + fmt(m) + '-28')\n",
    "                elif m in [4, 6, 9, 11]:\n",
    "                    ends.append(str(y) + '-' + fmt(m) + '-30')\n",
    "                else:\n",
    "                    ends.append(str(y) + '-' + fmt(m) + '-31')\n",
    "            else:\n",
    "                ends.append(str(y) + '-' + fmt(m) + '-' + fmt(day[1]))\n",
    "    return starts, ends"
   ]
  },
  {
   "cell_type": "code",
   "execution_count": 10,
   "metadata": {},
   "outputs": [],
   "source": [
    "# these coordinates are a rectangle around the island of Madhirivaadhoo\n",
    "aoi = { \"type\": \"Polygon\", \n",
    "        \"coordinates\": [\n",
    "      [\n",
    "          [\n",
    "            72.85318351534859,\n",
    "            4.227805672204206,\n",
    "            0\n",
    "          ],\n",
    "          [\n",
    "            72.85339136125246,\n",
    "            4.207331395520955,\n",
    "            0\n",
    "          ],\n",
    "          [\n",
    "            72.87337028624503,\n",
    "            4.207517991124759,\n",
    "            0\n",
    "          ],\n",
    "          [\n",
    "            72.8731121458676,\n",
    "            4.227805397834814,\n",
    "            0\n",
    "          ],\n",
    "          [\n",
    "            72.85318351534859,\n",
    "            4.227805672204206,\n",
    "            0\n",
    "          ]\n",
    "      ]\n",
    "    ]\n",
    "    }"
   ]
  },
  {
   "cell_type": "markdown",
   "metadata": {},
   "source": [
    "# setup pipeline"
   ]
  },
  {
   "cell_type": "code",
   "execution_count": 11,
   "metadata": {},
   "outputs": [],
   "source": [
    "key = input(\"please enter your API key for Earthcache:\")"
   ]
  },
  {
   "cell_type": "code",
   "execution_count": 19,
   "metadata": {
    "tags": []
   },
   "outputs": [
    {
     "name": "stdout",
     "output_type": "stream",
     "text": [
      "d5431cc4-b43b-4f31-8db4-d1efe9e589c9\n"
     ]
    }
   ],
   "source": [
    "nb_client =SDS_earthcache_api.initialize_client(key,max_cost=100)\n",
    "location_name = 'Ukulhas_'\n",
    "resolution = 'medium'\n",
    "interval = '5d'"
   ]
  },
  {
   "cell_type": "code",
   "execution_count": null,
   "metadata": {},
   "outputs": [
    {
     "data": {
      "text/plain": [
       "(200,\n",
       " {'data': [{'id': '154311a8-582a-11e7-b30d-7291b81e23e1',\n",
       "    'name': 'NDVI',\n",
       "    'description': 'Normalized Difference Vegetation Index (NDVI) images is a ratio image of the near-infrared, and red bands. NDVI images can be used to measure biomass, assess plant health and stress levels, quantify forest supply, and monitor plant growth. By combining NDVI data with precipitation data, it is also possible to identify at-risk areas for drought.',\n",
       "    'cover_image': {'url': 'https://s3-us-west-2.amazonaws.com/skywatch-public-imagery/outputs/NDVI.jpg',\n",
       "     'alt_text': 'SkyWatch Space Applications'},\n",
       "    'provider': {'name': 'SkyWatch', 'logo_url': None},\n",
       "    'private': False},\n",
       "   {'id': '154311a8-582a-11e7-b30d-7291b81e23e3',\n",
       "    'name': 'False Colour Infrared',\n",
       "    'description': 'A false colour infrared composite image is a combination of near-infrared, red, and green  bands. It is often used to track vegetation health or help identify different types of soil and minerals.',\n",
       "    'cover_image': {'url': 'https://s3-us-west-2.amazonaws.com/skywatch-public-imagery/outputs/False_Colour_Infrared.jpg',\n",
       "     'alt_text': 'SkyWatch Space Applications'},\n",
       "    'provider': {'name': 'SkyWatch', 'logo_url': None},\n",
       "    'private': False},\n",
       "   {'id': 'cfcb7d93-8d53-482b-88bd-808bb45940e2',\n",
       "    'name': 'Panchromatic',\n",
       "    'description': 'This will return the panchromatic values for your area of interest.',\n",
       "    'cover_image': {'url': 'https://s3-us-west-2.amazonaws.com/skywatch-public-imagery/outputs/Panchromatic.jpg',\n",
       "     'alt_text': 'SkyWatch Space Applications'},\n",
       "    'provider': {'name': 'SkyWatch', 'logo_url': None},\n",
       "    'private': False},\n",
       "   {'id': 'ga23d8a2-8f3d-481c-b7ef-9fa02839aab0',\n",
       "    'name': 'Near-infrared',\n",
       "    'description': 'This will return the near-infrared (NIR) values for your area of interest.',\n",
       "    'cover_image': {'url': 'https://s3-us-west-2.amazonaws.com/skywatch-public-imagery/outputs/Near_Infrared.jpg',\n",
       "     'alt_text': 'SkyWatch Space Applications'},\n",
       "    'provider': {'name': 'SkyWatch', 'logo_url': None},\n",
       "    'private': False},\n",
       "   {'id': '3cab2e68-b4d4-11e7-a775-a6fe70ce62b1',\n",
       "    'name': 'MSAVI2',\n",
       "    'description': 'Second Modified Soil Adjusted Vegetation Index (MSAVI2) developed by Qi et al. (1994) is a radiometric index using the near-infrared and red bands. MSAVI2 images are often used to look at vegetation cover, biomass and to determine leaf area index. They can also be used as an input layer for mapping land cover or vegetation classes',\n",
       "    'cover_image': {'url': 'https://s3-us-west-2.amazonaws.com/skywatch-public-imagery/outputs/NDVI.jpg',\n",
       "     'alt_text': 'SkyWatch Space Applications'},\n",
       "    'provider': {'name': 'SkyWatch', 'logo_url': None},\n",
       "    'private': False},\n",
       "   {'id': '618d6a80-c644-11e7-bcc8-6a19e9a09842',\n",
       "    'name': 'EVI',\n",
       "    'description': 'Enhanced Vegetation Index (https://en.wikipedia.org/wiki/Enhanced_vegetation_index)',\n",
       "    'cover_image': {'url': 'https://s3-us-west-2.amazonaws.com/skywatch-public-imagery/outputs/NDVI.jpg',\n",
       "     'alt_text': 'SkyWatch Space Applications'},\n",
       "    'provider': {'name': 'SkyWatch', 'logo_url': None},\n",
       "    'private': False},\n",
       "   {'id': '1f0db8b2-b4d4-11e7-a775-a6fe70ce62b1',\n",
       "    'name': 'False Colour Urban',\n",
       "    'description': 'A false colour urban composite image is a combination of short wave infrared 1 (SWIR1), short wave infrared 2 (SWIR2), and red bands. It is often used to track urban sprawl and identify areas at risk of flooding.',\n",
       "    'cover_image': {'url': 'https://s3-us-west-2.amazonaws.com/skywatch-public-imagery/outputs/False_Colour_Urban.jpg',\n",
       "     'alt_text': 'SkyWatch Space Applications'},\n",
       "    'provider': {'name': 'SkyWatch', 'logo_url': None},\n",
       "    'private': False},\n",
       "   {'id': 'a8fc3dde-a3e8-11e7-9793-ae4260ee3b4b',\n",
       "    'name': 'True Colour Image',\n",
       "    'description': 'A true colour image is a combination of red, green, and blue bands. The results have been pansharpened where possible.',\n",
       "    'cover_image': {'url': 'https://s3-us-west-2.amazonaws.com/skywatch-public-imagery/outputs/True_Colour_Image.jpg',\n",
       "     'alt_text': 'SkyWatch Space Applications'},\n",
       "    'provider': {'name': 'SkyWatch', 'logo_url': None},\n",
       "    'private': False},\n",
       "   {'id': 'SAR-018-fe30-11e8-81b3-da121bd73b52',\n",
       "    'name': 'SAR Terrain Flattened',\n",
       "    'description': 'SAR Terrain Flattened Gamma0',\n",
       "    'cover_image': {'url': 'https://s3-us-west-2.amazonaws.com/skywatch-public-imagery/outputs/sar_terrain_flattened.jpg',\n",
       "     'alt_text': 'SkyWatch Space Applications'},\n",
       "    'provider': {'name': 'SkyWatch', 'logo_url': None},\n",
       "    'private': False},\n",
       "   {'id': 'rgbn-a3e8-11e7-9793-ae4260ee3b4b',\n",
       "    'name': 'RGB+NIR',\n",
       "    'description': 'A true colour image is a combination of red, green, and blue bands. In this output, the near-infrared band is also available in the same result.',\n",
       "    'cover_image': {'url': 'https://s3-us-west-2.amazonaws.com/skywatch-public-imagery/outputs/True_Colour_Image.jpg',\n",
       "     'alt_text': 'SkyWatch Space Applications'},\n",
       "    'provider': {'name': 'SkyWatch', 'logo_url': None},\n",
       "    'private': False},\n",
       "   {'id': '59a6c7d6-c8a5-11e7-bf5c-a24e57c3cdd2',\n",
       "    'name': 'NDWI2',\n",
       "    'description': 'Normalized Difference Water Index (https://en.wikipedia.org/wiki/Normalized_difference_water_index)',\n",
       "    'cover_image': {'url': 'https://s3-us-west-2.amazonaws.com/skywatch-public-imagery/outputs/NDVI.jpg',\n",
       "     'alt_text': 'SkyWatch Space Applications'},\n",
       "    'provider': {'name': 'SkyWatch', 'logo_url': None},\n",
       "    'private': False},\n",
       "   {'id': 'SAR-001-8b9a-11e8-8be6-96ebfee15dc6',\n",
       "    'name': 'SAR',\n",
       "    'description': 'SAR',\n",
       "    'cover_image': {'url': 'https://s3-us-west-2.amazonaws.com/skywatch-public-imagery/outputs/sar_singlepol.jpg',\n",
       "     'alt_text': 'SkyWatch Space Applications'},\n",
       "    'provider': {'name': 'SkyWatch', 'logo_url': None},\n",
       "    'private': False},\n",
       "   {'id': 'c31c1bea-a4be-11e7-8650-3ae5c7149ea7',\n",
       "    'name': 'All Optical Bands',\n",
       "    'description': 'All optical spectral bands in a product',\n",
       "    'cover_image': {'url': 'https://s3-us-west-2.amazonaws.com/skywatch-public-imagery/outputs/All_Bands.jpg',\n",
       "     'alt_text': 'SkyWatch Space Applications'},\n",
       "    'provider': {'name': 'SkyWatch', 'logo_url': None},\n",
       "    'private': False},\n",
       "   {'id': 'SAR-010-e58e-4fad-9f27-31abf952160d',\n",
       "    'name': 'SAR Terrain Corrected',\n",
       "    'description': 'SAR Terrain Corrected Sigma0',\n",
       "    'cover_image': {'url': 'https://s3-us-west-2.amazonaws.com/skywatch-public-imagery/outputs/sar_singlepol.jpg',\n",
       "     'alt_text': 'SkyWatch Space Applications'},\n",
       "    'provider': {'name': 'SkyWatch', 'logo_url': None},\n",
       "    'private': False}]})"
      ]
     },
     "execution_count": 6,
     "metadata": {},
     "output_type": "execute_result"
    }
   ],
   "source": [
    "#nb_client.getOutputs()"
   ]
  },
  {
   "cell_type": "markdown",
   "metadata": {},
   "source": [
    "'id': 'c31c1bea-a4be-11e7-8650-3ae5c7149ea7'\n",
    "\n",
    "'name': 'All Optical Bands'\n",
    "\n",
    "'description': 'All optical spectral bands in a product',"
   ]
  },
  {
   "cell_type": "code",
   "execution_count": 20,
   "metadata": {},
   "outputs": [],
   "source": [
    "image_type = 'c31c1bea-a4be-11e7-8650-3ae5c7149ea7'#\"a8fc3dde-a3e8-11e7-9793-ae4260ee3b4b\" "
   ]
  },
  {
   "cell_type": "markdown",
   "metadata": {},
   "source": [
    "# test pipeline"
   ]
  },
  {
   "cell_type": "code",
   "execution_count": 35,
   "metadata": {},
   "outputs": [],
   "source": [
    "# need to initialize the api first\n",
    "#SDS_earthcache_api.initialize(key)\n",
    "#create a set of dates so each pipeline is one month\n",
    "starts,ends = monthly_pipes(2022)#,day=[2,0])\n",
    "\n",
    "month_range = range(1,12) # testing with one month at a time -- change to len(starts) to run all months"
   ]
  },
  {
   "cell_type": "code",
   "execution_count": 36,
   "metadata": {},
   "outputs": [
    {
     "name": "stdout",
     "output_type": "stream",
     "text": [
      "Ukulhas_2022-02-01_medium ending: 2022-02-28\n",
      "{'interval_quantity': 6, 'price_km2': 2.5, 'minimum_area_km2': 0.1, 'interval_cost': 12.57, 'max_cost': 75.39}\n",
      "balance: 3000.0\n",
      "Ukulhas_2022-03-01_medium ending: 2022-03-31\n",
      "{'interval_quantity': 7, 'price_km2': 2.5, 'minimum_area_km2': 0.1, 'interval_cost': 12.57, 'max_cost': 87.96}\n",
      "balance: 3000.0\n",
      "Ukulhas_2022-04-01_medium ending: 2022-04-30\n",
      "{'interval_quantity': 6, 'price_km2': 2.5, 'minimum_area_km2': 0.1, 'interval_cost': 12.57, 'max_cost': 75.39}\n",
      "balance: 3000.0\n",
      "Ukulhas_2022-05-01_medium ending: 2022-05-31\n",
      "{'interval_quantity': 7, 'price_km2': 2.5, 'minimum_area_km2': 0.1, 'interval_cost': 12.57, 'max_cost': 87.96}\n",
      "balance: 3000.0\n",
      "Ukulhas_2022-06-01_medium ending: 2022-06-30\n",
      "{'interval_quantity': 6, 'price_km2': 2.5, 'minimum_area_km2': 0.1, 'interval_cost': 12.57, 'max_cost': 75.39}\n",
      "balance: 3000.0\n",
      "Ukulhas_2022-07-01_medium ending: 2022-07-31\n",
      "{'interval_quantity': 7, 'price_km2': 2.5, 'minimum_area_km2': 0.1, 'interval_cost': 12.57, 'max_cost': 87.96}\n",
      "balance: 3000.0\n",
      "Ukulhas_2022-08-01_medium ending: 2022-08-31\n",
      "{'interval_quantity': 7, 'price_km2': 2.5, 'minimum_area_km2': 0.1, 'interval_cost': 12.57, 'max_cost': 87.96}\n",
      "balance: 3000.0\n",
      "Ukulhas_2022-09-01_medium ending: 2022-09-30\n",
      "{'interval_quantity': 6, 'price_km2': 2.5, 'minimum_area_km2': 0.1, 'interval_cost': 12.57, 'max_cost': 75.39}\n",
      "balance: 3000.0\n",
      "Ukulhas_2022-10-01_medium ending: 2022-10-31\n",
      "{'interval_quantity': 7, 'price_km2': 2.5, 'minimum_area_km2': 0.1, 'interval_cost': 12.57, 'max_cost': 87.96}\n",
      "balance: 3000.0\n",
      "Ukulhas_2022-11-01_medium ending: 2022-11-30\n",
      "{'interval_quantity': 6, 'price_km2': 2.5, 'minimum_area_km2': 0.1, 'interval_cost': 12.57, 'max_cost': 75.39}\n",
      "balance: 3000.0\n",
      "Ukulhas_2022-12-01_medium ending: 2022-12-31\n",
      "{'interval_quantity': 7, 'price_km2': 2.5, 'minimum_area_km2': 0.1, 'interval_cost': 12.57, 'max_cost': 87.96}\n",
      "balance: 3000.0\n"
     ]
    }
   ],
   "source": [
    "\n",
    "for i in month_range:\n",
    "    start_date = starts[i] \n",
    "    end_date = ends[i]\n",
    "    pipeline_name = location_name + start_date + '_' + resolution\n",
    "    print(pipeline_name + \" ending: \" + end_date)\n",
    "    status, response = nb_client.calculatePrice(resolution, aoi, start_date, end_date,interval)\n",
    "    if(status != 200):\n",
    "        print(response['errors'])\n",
    "    else:\n",
    "        print(response['data']['archive'])\n",
    "        print(\"balance: \"+str(response['data']['prepurchase_balance']))\n",
    "    #add 3 seconds of delay between each request\n",
    "    time.sleep(3)"
   ]
  },
  {
   "cell_type": "markdown",
   "metadata": {},
   "source": [
    "# run pipeline"
   ]
  },
  {
   "cell_type": "code",
   "execution_count": 37,
   "metadata": {},
   "outputs": [
    {
     "name": "stdout",
     "output_type": "stream",
     "text": [
      "201 {'data': {'id': 'b9a55c6a-071b-11ef-91f3-093f025a67e0', 'name': 'Ukulhas_2022-02-01_medium', 'start_date': '2022-02-01', 'end_date': '2022-02-28', 'aoi': {'type': 'Polygon', 'coordinates': [[[72.85318351534859, 4.227805672204206, 0], [72.85339136125246, 4.207331395520955, 0], [72.87337028624503, 4.207517991124759, 0], [72.8731121458676, 4.227805397834814, 0], [72.85318351534859, 4.227805672204206, 0]]]}, 'area_km2': 5.026146507863212, 'cloud_cover_percentage': 25, 'min_aoi_coverage_percentage': 75, 'interval': '5d', 'resolution_low': 30, 'resolution_high': 1.5, 'status': 'pending', 'tags': None, 'created_at': '2024-04-30T18:01:53.173579Z', 'updated_at': '2024-04-30T18:01:53.173579Z', 'max_cost': 100, 'result_delivery': {'max_latency': '0d', 'priorities': ['lowest_cost']}, 'output': {'id': 'c31c1bea-a4be-11e7-8650-3ae5c7149ea7', 'format': 'geotiff', 'mosaic': 'stitched'}}}\n",
      "200 {'data': {'id': 'b9a55c6a-071b-11ef-91f3-093f025a67e0', 'org_id': '001JR00000AfBY1YAN', 'name': 'Ukulhas_2022-02-01_medium', 'start_date': '2022-02-01', 'end_date': '2022-02-28', 'aoi': {'type': 'Polygon', 'coordinates': [[[72.85318351534859, 4.227805672204206], [72.85339136125246, 4.207331395520955], [72.87337028624503, 4.207517991124759], [72.8731121458676, 4.227805397834814], [72.85318351534859, 4.227805672204206]]]}, 'area_km2': 5.026146507863212, 'cloud_cover_percentage': 25, 'min_aoi_coverage_percentage': 75, 'interval': '5d', 'resolution_low': 30, 'resolution_high': 1.5, 'output': {'id': 'c31c1bea-a4be-11e7-8650-3ae5c7149ea7', 'format': 'geotiff', 'mosaic': 'stitched'}, 'status': 'pending', 'tags': [], 'result_delivery': {'max_latency': '0d', 'priorities': ['lowest_cost']}, 'created_at': '2024-04-30T18:01:53.173579Z', 'updated_at': '2024-04-30T18:01:53Z', 'max_cost': 100, 'user_information': {}}}\n",
      "201 {'data': {'id': 'beca3deb-071b-11ef-b498-093f025a67e0', 'name': 'Ukulhas_2022-03-01_medium', 'start_date': '2022-03-01', 'end_date': '2022-03-31', 'aoi': {'type': 'Polygon', 'coordinates': [[[72.85318351534859, 4.227805672204206, 0], [72.85339136125246, 4.207331395520955, 0], [72.87337028624503, 4.207517991124759, 0], [72.8731121458676, 4.227805397834814, 0], [72.85318351534859, 4.227805672204206, 0]]]}, 'area_km2': 5.026146507863212, 'cloud_cover_percentage': 25, 'min_aoi_coverage_percentage': 75, 'interval': '5d', 'resolution_low': 30, 'resolution_high': 1.5, 'status': 'pending', 'tags': None, 'created_at': '2024-04-30T18:02:01.820858Z', 'updated_at': '2024-04-30T18:02:01.820858Z', 'max_cost': 100, 'result_delivery': {'max_latency': '0d', 'priorities': ['lowest_cost']}, 'output': {'id': 'c31c1bea-a4be-11e7-8650-3ae5c7149ea7', 'format': 'geotiff', 'mosaic': 'stitched'}}}\n",
      "200 {'data': {'id': 'beca3deb-071b-11ef-b498-093f025a67e0', 'org_id': '001JR00000AfBY1YAN', 'name': 'Ukulhas_2022-03-01_medium', 'start_date': '2022-03-01', 'end_date': '2022-03-31', 'aoi': {'type': 'Polygon', 'coordinates': [[[72.85318351534859, 4.227805672204206], [72.85339136125246, 4.207331395520955], [72.87337028624503, 4.207517991124759], [72.8731121458676, 4.227805397834814], [72.85318351534859, 4.227805672204206]]]}, 'area_km2': 5.026146507863212, 'cloud_cover_percentage': 25, 'min_aoi_coverage_percentage': 75, 'interval': '5d', 'resolution_low': 30, 'resolution_high': 1.5, 'output': {'id': 'c31c1bea-a4be-11e7-8650-3ae5c7149ea7', 'format': 'geotiff', 'mosaic': 'stitched'}, 'status': 'active', 'tags': [], 'result_delivery': {'max_latency': '0d', 'priorities': ['lowest_cost']}, 'created_at': '2024-04-30T18:02:01.820858Z', 'updated_at': '2024-04-30T18:02:02Z', 'max_cost': 100, 'user_information': {}}}\n",
      "201 {'data': {'id': 'c1dc0903-071b-11ef-9045-093f025a67e0', 'name': 'Ukulhas_2022-04-01_medium', 'start_date': '2022-04-01', 'end_date': '2022-04-30', 'aoi': {'type': 'Polygon', 'coordinates': [[[72.85318351534859, 4.227805672204206, 0], [72.85339136125246, 4.207331395520955, 0], [72.87337028624503, 4.207517991124759, 0], [72.8731121458676, 4.227805397834814, 0], [72.85318351534859, 4.227805672204206, 0]]]}, 'area_km2': 5.026146507863212, 'cloud_cover_percentage': 25, 'min_aoi_coverage_percentage': 75, 'interval': '5d', 'resolution_low': 30, 'resolution_high': 1.5, 'status': 'pending', 'tags': None, 'created_at': '2024-04-30T18:02:06.952402Z', 'updated_at': '2024-04-30T18:02:06.952402Z', 'max_cost': 100, 'result_delivery': {'max_latency': '0d', 'priorities': ['lowest_cost']}, 'output': {'id': 'c31c1bea-a4be-11e7-8650-3ae5c7149ea7', 'format': 'geotiff', 'mosaic': 'stitched'}}}\n",
      "200 {'data': {'id': 'c1dc0903-071b-11ef-9045-093f025a67e0', 'org_id': '001JR00000AfBY1YAN', 'name': 'Ukulhas_2022-04-01_medium', 'start_date': '2022-04-01', 'end_date': '2022-04-30', 'aoi': {'type': 'Polygon', 'coordinates': [[[72.85318351534859, 4.227805672204206], [72.85339136125246, 4.207331395520955], [72.87337028624503, 4.207517991124759], [72.8731121458676, 4.227805397834814], [72.85318351534859, 4.227805672204206]]]}, 'area_km2': 5.026146507863212, 'cloud_cover_percentage': 25, 'min_aoi_coverage_percentage': 75, 'interval': '5d', 'resolution_low': 30, 'resolution_high': 1.5, 'output': {'id': 'c31c1bea-a4be-11e7-8650-3ae5c7149ea7', 'format': 'geotiff', 'mosaic': 'stitched'}, 'status': 'active', 'tags': [], 'result_delivery': {'max_latency': '0d', 'priorities': ['lowest_cost']}, 'created_at': '2024-04-30T18:02:06.952402Z', 'updated_at': '2024-04-30T18:02:07Z', 'max_cost': 100, 'user_information': {}}}\n",
      "201 {'data': {'id': 'c50ac670-071b-11ef-8c4d-093f025a67e0', 'name': 'Ukulhas_2022-05-01_medium', 'start_date': '2022-05-01', 'end_date': '2022-05-31', 'aoi': {'type': 'Polygon', 'coordinates': [[[72.85318351534859, 4.227805672204206, 0], [72.85339136125246, 4.207331395520955, 0], [72.87337028624503, 4.207517991124759, 0], [72.8731121458676, 4.227805397834814, 0], [72.85318351534859, 4.227805672204206, 0]]]}, 'area_km2': 5.026146507863212, 'cloud_cover_percentage': 25, 'min_aoi_coverage_percentage': 75, 'interval': '5d', 'resolution_low': 30, 'resolution_high': 1.5, 'status': 'pending', 'tags': None, 'created_at': '2024-04-30T18:02:12.310085Z', 'updated_at': '2024-04-30T18:02:12.310085Z', 'max_cost': 100, 'result_delivery': {'max_latency': '0d', 'priorities': ['lowest_cost']}, 'output': {'id': 'c31c1bea-a4be-11e7-8650-3ae5c7149ea7', 'format': 'geotiff', 'mosaic': 'stitched'}}}\n",
      "200 {'data': {'id': 'c50ac670-071b-11ef-8c4d-093f025a67e0', 'org_id': '001JR00000AfBY1YAN', 'name': 'Ukulhas_2022-05-01_medium', 'start_date': '2022-05-01', 'end_date': '2022-05-31', 'aoi': {'type': 'Polygon', 'coordinates': [[[72.85318351534859, 4.227805672204206], [72.85339136125246, 4.207331395520955], [72.87337028624503, 4.207517991124759], [72.8731121458676, 4.227805397834814], [72.85318351534859, 4.227805672204206]]]}, 'area_km2': 5.026146507863212, 'cloud_cover_percentage': 25, 'min_aoi_coverage_percentage': 75, 'interval': '5d', 'resolution_low': 30, 'resolution_high': 1.5, 'output': {'id': 'c31c1bea-a4be-11e7-8650-3ae5c7149ea7', 'format': 'geotiff', 'mosaic': 'stitched'}, 'status': 'active', 'tags': [], 'result_delivery': {'max_latency': '0d', 'priorities': ['lowest_cost']}, 'created_at': '2024-04-30T18:02:12.310085Z', 'updated_at': '2024-04-30T18:02:12Z', 'max_cost': 100, 'user_information': {}}}\n",
      "201 {'data': {'id': 'c85213f8-071b-11ef-9fed-093f025a67e0', 'name': 'Ukulhas_2022-06-01_medium', 'start_date': '2022-06-01', 'end_date': '2022-06-30', 'aoi': {'type': 'Polygon', 'coordinates': [[[72.85318351534859, 4.227805672204206, 0], [72.85339136125246, 4.207331395520955, 0], [72.87337028624503, 4.207517991124759, 0], [72.8731121458676, 4.227805397834814, 0], [72.85318351534859, 4.227805672204206, 0]]]}, 'area_km2': 5.026146507863212, 'cloud_cover_percentage': 25, 'min_aoi_coverage_percentage': 75, 'interval': '5d', 'resolution_low': 30, 'resolution_high': 1.5, 'status': 'pending', 'tags': None, 'created_at': '2024-04-30T18:02:17.794411Z', 'updated_at': '2024-04-30T18:02:17.794411Z', 'max_cost': 100, 'result_delivery': {'max_latency': '0d', 'priorities': ['lowest_cost']}, 'output': {'id': 'c31c1bea-a4be-11e7-8650-3ae5c7149ea7', 'format': 'geotiff', 'mosaic': 'stitched'}}}\n",
      "200 {'data': {'id': 'c85213f8-071b-11ef-9fed-093f025a67e0', 'org_id': '001JR00000AfBY1YAN', 'name': 'Ukulhas_2022-06-01_medium', 'start_date': '2022-06-01', 'end_date': '2022-06-30', 'aoi': {'type': 'Polygon', 'coordinates': [[[72.85318351534859, 4.227805672204206], [72.85339136125246, 4.207331395520955], [72.87337028624503, 4.207517991124759], [72.8731121458676, 4.227805397834814], [72.85318351534859, 4.227805672204206]]]}, 'area_km2': 5.026146507863212, 'cloud_cover_percentage': 25, 'min_aoi_coverage_percentage': 75, 'interval': '5d', 'resolution_low': 30, 'resolution_high': 1.5, 'output': {'id': 'c31c1bea-a4be-11e7-8650-3ae5c7149ea7', 'format': 'geotiff', 'mosaic': 'stitched'}, 'status': 'active', 'tags': [], 'result_delivery': {'max_latency': '0d', 'priorities': ['lowest_cost']}, 'created_at': '2024-04-30T18:02:17.794411Z', 'updated_at': '2024-04-30T18:02:18Z', 'max_cost': 100, 'user_information': {}}}\n",
      "201 {'data': {'id': 'cbaf481f-071b-11ef-bbb1-093f025a67e0', 'name': 'Ukulhas_2022-07-01_medium', 'start_date': '2022-07-01', 'end_date': '2022-07-31', 'aoi': {'type': 'Polygon', 'coordinates': [[[72.85318351534859, 4.227805672204206, 0], [72.85339136125246, 4.207331395520955, 0], [72.87337028624503, 4.207517991124759, 0], [72.8731121458676, 4.227805397834814, 0], [72.85318351534859, 4.227805672204206, 0]]]}, 'area_km2': 5.026146507863212, 'cloud_cover_percentage': 25, 'min_aoi_coverage_percentage': 75, 'interval': '5d', 'resolution_low': 30, 'resolution_high': 1.5, 'status': 'pending', 'tags': None, 'created_at': '2024-04-30T18:02:23.454547Z', 'updated_at': '2024-04-30T18:02:23.454547Z', 'max_cost': 100, 'result_delivery': {'max_latency': '0d', 'priorities': ['lowest_cost']}, 'output': {'id': 'c31c1bea-a4be-11e7-8650-3ae5c7149ea7', 'format': 'geotiff', 'mosaic': 'stitched'}}}\n",
      "200 {'data': {'id': 'cbaf481f-071b-11ef-bbb1-093f025a67e0', 'org_id': '001JR00000AfBY1YAN', 'name': 'Ukulhas_2022-07-01_medium', 'start_date': '2022-07-01', 'end_date': '2022-07-31', 'aoi': {'type': 'Polygon', 'coordinates': [[[72.85318351534859, 4.227805672204206], [72.85339136125246, 4.207331395520955], [72.87337028624503, 4.207517991124759], [72.8731121458676, 4.227805397834814], [72.85318351534859, 4.227805672204206]]]}, 'area_km2': 5.026146507863212, 'cloud_cover_percentage': 25, 'min_aoi_coverage_percentage': 75, 'interval': '5d', 'resolution_low': 30, 'resolution_high': 1.5, 'output': {'id': 'c31c1bea-a4be-11e7-8650-3ae5c7149ea7', 'format': 'geotiff', 'mosaic': 'stitched'}, 'status': 'active', 'tags': [], 'result_delivery': {'max_latency': '0d', 'priorities': ['lowest_cost']}, 'created_at': '2024-04-30T18:02:23.454547Z', 'updated_at': '2024-04-30T18:02:23Z', 'max_cost': 100, 'user_information': {}}}\n",
      "201 {'data': {'id': 'cf25d7ed-071b-11ef-bd16-093f025a67e0', 'name': 'Ukulhas_2022-08-01_medium', 'start_date': '2022-08-01', 'end_date': '2022-08-31', 'aoi': {'type': 'Polygon', 'coordinates': [[[72.85318351534859, 4.227805672204206, 0], [72.85339136125246, 4.207331395520955, 0], [72.87337028624503, 4.207517991124759, 0], [72.8731121458676, 4.227805397834814, 0], [72.85318351534859, 4.227805672204206, 0]]]}, 'area_km2': 5.026146507863212, 'cloud_cover_percentage': 25, 'min_aoi_coverage_percentage': 75, 'interval': '5d', 'resolution_low': 30, 'resolution_high': 1.5, 'status': 'pending', 'tags': None, 'created_at': '2024-04-30T18:02:29.251821Z', 'updated_at': '2024-04-30T18:02:29.251821Z', 'max_cost': 100, 'result_delivery': {'max_latency': '0d', 'priorities': ['lowest_cost']}, 'output': {'id': 'c31c1bea-a4be-11e7-8650-3ae5c7149ea7', 'format': 'geotiff', 'mosaic': 'stitched'}}}\n",
      "200 {'data': {'id': 'cf25d7ed-071b-11ef-bd16-093f025a67e0', 'org_id': '001JR00000AfBY1YAN', 'name': 'Ukulhas_2022-08-01_medium', 'start_date': '2022-08-01', 'end_date': '2022-08-31', 'aoi': {'type': 'Polygon', 'coordinates': [[[72.85318351534859, 4.227805672204206], [72.85339136125246, 4.207331395520955], [72.87337028624503, 4.207517991124759], [72.8731121458676, 4.227805397834814], [72.85318351534859, 4.227805672204206]]]}, 'area_km2': 5.026146507863212, 'cloud_cover_percentage': 25, 'min_aoi_coverage_percentage': 75, 'interval': '5d', 'resolution_low': 30, 'resolution_high': 1.5, 'output': {'id': 'c31c1bea-a4be-11e7-8650-3ae5c7149ea7', 'format': 'geotiff', 'mosaic': 'stitched'}, 'status': 'active', 'tags': [], 'result_delivery': {'max_latency': '0d', 'priorities': ['lowest_cost']}, 'created_at': '2024-04-30T18:02:29.251821Z', 'updated_at': '2024-04-30T18:02:29Z', 'max_cost': 100, 'user_information': {}}}\n",
      "201 {'data': {'id': 'd268b012-071b-11ef-a26f-093f025a67e0', 'name': 'Ukulhas_2022-09-01_medium', 'start_date': '2022-09-01', 'end_date': '2022-09-30', 'aoi': {'type': 'Polygon', 'coordinates': [[[72.85318351534859, 4.227805672204206, 0], [72.85339136125246, 4.207331395520955, 0], [72.87337028624503, 4.207517991124759, 0], [72.8731121458676, 4.227805397834814, 0], [72.85318351534859, 4.227805672204206, 0]]]}, 'area_km2': 5.026146507863212, 'cloud_cover_percentage': 25, 'min_aoi_coverage_percentage': 75, 'interval': '5d', 'resolution_low': 30, 'resolution_high': 1.5, 'status': 'pending', 'tags': None, 'created_at': '2024-04-30T18:02:34.735965Z', 'updated_at': '2024-04-30T18:02:34.735965Z', 'max_cost': 100, 'result_delivery': {'max_latency': '0d', 'priorities': ['lowest_cost']}, 'output': {'id': 'c31c1bea-a4be-11e7-8650-3ae5c7149ea7', 'format': 'geotiff', 'mosaic': 'stitched'}}}\n",
      "200 {'data': {'id': 'd268b012-071b-11ef-a26f-093f025a67e0', 'org_id': '001JR00000AfBY1YAN', 'name': 'Ukulhas_2022-09-01_medium', 'start_date': '2022-09-01', 'end_date': '2022-09-30', 'aoi': {'type': 'Polygon', 'coordinates': [[[72.85318351534859, 4.227805672204206], [72.85339136125246, 4.207331395520955], [72.87337028624503, 4.207517991124759], [72.8731121458676, 4.227805397834814], [72.85318351534859, 4.227805672204206]]]}, 'area_km2': 5.026146507863212, 'cloud_cover_percentage': 25, 'min_aoi_coverage_percentage': 75, 'interval': '5d', 'resolution_low': 30, 'resolution_high': 1.5, 'output': {'id': 'c31c1bea-a4be-11e7-8650-3ae5c7149ea7', 'format': 'geotiff', 'mosaic': 'stitched'}, 'status': 'active', 'tags': [], 'result_delivery': {'max_latency': '0d', 'priorities': ['lowest_cost']}, 'created_at': '2024-04-30T18:02:34.735965Z', 'updated_at': '2024-04-30T18:02:35Z', 'max_cost': 100, 'user_information': {}}}\n",
      "201 {'data': {'id': 'd5ab12a7-071b-11ef-a2e6-093f025a67e0', 'name': 'Ukulhas_2022-10-01_medium', 'start_date': '2022-10-01', 'end_date': '2022-10-31', 'aoi': {'type': 'Polygon', 'coordinates': [[[72.85318351534859, 4.227805672204206, 0], [72.85339136125246, 4.207331395520955, 0], [72.87337028624503, 4.207517991124759, 0], [72.8731121458676, 4.227805397834814, 0], [72.85318351534859, 4.227805672204206, 0]]]}, 'area_km2': 5.026146507863212, 'cloud_cover_percentage': 25, 'min_aoi_coverage_percentage': 75, 'interval': '5d', 'resolution_low': 30, 'resolution_high': 1.5, 'status': 'pending', 'tags': None, 'created_at': '2024-04-30T18:02:40.192189Z', 'updated_at': '2024-04-30T18:02:40.192189Z', 'max_cost': 100, 'result_delivery': {'max_latency': '0d', 'priorities': ['lowest_cost']}, 'output': {'id': 'c31c1bea-a4be-11e7-8650-3ae5c7149ea7', 'format': 'geotiff', 'mosaic': 'stitched'}}}\n",
      "200 {'data': {'id': 'd5ab12a7-071b-11ef-a2e6-093f025a67e0', 'org_id': '001JR00000AfBY1YAN', 'name': 'Ukulhas_2022-10-01_medium', 'start_date': '2022-10-01', 'end_date': '2022-10-31', 'aoi': {'type': 'Polygon', 'coordinates': [[[72.85318351534859, 4.227805672204206], [72.85339136125246, 4.207331395520955], [72.87337028624503, 4.207517991124759], [72.8731121458676, 4.227805397834814], [72.85318351534859, 4.227805672204206]]]}, 'area_km2': 5.026146507863212, 'cloud_cover_percentage': 25, 'min_aoi_coverage_percentage': 75, 'interval': '5d', 'resolution_low': 30, 'resolution_high': 1.5, 'output': {'id': 'c31c1bea-a4be-11e7-8650-3ae5c7149ea7', 'format': 'geotiff', 'mosaic': 'stitched'}, 'status': 'active', 'tags': [], 'result_delivery': {'max_latency': '0d', 'priorities': ['lowest_cost']}, 'created_at': '2024-04-30T18:02:40.192189Z', 'updated_at': '2024-04-30T18:02:40Z', 'max_cost': 100, 'user_information': {}}}\n",
      "201 {'data': {'id': 'd8d824de-071b-11ef-996e-093f025a67e0', 'name': 'Ukulhas_2022-11-01_medium', 'start_date': '2022-11-01', 'end_date': '2022-11-30', 'aoi': {'type': 'Polygon', 'coordinates': [[[72.85318351534859, 4.227805672204206, 0], [72.85339136125246, 4.207331395520955, 0], [72.87337028624503, 4.207517991124759, 0], [72.8731121458676, 4.227805397834814, 0], [72.85318351534859, 4.227805672204206, 0]]]}, 'area_km2': 5.026146507863212, 'cloud_cover_percentage': 25, 'min_aoi_coverage_percentage': 75, 'interval': '5d', 'resolution_low': 30, 'resolution_high': 1.5, 'status': 'pending', 'tags': None, 'created_at': '2024-04-30T18:02:45.532731Z', 'updated_at': '2024-04-30T18:02:45.532731Z', 'max_cost': 100, 'result_delivery': {'max_latency': '0d', 'priorities': ['lowest_cost']}, 'output': {'id': 'c31c1bea-a4be-11e7-8650-3ae5c7149ea7', 'format': 'geotiff', 'mosaic': 'stitched'}}}\n",
      "200 {'data': {'id': 'd8d824de-071b-11ef-996e-093f025a67e0', 'org_id': '001JR00000AfBY1YAN', 'name': 'Ukulhas_2022-11-01_medium', 'start_date': '2022-11-01', 'end_date': '2022-11-30', 'aoi': {'type': 'Polygon', 'coordinates': [[[72.85318351534859, 4.227805672204206], [72.85339136125246, 4.207331395520955], [72.87337028624503, 4.207517991124759], [72.8731121458676, 4.227805397834814], [72.85318351534859, 4.227805672204206]]]}, 'area_km2': 5.026146507863212, 'cloud_cover_percentage': 25, 'min_aoi_coverage_percentage': 75, 'interval': '5d', 'resolution_low': 30, 'resolution_high': 1.5, 'output': {'id': 'c31c1bea-a4be-11e7-8650-3ae5c7149ea7', 'format': 'geotiff', 'mosaic': 'stitched'}, 'status': 'active', 'tags': [], 'result_delivery': {'max_latency': '0d', 'priorities': ['lowest_cost']}, 'created_at': '2024-04-30T18:02:45.532731Z', 'updated_at': '2024-04-30T18:02:47Z', 'max_cost': 100, 'user_information': {}}}\n",
      "201 {'data': {'id': 'dcfd11cd-071b-11ef-b56d-0daa49713dcc', 'name': 'Ukulhas_2022-12-01_medium', 'start_date': '2022-12-01', 'end_date': '2022-12-31', 'aoi': {'type': 'Polygon', 'coordinates': [[[72.85318351534859, 4.227805672204206, 0], [72.85339136125246, 4.207331395520955, 0], [72.87337028624503, 4.207517991124759, 0], [72.8731121458676, 4.227805397834814, 0], [72.85318351534859, 4.227805672204206, 0]]]}, 'area_km2': 5.026146507863212, 'cloud_cover_percentage': 25, 'min_aoi_coverage_percentage': 75, 'interval': '5d', 'resolution_low': 30, 'resolution_high': 1.5, 'status': 'pending', 'tags': None, 'created_at': '2024-04-30T18:02:52.485571Z', 'updated_at': '2024-04-30T18:02:52.485571Z', 'max_cost': 100, 'result_delivery': {'max_latency': '0d', 'priorities': ['lowest_cost']}, 'output': {'id': 'c31c1bea-a4be-11e7-8650-3ae5c7149ea7', 'format': 'geotiff', 'mosaic': 'stitched'}}}\n",
      "200 {'data': {'id': 'dcfd11cd-071b-11ef-b56d-0daa49713dcc', 'org_id': '001JR00000AfBY1YAN', 'name': 'Ukulhas_2022-12-01_medium', 'start_date': '2022-12-01', 'end_date': '2022-12-31', 'aoi': {'type': 'Polygon', 'coordinates': [[[72.85318351534859, 4.227805672204206], [72.85339136125246, 4.207331395520955], [72.87337028624503, 4.207517991124759], [72.8731121458676, 4.227805397834814], [72.85318351534859, 4.227805672204206]]]}, 'area_km2': 5.026146507863212, 'cloud_cover_percentage': 25, 'min_aoi_coverage_percentage': 75, 'interval': '5d', 'resolution_low': 30, 'resolution_high': 1.5, 'output': {'id': 'c31c1bea-a4be-11e7-8650-3ae5c7149ea7', 'format': 'geotiff', 'mosaic': 'stitched'}, 'status': 'active', 'tags': [], 'result_delivery': {'max_latency': '0d', 'priorities': ['lowest_cost']}, 'created_at': '2024-04-30T18:02:52.485571Z', 'updated_at': '2024-04-30T18:02:53Z', 'max_cost': 100, 'user_information': {}}}\n"
     ]
    }
   ],
   "source": [
    "for i in month_range:\n",
    "    start_date = starts[i]\n",
    "    end_date = ends[i]\n",
    "    pipeline_name = location_name + start_date + '_' + resolution\n",
    "    #SDS_earthcache_api.retrieve_images_earthcache(nb_client, pipeline_name, aoi, start_date, end_date, image_type,interval,resolution)\n",
    "    time.sleep(3)"
   ]
  },
  {
   "cell_type": "markdown",
   "metadata": {},
   "source": [
    "# check results and download"
   ]
  },
  {
   "cell_type": "code",
   "execution_count": 42,
   "metadata": {},
   "outputs": [
    {
     "name": "stdout",
     "output_type": "stream",
     "text": [
      "200 complete\n",
      "200 complete\n",
      "200 complete\n",
      "200 complete\n",
      "200 complete\n",
      "200 complete\n",
      "200 complete\n",
      "200 complete\n",
      "200 processing\n",
      "200 complete\n",
      "200 complete\n"
     ]
    }
   ],
   "source": [
    "# after about 20 minutes, make sure the status is ready\n",
    "for i in month_range:\n",
    "    start_date = starts[i]\n",
    "    end_date = ends[i]\n",
    "    pipeline_name = location_name + start_date + '_' + resolution\n",
    "    status,res = SDS_earthcache_api.checkStatus(nb_client, pipeline_name)\n",
    "    print(status,res['data'][0]['status'])"
   ]
  },
  {
   "cell_type": "code",
   "execution_count": 34,
   "metadata": {},
   "outputs": [
    {
     "name": "stdout",
     "output_type": "stream",
     "text": [
      "data/Ukulhas_2022-01-01_medium\\e53396ea-0889-4f17-874c-7008d21a1813\n",
      "... downloading https://s3-us-west-2.amazonaws.com/aoi-processed-images-prod/0dc2b6e7-0719-11ef-92d6-093f025a67e0/f0910b42-ba53-4d92-90a3-9bc7fa7b60c9/metadata/SKYWATCH_S2_MS_20220101T0522_ALL_Tile_0_0_14ea_metadata.json\n",
      "... downloading https://s3-us-west-2.amazonaws.com/aoi-processed-images-prod/0dc2b6e7-0719-11ef-92d6-093f025a67e0/f0910b42-ba53-4d92-90a3-9bc7fa7b60c9/analytic/SKYWATCH_S2_MS_20220101T0522_ALL_Tile_0_0_14ea.tif\n",
      "data/Ukulhas_2022-01-01_medium\\a8cd4533-9d7e-4454-a304-cff91cd97f2b\n",
      "data/Ukulhas_2022-01-01_medium\\b4e6f2eb-4d48-44f5-8462-2140ea594000\n",
      "data/Ukulhas_2022-01-01_medium\\664564cf-d02f-4b21-a45f-cfe95059cd45\n",
      "data/Ukulhas_2022-01-01_medium\\2f6b79c3-94dd-4b9d-b729-0151e5592d25\n",
      "data/Ukulhas_2022-01-01_medium\\9091064b-71ee-4b1f-9ba8-e52e9151a691\n",
      "... downloading https://s3-us-west-2.amazonaws.com/aoi-processed-images-prod/0dc2b6e7-0719-11ef-92d6-093f025a67e0/adb2418e-41c5-4e58-951d-1e4ac9b0c2d0/metadata/SKYWATCH_S2_MS_20220126T0520_ALL_Tile_0_0_6786_metadata.json\n",
      "... downloading https://s3-us-west-2.amazonaws.com/aoi-processed-images-prod/0dc2b6e7-0719-11ef-92d6-093f025a67e0/adb2418e-41c5-4e58-951d-1e4ac9b0c2d0/analytic/SKYWATCH_S2_MS_20220126T0520_ALL_Tile_0_0_6786.tif\n",
      "data/Ukulhas_2022-01-01_medium\\7c502cc9-dca7-4895-bcdf-b824627d8c92\n",
      "... downloading https://s3-us-west-2.amazonaws.com/aoi-processed-images-prod/0dc2b6e7-0719-11ef-92d6-093f025a67e0/b4de82dd-f545-4dac-811a-6ea2838bb45f/metadata/SKYWATCH_S2_MS_20220131T0520_ALL_Tile_0_0_fc2b_metadata.json\n",
      "... downloading https://s3-us-west-2.amazonaws.com/aoi-processed-images-prod/0dc2b6e7-0719-11ef-92d6-093f025a67e0/b4de82dd-f545-4dac-811a-6ea2838bb45f/analytic/SKYWATCH_S2_MS_20220131T0520_ALL_Tile_0_0_fc2b.tif\n"
     ]
    }
   ],
   "source": [
    "# once the status is good, run this cell to download the images\n",
    "images = []\n",
    "for i in month_range:\n",
    "    start_date = starts[i]\n",
    "    pipeline_name = location_name + start_date + '_' + resolution\n",
    "    status,res = SDS_earthcache_api.checkStatus(nb_client, pipeline_name)\n",
    "    if(status == 200):\n",
    "        images.append(SDS_earthcache_api.download_images(nb_client, pipeline_name))"
   ]
  },
  {
   "cell_type": "code",
   "execution_count": 43,
   "metadata": {},
   "outputs": [
    {
     "data": {
      "text/plain": [
       "'data/Ukulhas_2023-01-02_medium\\\\45bba2a6-0e36-47d8-b053-c5683e5ac7c6\\\\20230103_043520/SKYWATCH_PLSD_PS_20230103T0435_TC_Tile_0_0_ec9f.tif'"
      ]
     },
     "execution_count": 43,
     "metadata": {},
     "output_type": "execute_result"
    }
   ],
   "source": [
    "images[0][0][0]"
   ]
  },
  {
   "cell_type": "markdown",
   "metadata": {},
   "source": [
    "# visualize sample"
   ]
  },
  {
   "cell_type": "code",
   "execution_count": null,
   "metadata": {},
   "outputs": [],
   "source": [
    "# this function visualizes the first image\n",
    "SDS_earthcache_api.view_first_image(images[0])"
   ]
  }
 ],
 "metadata": {
  "kernelspec": {
   "display_name": "coastsat",
   "language": "python",
   "name": "python3"
  },
  "language_info": {
   "codemirror_mode": {
    "name": "ipython",
    "version": 3
   },
   "file_extension": ".py",
   "mimetype": "text/x-python",
   "name": "python",
   "nbconvert_exporter": "python",
   "pygments_lexer": "ipython3",
   "version": "3.8.15"
  },
  "toc": {
   "base_numbering": 1,
   "nav_menu": {},
   "number_sections": true,
   "sideBar": true,
   "skip_h1_title": false,
   "title_cell": "Table of Contents",
   "title_sidebar": "Contents",
   "toc_cell": false,
   "toc_position": {},
   "toc_section_display": true,
   "toc_window_display": false
  },
  "varInspector": {
   "cols": {
    "lenName": 16,
    "lenType": 16,
    "lenVar": 40
   },
   "kernels_config": {
    "python": {
     "delete_cmd_postfix": "",
     "delete_cmd_prefix": "del ",
     "library": "var_list.py",
     "varRefreshCmd": "print(var_dic_list())"
    },
    "r": {
     "delete_cmd_postfix": ") ",
     "delete_cmd_prefix": "rm(",
     "library": "var_list.r",
     "varRefreshCmd": "cat(var_dic_list()) "
    }
   },
   "types_to_exclude": [
    "module",
    "function",
    "builtin_function_or_method",
    "instance",
    "_Feature"
   ],
   "window_display": false
  }
 },
 "nbformat": 4,
 "nbformat_minor": 4
}
