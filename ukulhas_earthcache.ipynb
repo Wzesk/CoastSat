{
 "cells": [
  {
   "cell_type": "markdown",
   "metadata": {},
   "source": [
    "# imports"
   ]
  },
  {
   "attachments": {},
   "cell_type": "markdown",
   "metadata": {},
   "source": [
    "https://www.wrl.unsw.edu.au/news/coastsat-how-to-estimate-beach-slopes-using-satellite-imagery\n",
    "https://www.wrl.unsw.edu.au/research/coastsat\n"
   ]
  },
  {
   "cell_type": "code",
   "execution_count": 1,
   "metadata": {
    "tags": []
   },
   "outputs": [],
   "source": [
    "%load_ext autoreload\n",
    "%autoreload 2\n",
    "import os\n",
    "import numpy as np\n",
    "import pickle\n",
    "import warnings\n",
    "import time\n",
    "warnings.filterwarnings(\"ignore\")\n",
    "import matplotlib\n",
    "matplotlib.use('Qt5Agg')\n",
    "import matplotlib.pyplot as plt\n",
    "from matplotlib import gridspec\n",
    "plt.ion()\n",
    "import pandas as pd\n",
    "from datetime import datetime\n",
    "from coastsat import SDS_earthcache_api, SDS_preprocess, SDS_shoreline, SDS_tools, SDS_transects, SDS_earthcache_client"
   ]
  },
  {
   "cell_type": "markdown",
   "metadata": {},
   "source": [
    "## setup timeline and AOL"
   ]
  },
  {
   "cell_type": "code",
   "execution_count": 2,
   "metadata": {},
   "outputs": [],
   "source": [
    "#setup monthly pipelines\n",
    "def fmt(x):\n",
    "    if x < 10:\n",
    "        return '0' + str(x)\n",
    "    else:\n",
    "        return str(x)\n",
    "def monthly_pipes(startyear,endyear=2024,day=[0,0]):  \n",
    "    starts = [] ; ends = []\n",
    "    dates = range(startyear, endyear)  \n",
    "    for y in dates:\n",
    "        for m in range(1, 13):\n",
    "            if day[0] == 0:\n",
    "                starts.append(str(y) + '-' + fmt(m) + '-01')\n",
    "            else:\n",
    "                starts.append(str(y) + '-' + fmt(m) + '-' + fmt(day[0]))\n",
    "\n",
    "            if day[1] == 0:\n",
    "                if m == 2:\n",
    "                    ends.append(str(y) + '-' + fmt(m) + '-28')\n",
    "                elif m in [4, 6, 9, 11]:\n",
    "                    ends.append(str(y) + '-' + fmt(m) + '-30')\n",
    "                else:\n",
    "                    ends.append(str(y) + '-' + fmt(m) + '-31')\n",
    "            else:\n",
    "                ends.append(str(y) + '-' + fmt(m) + '-' + fmt(day[1]))\n",
    "    return starts, ends"
   ]
  },
  {
   "cell_type": "code",
   "execution_count": 3,
   "metadata": {},
   "outputs": [],
   "source": [
    "# these coordinates are a rectangle around the island of Madhirivaadhoo\n",
    "aoi = { \"type\": \"Polygon\", \n",
    "        \"coordinates\": [\n",
    "      [\n",
    "          [\n",
    "            72.85318351534859,\n",
    "            4.227805672204206,\n",
    "            0\n",
    "          ],\n",
    "          [\n",
    "            72.85339136125246,\n",
    "            4.207331395520955,\n",
    "            0\n",
    "          ],\n",
    "          [\n",
    "            72.87337028624503,\n",
    "            4.207517991124759,\n",
    "            0\n",
    "          ],\n",
    "          [\n",
    "            72.8731121458676,\n",
    "            4.227805397834814,\n",
    "            0\n",
    "          ],\n",
    "          [\n",
    "            72.85318351534859,\n",
    "            4.227805672204206,\n",
    "            0\n",
    "          ]\n",
    "      ]\n",
    "    ]\n",
    "    }"
   ]
  },
  {
   "cell_type": "markdown",
   "metadata": {},
   "source": [
    "# setup pipeline"
   ]
  },
  {
   "cell_type": "code",
   "execution_count": 4,
   "metadata": {},
   "outputs": [],
   "source": [
    "key = input(\"please enter your API key for Earthcache:\")"
   ]
  },
  {
   "cell_type": "code",
   "execution_count": 32,
   "metadata": {
    "tags": []
   },
   "outputs": [
    {
     "name": "stdout",
     "output_type": "stream",
     "text": [
      "d5431cc4-b43b-4f31-8db4-d1efe9e589c9\n"
     ]
    }
   ],
   "source": [
    "nb_client =SDS_earthcache_api.initialize_client(key,max_cost=100)\n",
    "location_name = 'Ukulhas_'\n",
    "resolution = 'medium'\n",
    "interval = '5d'"
   ]
  },
  {
   "cell_type": "code",
   "execution_count": null,
   "metadata": {},
   "outputs": [],
   "source": [
    "nb_client.getOutputs()"
   ]
  },
  {
   "cell_type": "markdown",
   "metadata": {},
   "source": [
    "'id': 'c31c1bea-a4be-11e7-8650-3ae5c7149ea7'\n",
    "\n",
    "'name': 'All Optical Bands'\n",
    "\n",
    "'description': 'All optical spectral bands in a product',"
   ]
  },
  {
   "cell_type": "code",
   "execution_count": 34,
   "metadata": {},
   "outputs": [],
   "source": [
    "image_type = \"a8fc3dde-a3e8-11e7-9793-ae4260ee3b4b\" "
   ]
  },
  {
   "cell_type": "markdown",
   "metadata": {},
   "source": [
    "# test pipeline"
   ]
  },
  {
   "cell_type": "code",
   "execution_count": 35,
   "metadata": {},
   "outputs": [
    {
     "name": "stdout",
     "output_type": "stream",
     "text": [
      "Ukulhas_2023-01-02_medium ending: 2023-01-31\n",
      "{'interval_quantity': 6, 'price_km2': 2.5, 'minimum_area_km2': 0.1, 'interval_cost': 12.57, 'max_cost': 75.39}\n",
      "balance: 3000.0\n"
     ]
    }
   ],
   "source": [
    "# need to initialize the api first\n",
    "#SDS_earthcache_api.initialize(key)\n",
    "#create a set of dates so each pipeline is one month\n",
    "starts,ends = monthly_pipes(2023)#,day=[2,0])\n",
    "for i in range(0,1):#len(starts)):\n",
    "    start_date = starts[i] \n",
    "    end_date = ends[i]\n",
    "    pipeline_name = location_name + start_date + '_' + resolution\n",
    "    print(pipeline_name + \" ending: \" + end_date)\n",
    "    status, response = nb_client.calculatePrice(resolution, aoi, start_date, end_date,interval)\n",
    "    if(status != 200):\n",
    "        print(response['errors'])\n",
    "    else:\n",
    "        print(response['data']['archive'])\n",
    "        print(\"balance: \"+str(response['data']['prepurchase_balance']))\n",
    "    #add 3 seconds of delay between each request\n",
    "    time.sleep(3)"
   ]
  },
  {
   "cell_type": "markdown",
   "metadata": {},
   "source": [
    "# run pipeline"
   ]
  },
  {
   "cell_type": "code",
   "execution_count": 36,
   "metadata": {},
   "outputs": [
    {
     "name": "stdout",
     "output_type": "stream",
     "text": [
      "201 {'data': {'id': '2a37c5b7-f202-11ee-a186-09fa561e1e80', 'name': 'Ukulhas_2023-01-02_medium', 'start_date': '2023-01-02', 'end_date': '2023-01-31', 'aoi': {'type': 'Polygon', 'coordinates': [[[72.85318351534859, 4.227805672204206, 0], [72.85339136125246, 4.207331395520955, 0], [72.87337028624503, 4.207517991124759, 0], [72.8731121458676, 4.227805397834814, 0], [72.85318351534859, 4.227805672204206, 0]]]}, 'area_km2': 5.026146507863212, 'cloud_cover_percentage': 25, 'min_aoi_coverage_percentage': 75, 'interval': '5d', 'resolution_low': 30, 'resolution_high': 1.5, 'status': 'pending', 'tags': None, 'created_at': '2024-04-03T21:36:00.707559Z', 'updated_at': '2024-04-03T21:36:00.707559Z', 'max_cost': 100, 'result_delivery': {'max_latency': '0d', 'priorities': ['lowest_cost']}, 'output': {'id': 'a8fc3dde-a3e8-11e7-9793-ae4260ee3b4b', 'format': 'geotiff', 'mosaic': 'stitched'}}}\n",
      "200 {'data': {'id': '2a37c5b7-f202-11ee-a186-09fa561e1e80', 'org_id': '001JR00000AfBY1YAN', 'name': 'Ukulhas_2023-01-02_medium', 'start_date': '2023-01-02', 'end_date': '2023-01-31', 'aoi': {'type': 'Polygon', 'coordinates': [[[72.85318351534859, 4.227805672204206], [72.85339136125246, 4.207331395520955], [72.87337028624503, 4.207517991124759], [72.8731121458676, 4.227805397834814], [72.85318351534859, 4.227805672204206]]]}, 'area_km2': 5.026146507863212, 'cloud_cover_percentage': 25, 'min_aoi_coverage_percentage': 75, 'interval': '5d', 'resolution_low': 30, 'resolution_high': 1.5, 'output': {'id': 'a8fc3dde-a3e8-11e7-9793-ae4260ee3b4b', 'format': 'geotiff', 'mosaic': 'stitched'}, 'status': 'pending', 'tags': [], 'result_delivery': {'max_latency': '0d', 'priorities': ['lowest_cost']}, 'created_at': '2024-04-03T21:36:00.707559Z', 'updated_at': '2024-04-03T21:36:04Z', 'max_cost': 100, 'user_information': {}}}\n"
     ]
    }
   ],
   "source": [
    "for i in range(0,1):\n",
    "    start_date = starts[i]\n",
    "    end_date = ends[i]\n",
    "    pipeline_name = location_name + start_date + '_' + resolution\n",
    "    #SDS_earthcache_api.retrieve_images_earthcache(nb_client, pipeline_name, aoi, start_date, end_date, image_type,interval,resolution)\n",
    "    time.sleep(3)"
   ]
  },
  {
   "cell_type": "markdown",
   "metadata": {},
   "source": [
    "# check results and download"
   ]
  },
  {
   "cell_type": "code",
   "execution_count": 37,
   "metadata": {},
   "outputs": [
    {
     "name": "stdout",
     "output_type": "stream",
     "text": [
      "200 {'data': [{'id': '45bba2a6-0e36-47d8-b053-c5683e5ac7c6', 'created_at': '2024-04-03T21:36:18.024367+0000', 'updated_at': '2024-04-03T21:36:42.421768+0000', 'pipeline_id': '2a37c5b7-f202-11ee-a186-09fa561e1e80', 'output_id': 'a8fc3dde-a3e8-11e7-9793-ae4260ee3b4b', 'status': 'processing', 'message': 'Retrieval - starting', 'interval': {'start_date': '2023-01-02', 'end_date': '2023-01-06'}, 'total_interval_cost': None, 'overall_metadata': {'scene_height': None, 'scene_width': None, 'filled_area_km2': None, 'filled_area_percentage_of_aoi': None, 'cloud_cover_percentage': None, 'cloud_cover_percentage_of_aoi': None, 'visible_area_km2': None, 'visible_area_percentage': None, 'visible_area_percentage_of_aoi': None}, 'results': [], 'alternate_search_results': []}, {'id': '2d98f451-c059-45a7-9d7f-f8afdf753eed', 'created_at': '2024-04-03T21:36:17.818866+0000', 'updated_at': '2024-04-03T21:37:06.444470+0000', 'pipeline_id': '2a37c5b7-f202-11ee-a186-09fa561e1e80', 'output_id': 'a8fc3dde-a3e8-11e7-9793-ae4260ee3b4b', 'status': 'retrieving', 'message': 'Fulfillment from Planet in progress, expected delivery in 30-60 minutes', 'interval': {'start_date': '2023-01-07', 'end_date': '2023-01-11'}, 'total_interval_cost': None, 'overall_metadata': {'scene_height': None, 'scene_width': None, 'filled_area_km2': None, 'filled_area_percentage_of_aoi': None, 'cloud_cover_percentage': None, 'cloud_cover_percentage_of_aoi': None, 'visible_area_km2': None, 'visible_area_percentage': None, 'visible_area_percentage_of_aoi': None}, 'results': [], 'alternate_search_results': []}, {'id': '03bd0e23-913d-4c6f-be67-d18336fc5f28', 'created_at': '2024-04-03T21:36:18.096224+0000', 'updated_at': '2024-04-03T21:36:42.600690+0000', 'pipeline_id': '2a37c5b7-f202-11ee-a186-09fa561e1e80', 'output_id': 'a8fc3dde-a3e8-11e7-9793-ae4260ee3b4b', 'status': 'processing', 'message': 'Retrieval - starting', 'interval': {'start_date': '2023-01-12', 'end_date': '2023-01-16'}, 'total_interval_cost': None, 'overall_metadata': {'scene_height': None, 'scene_width': None, 'filled_area_km2': None, 'filled_area_percentage_of_aoi': None, 'cloud_cover_percentage': None, 'cloud_cover_percentage_of_aoi': None, 'visible_area_km2': None, 'visible_area_percentage': None, 'visible_area_percentage_of_aoi': None}, 'results': [], 'alternate_search_results': []}, {'id': '9c6aad6c-d0ec-4448-a525-6c954df0d329', 'created_at': '2024-04-03T21:36:18.240145+0000', 'updated_at': '2024-04-03T21:37:06.532834+0000', 'pipeline_id': '2a37c5b7-f202-11ee-a186-09fa561e1e80', 'output_id': 'a8fc3dde-a3e8-11e7-9793-ae4260ee3b4b', 'status': 'retrieving', 'message': 'Fulfillment from Planet in progress, expected delivery in 30-60 minutes', 'interval': {'start_date': '2023-01-17', 'end_date': '2023-01-21'}, 'total_interval_cost': None, 'overall_metadata': {'scene_height': None, 'scene_width': None, 'filled_area_km2': None, 'filled_area_percentage_of_aoi': None, 'cloud_cover_percentage': None, 'cloud_cover_percentage_of_aoi': None, 'visible_area_km2': None, 'visible_area_percentage': None, 'visible_area_percentage_of_aoi': None}, 'results': [], 'alternate_search_results': []}, {'id': '0cf7c3cf-fec8-4f14-b479-57e66b944b7a', 'created_at': '2024-04-03T21:36:18.158302+0000', 'updated_at': '2024-04-03T21:37:06.146278+0000', 'pipeline_id': '2a37c5b7-f202-11ee-a186-09fa561e1e80', 'output_id': 'a8fc3dde-a3e8-11e7-9793-ae4260ee3b4b', 'status': 'retrieving', 'message': 'Fulfillment from Planet in progress, expected delivery in 30-60 minutes', 'interval': {'start_date': '2023-01-22', 'end_date': '2023-01-26'}, 'total_interval_cost': None, 'overall_metadata': {'scene_height': None, 'scene_width': None, 'filled_area_km2': None, 'filled_area_percentage_of_aoi': None, 'cloud_cover_percentage': None, 'cloud_cover_percentage_of_aoi': None, 'visible_area_km2': None, 'visible_area_percentage': None, 'visible_area_percentage_of_aoi': None}, 'results': [], 'alternate_search_results': []}, {'id': 'b0f111e6-a886-4025-a47a-7c0ad8d710db', 'created_at': '2024-04-03T21:36:17.220377+0000', 'updated_at': '2024-04-03T21:37:06.379057+0000', 'pipeline_id': '2a37c5b7-f202-11ee-a186-09fa561e1e80', 'output_id': 'a8fc3dde-a3e8-11e7-9793-ae4260ee3b4b', 'status': 'retrieving', 'message': 'Fulfillment from Planet in progress, expected delivery in 30-60 minutes', 'interval': {'start_date': '2023-01-27', 'end_date': '2023-01-31'}, 'total_interval_cost': None, 'overall_metadata': {'scene_height': None, 'scene_width': None, 'filled_area_km2': None, 'filled_area_percentage_of_aoi': None, 'cloud_cover_percentage': None, 'cloud_cover_percentage_of_aoi': None, 'visible_area_km2': None, 'visible_area_percentage': None, 'visible_area_percentage_of_aoi': None}, 'results': [], 'alternate_search_results': []}], 'pagination': {'per_page': 500, 'cursor': {'next': None, 'self': '2023-01-02--2023-01-06'}}}\n"
     ]
    }
   ],
   "source": [
    "# after about 20 minutes, make sure the status is ready\n",
    "for i in range(0,1):#len(starts)):\n",
    "    start_date = starts[i]\n",
    "    end_date = ends[i]\n",
    "    pipeline_name = location_name + start_date + '_' + resolution\n",
    "    status,res = SDS_earthcache_api.checkStatus(nb_client, pipeline_name)\n",
    "    print(status,res)"
   ]
  },
  {
   "cell_type": "code",
   "execution_count": null,
   "metadata": {},
   "outputs": [],
   "source": [
    "# once the status is good, run this cell to download the images\n",
    "images = []\n",
    "for i in range(0,1):#len(starts)):\n",
    "    start_date = starts[i]\n",
    "    pipeline_name = location_name + start_date + '_' + resolution\n",
    "    status,res = SDS_earthcache_api.checkStatus(nb_client, pipeline_name)\n",
    "    if(status == 200):\n",
    "        images.append(SDS_earthcache_api.download_images(nb_client, pipeline_name))"
   ]
  },
  {
   "cell_type": "code",
   "execution_count": 43,
   "metadata": {},
   "outputs": [
    {
     "data": {
      "text/plain": [
       "'data/Ukulhas_2023-01-02_medium\\\\45bba2a6-0e36-47d8-b053-c5683e5ac7c6\\\\20230103_043520/SKYWATCH_PLSD_PS_20230103T0435_TC_Tile_0_0_ec9f.tif'"
      ]
     },
     "execution_count": 43,
     "metadata": {},
     "output_type": "execute_result"
    }
   ],
   "source": [
    "images[0][0][0]"
   ]
  },
  {
   "cell_type": "markdown",
   "metadata": {},
   "source": [
    "# visualize sample"
   ]
  },
  {
   "cell_type": "code",
   "execution_count": 44,
   "metadata": {},
   "outputs": [
    {
     "ename": "AttributeError",
     "evalue": "'NoneType' object has no attribute 'ReadAsArray'",
     "output_type": "error",
     "traceback": [
      "\u001b[1;31m---------------------------------------------------------------------------\u001b[0m",
      "\u001b[1;31mAttributeError\u001b[0m                            Traceback (most recent call last)",
      "Cell \u001b[1;32mIn[44], line 2\u001b[0m\n\u001b[0;32m      1\u001b[0m \u001b[38;5;66;03m# this function visualizes the first image\u001b[39;00m\n\u001b[1;32m----> 2\u001b[0m \u001b[43mSDS_earthcache_api\u001b[49m\u001b[38;5;241;43m.\u001b[39;49m\u001b[43mview_first_image\u001b[49m\u001b[43m(\u001b[49m\u001b[43mimages\u001b[49m\u001b[43m[\u001b[49m\u001b[38;5;241;43m0\u001b[39;49m\u001b[43m]\u001b[49m\u001b[43m)\u001b[49m\n",
      "File \u001b[1;32md:\\Github\\CoastSat\\coastsat\\SDS_earthcache_api.py:90\u001b[0m, in \u001b[0;36mview_first_image\u001b[1;34m(images)\u001b[0m\n\u001b[0;32m     88\u001b[0m \u001b[38;5;28;01mdef\u001b[39;00m \u001b[38;5;21mview_first_image\u001b[39m(images):\n\u001b[0;32m     89\u001b[0m   ds \u001b[38;5;241m=\u001b[39m gdal\u001b[38;5;241m.\u001b[39mOpen( images[ \u001b[38;5;241m0\u001b[39m ][ \u001b[38;5;241m0\u001b[39m ] )\n\u001b[1;32m---> 90\u001b[0m   data \u001b[38;5;241m=\u001b[39m \u001b[43mds\u001b[49m\u001b[38;5;241;43m.\u001b[39;49m\u001b[43mReadAsArray\u001b[49m()\n\u001b[0;32m     91\u001b[0m   \u001b[38;5;66;03m# this is just showing the first image in the list\u001b[39;00m\n\u001b[0;32m     92\u001b[0m   np\u001b[38;5;241m.\u001b[39mamin( data[ \u001b[38;5;241m0\u001b[39m, : , : ]), np\u001b[38;5;241m.\u001b[39mamax( data[ \u001b[38;5;241m0\u001b[39m, : , : ])\n",
      "\u001b[1;31mAttributeError\u001b[0m: 'NoneType' object has no attribute 'ReadAsArray'"
     ]
    }
   ],
   "source": [
    "# this function visualizes the first image\n",
    "SDS_earthcache_api.view_first_image(images[0])"
   ]
  }
 ],
 "metadata": {
  "kernelspec": {
   "display_name": "coastsat",
   "language": "python",
   "name": "python3"
  },
  "language_info": {
   "codemirror_mode": {
    "name": "ipython",
    "version": 3
   },
   "file_extension": ".py",
   "mimetype": "text/x-python",
   "name": "python",
   "nbconvert_exporter": "python",
   "pygments_lexer": "ipython3",
   "version": "3.8.15"
  },
  "toc": {
   "base_numbering": 1,
   "nav_menu": {},
   "number_sections": true,
   "sideBar": true,
   "skip_h1_title": false,
   "title_cell": "Table of Contents",
   "title_sidebar": "Contents",
   "toc_cell": false,
   "toc_position": {},
   "toc_section_display": true,
   "toc_window_display": false
  },
  "varInspector": {
   "cols": {
    "lenName": 16,
    "lenType": 16,
    "lenVar": 40
   },
   "kernels_config": {
    "python": {
     "delete_cmd_postfix": "",
     "delete_cmd_prefix": "del ",
     "library": "var_list.py",
     "varRefreshCmd": "print(var_dic_list())"
    },
    "r": {
     "delete_cmd_postfix": ") ",
     "delete_cmd_prefix": "rm(",
     "library": "var_list.r",
     "varRefreshCmd": "cat(var_dic_list()) "
    }
   },
   "types_to_exclude": [
    "module",
    "function",
    "builtin_function_or_method",
    "instance",
    "_Feature"
   ],
   "window_display": false
  }
 },
 "nbformat": 4,
 "nbformat_minor": 4
}
