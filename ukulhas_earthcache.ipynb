{
 "cells": [
  {
   "cell_type": "markdown",
   "metadata": {},
   "source": [
    "# imports"
   ]
  },
  {
   "attachments": {},
   "cell_type": "markdown",
   "metadata": {},
   "source": [
    "https://www.wrl.unsw.edu.au/news/coastsat-how-to-estimate-beach-slopes-using-satellite-imagery\n",
    "https://www.wrl.unsw.edu.au/research/coastsat\n"
   ]
  },
  {
   "cell_type": "code",
   "execution_count": 1,
   "metadata": {
    "tags": []
   },
   "outputs": [],
   "source": [
    "%load_ext autoreload\n",
    "%autoreload 2\n",
    "import os\n",
    "import numpy as np\n",
    "import pickle\n",
    "import warnings\n",
    "import time\n",
    "warnings.filterwarnings(\"ignore\")\n",
    "import matplotlib\n",
    "matplotlib.use('Qt5Agg')\n",
    "import matplotlib.pyplot as plt\n",
    "from matplotlib import gridspec\n",
    "plt.ion()\n",
    "import pandas as pd\n",
    "from datetime import datetime\n",
    "from coastsat import SDS_earthcache_api, SDS_preprocess, SDS_shoreline, SDS_tools, SDS_transects, SDS_earthcache_client"
   ]
  },
  {
   "cell_type": "markdown",
   "metadata": {},
   "source": [
    "## setup timeline and AOL"
   ]
  },
  {
   "cell_type": "code",
   "execution_count": 2,
   "metadata": {},
   "outputs": [],
   "source": [
    "#setup monthly pipelines\n",
    "def fmt(x):\n",
    "    if x < 10:\n",
    "        return '0' + str(x)\n",
    "    else:\n",
    "        return str(x)\n",
    "def monthly_pipes(startyear,endyear=2024,day=[0,0]):  \n",
    "    starts = [] ; ends = []\n",
    "    dates = range(startyear, endyear)  \n",
    "    for y in dates:\n",
    "        for m in range(1, 13):\n",
    "            if day[0] == 0:\n",
    "                starts.append(str(y) + '-' + fmt(m) + '-01')\n",
    "            else:\n",
    "                starts.append(str(y) + '-' + fmt(m) + '-' + fmt(day[0]))\n",
    "\n",
    "            if day[1] == 0:\n",
    "                if m == 2:\n",
    "                    ends.append(str(y) + '-' + fmt(m) + '-28')\n",
    "                elif m in [4, 6, 9, 11]:\n",
    "                    ends.append(str(y) + '-' + fmt(m) + '-30')\n",
    "                else:\n",
    "                    ends.append(str(y) + '-' + fmt(m) + '-31')\n",
    "            else:\n",
    "                ends.append(str(y) + '-' + fmt(m) + '-' + fmt(day[1]))\n",
    "    return starts, ends"
   ]
  },
  {
   "cell_type": "code",
   "execution_count": 3,
   "metadata": {},
   "outputs": [],
   "source": [
    "# these coordinates are a rectangle around the island of Madhirivaadhoo\n",
    "aoi = { \"type\": \"Polygon\", \n",
    "        \"coordinates\": [\n",
    "      [\n",
    "          [\n",
    "            72.85318351534859,\n",
    "            4.227805672204206,\n",
    "            0\n",
    "          ],\n",
    "          [\n",
    "            72.85339136125246,\n",
    "            4.207331395520955,\n",
    "            0\n",
    "          ],\n",
    "          [\n",
    "            72.87337028624503,\n",
    "            4.207517991124759,\n",
    "            0\n",
    "          ],\n",
    "          [\n",
    "            72.8731121458676,\n",
    "            4.227805397834814,\n",
    "            0\n",
    "          ],\n",
    "          [\n",
    "            72.85318351534859,\n",
    "            4.227805672204206,\n",
    "            0\n",
    "          ]\n",
    "      ]\n",
    "    ]\n",
    "    }"
   ]
  },
  {
   "cell_type": "markdown",
   "metadata": {},
   "source": [
    "# setup pipeline"
   ]
  },
  {
   "cell_type": "code",
   "execution_count": 4,
   "metadata": {},
   "outputs": [],
   "source": [
    "key = input(\"please enter your API key for Earthcache:\")"
   ]
  },
  {
   "cell_type": "code",
   "execution_count": 5,
   "metadata": {
    "tags": []
   },
   "outputs": [
    {
     "name": "stdout",
     "output_type": "stream",
     "text": [
      "d5431cc4-b43b-4f31-8db4-d1efe9e589c9\n"
     ]
    }
   ],
   "source": [
    "nb_client =SDS_earthcache_api.initialize_client(key,max_cost=100)\n",
    "location_name = 'Ukulhas_'\n",
    "resolution = 'medium'\n",
    "interval = '5d'"
   ]
  },
  {
   "cell_type": "code",
   "execution_count": 6,
   "metadata": {},
   "outputs": [
    {
     "data": {
      "text/plain": [
       "(200,\n",
       " {'data': [{'id': '154311a8-582a-11e7-b30d-7291b81e23e1',\n",
       "    'name': 'NDVI',\n",
       "    'description': 'Normalized Difference Vegetation Index (NDVI) images is a ratio image of the near-infrared, and red bands. NDVI images can be used to measure biomass, assess plant health and stress levels, quantify forest supply, and monitor plant growth. By combining NDVI data with precipitation data, it is also possible to identify at-risk areas for drought.',\n",
       "    'cover_image': {'url': 'https://s3-us-west-2.amazonaws.com/skywatch-public-imagery/outputs/NDVI.jpg',\n",
       "     'alt_text': 'SkyWatch Space Applications'},\n",
       "    'provider': {'name': 'SkyWatch', 'logo_url': None},\n",
       "    'private': False},\n",
       "   {'id': '154311a8-582a-11e7-b30d-7291b81e23e3',\n",
       "    'name': 'False Colour Infrared',\n",
       "    'description': 'A false colour infrared composite image is a combination of near-infrared, red, and green  bands. It is often used to track vegetation health or help identify different types of soil and minerals.',\n",
       "    'cover_image': {'url': 'https://s3-us-west-2.amazonaws.com/skywatch-public-imagery/outputs/False_Colour_Infrared.jpg',\n",
       "     'alt_text': 'SkyWatch Space Applications'},\n",
       "    'provider': {'name': 'SkyWatch', 'logo_url': None},\n",
       "    'private': False},\n",
       "   {'id': 'cfcb7d93-8d53-482b-88bd-808bb45940e2',\n",
       "    'name': 'Panchromatic',\n",
       "    'description': 'This will return the panchromatic values for your area of interest.',\n",
       "    'cover_image': {'url': 'https://s3-us-west-2.amazonaws.com/skywatch-public-imagery/outputs/Panchromatic.jpg',\n",
       "     'alt_text': 'SkyWatch Space Applications'},\n",
       "    'provider': {'name': 'SkyWatch', 'logo_url': None},\n",
       "    'private': False},\n",
       "   {'id': 'ga23d8a2-8f3d-481c-b7ef-9fa02839aab0',\n",
       "    'name': 'Near-infrared',\n",
       "    'description': 'This will return the near-infrared (NIR) values for your area of interest.',\n",
       "    'cover_image': {'url': 'https://s3-us-west-2.amazonaws.com/skywatch-public-imagery/outputs/Near_Infrared.jpg',\n",
       "     'alt_text': 'SkyWatch Space Applications'},\n",
       "    'provider': {'name': 'SkyWatch', 'logo_url': None},\n",
       "    'private': False},\n",
       "   {'id': '3cab2e68-b4d4-11e7-a775-a6fe70ce62b1',\n",
       "    'name': 'MSAVI2',\n",
       "    'description': 'Second Modified Soil Adjusted Vegetation Index (MSAVI2) developed by Qi et al. (1994) is a radiometric index using the near-infrared and red bands. MSAVI2 images are often used to look at vegetation cover, biomass and to determine leaf area index. They can also be used as an input layer for mapping land cover or vegetation classes',\n",
       "    'cover_image': {'url': 'https://s3-us-west-2.amazonaws.com/skywatch-public-imagery/outputs/NDVI.jpg',\n",
       "     'alt_text': 'SkyWatch Space Applications'},\n",
       "    'provider': {'name': 'SkyWatch', 'logo_url': None},\n",
       "    'private': False},\n",
       "   {'id': '618d6a80-c644-11e7-bcc8-6a19e9a09842',\n",
       "    'name': 'EVI',\n",
       "    'description': 'Enhanced Vegetation Index (https://en.wikipedia.org/wiki/Enhanced_vegetation_index)',\n",
       "    'cover_image': {'url': 'https://s3-us-west-2.amazonaws.com/skywatch-public-imagery/outputs/NDVI.jpg',\n",
       "     'alt_text': 'SkyWatch Space Applications'},\n",
       "    'provider': {'name': 'SkyWatch', 'logo_url': None},\n",
       "    'private': False},\n",
       "   {'id': '1f0db8b2-b4d4-11e7-a775-a6fe70ce62b1',\n",
       "    'name': 'False Colour Urban',\n",
       "    'description': 'A false colour urban composite image is a combination of short wave infrared 1 (SWIR1), short wave infrared 2 (SWIR2), and red bands. It is often used to track urban sprawl and identify areas at risk of flooding.',\n",
       "    'cover_image': {'url': 'https://s3-us-west-2.amazonaws.com/skywatch-public-imagery/outputs/False_Colour_Urban.jpg',\n",
       "     'alt_text': 'SkyWatch Space Applications'},\n",
       "    'provider': {'name': 'SkyWatch', 'logo_url': None},\n",
       "    'private': False},\n",
       "   {'id': 'a8fc3dde-a3e8-11e7-9793-ae4260ee3b4b',\n",
       "    'name': 'True Colour Image',\n",
       "    'description': 'A true colour image is a combination of red, green, and blue bands. The results have been pansharpened where possible.',\n",
       "    'cover_image': {'url': 'https://s3-us-west-2.amazonaws.com/skywatch-public-imagery/outputs/True_Colour_Image.jpg',\n",
       "     'alt_text': 'SkyWatch Space Applications'},\n",
       "    'provider': {'name': 'SkyWatch', 'logo_url': None},\n",
       "    'private': False},\n",
       "   {'id': 'SAR-018-fe30-11e8-81b3-da121bd73b52',\n",
       "    'name': 'SAR Terrain Flattened',\n",
       "    'description': 'SAR Terrain Flattened Gamma0',\n",
       "    'cover_image': {'url': 'https://s3-us-west-2.amazonaws.com/skywatch-public-imagery/outputs/sar_terrain_flattened.jpg',\n",
       "     'alt_text': 'SkyWatch Space Applications'},\n",
       "    'provider': {'name': 'SkyWatch', 'logo_url': None},\n",
       "    'private': False},\n",
       "   {'id': 'rgbn-a3e8-11e7-9793-ae4260ee3b4b',\n",
       "    'name': 'RGB+NIR',\n",
       "    'description': 'A true colour image is a combination of red, green, and blue bands. In this output, the near-infrared band is also available in the same result.',\n",
       "    'cover_image': {'url': 'https://s3-us-west-2.amazonaws.com/skywatch-public-imagery/outputs/True_Colour_Image.jpg',\n",
       "     'alt_text': 'SkyWatch Space Applications'},\n",
       "    'provider': {'name': 'SkyWatch', 'logo_url': None},\n",
       "    'private': False},\n",
       "   {'id': '59a6c7d6-c8a5-11e7-bf5c-a24e57c3cdd2',\n",
       "    'name': 'NDWI2',\n",
       "    'description': 'Normalized Difference Water Index (https://en.wikipedia.org/wiki/Normalized_difference_water_index)',\n",
       "    'cover_image': {'url': 'https://s3-us-west-2.amazonaws.com/skywatch-public-imagery/outputs/NDVI.jpg',\n",
       "     'alt_text': 'SkyWatch Space Applications'},\n",
       "    'provider': {'name': 'SkyWatch', 'logo_url': None},\n",
       "    'private': False},\n",
       "   {'id': 'SAR-001-8b9a-11e8-8be6-96ebfee15dc6',\n",
       "    'name': 'SAR',\n",
       "    'description': 'SAR',\n",
       "    'cover_image': {'url': 'https://s3-us-west-2.amazonaws.com/skywatch-public-imagery/outputs/sar_singlepol.jpg',\n",
       "     'alt_text': 'SkyWatch Space Applications'},\n",
       "    'provider': {'name': 'SkyWatch', 'logo_url': None},\n",
       "    'private': False},\n",
       "   {'id': 'c31c1bea-a4be-11e7-8650-3ae5c7149ea7',\n",
       "    'name': 'All Optical Bands',\n",
       "    'description': 'All optical spectral bands in a product',\n",
       "    'cover_image': {'url': 'https://s3-us-west-2.amazonaws.com/skywatch-public-imagery/outputs/All_Bands.jpg',\n",
       "     'alt_text': 'SkyWatch Space Applications'},\n",
       "    'provider': {'name': 'SkyWatch', 'logo_url': None},\n",
       "    'private': False},\n",
       "   {'id': 'SAR-010-e58e-4fad-9f27-31abf952160d',\n",
       "    'name': 'SAR Terrain Corrected',\n",
       "    'description': 'SAR Terrain Corrected Sigma0',\n",
       "    'cover_image': {'url': 'https://s3-us-west-2.amazonaws.com/skywatch-public-imagery/outputs/sar_singlepol.jpg',\n",
       "     'alt_text': 'SkyWatch Space Applications'},\n",
       "    'provider': {'name': 'SkyWatch', 'logo_url': None},\n",
       "    'private': False}]})"
      ]
     },
     "execution_count": 6,
     "metadata": {},
     "output_type": "execute_result"
    }
   ],
   "source": [
    "nb_client.getOutputs()"
   ]
  },
  {
   "cell_type": "markdown",
   "metadata": {},
   "source": [
    "'id': 'c31c1bea-a4be-11e7-8650-3ae5c7149ea7'\n",
    "\n",
    "'name': 'All Optical Bands'\n",
    "\n",
    "'description': 'All optical spectral bands in a product',"
   ]
  },
  {
   "cell_type": "code",
   "execution_count": 7,
   "metadata": {},
   "outputs": [],
   "source": [
    "image_type = 'c31c1bea-a4be-11e7-8650-3ae5c7149ea7'#\"a8fc3dde-a3e8-11e7-9793-ae4260ee3b4b\" "
   ]
  },
  {
   "cell_type": "markdown",
   "metadata": {},
   "source": [
    "# test pipeline"
   ]
  },
  {
   "cell_type": "code",
   "execution_count": 8,
   "metadata": {},
   "outputs": [],
   "source": [
    "# need to initialize the api first\n",
    "#SDS_earthcache_api.initialize(key)\n",
    "#create a set of dates so each pipeline is one month\n",
    "starts,ends = monthly_pipes(2023)#,day=[2,0])\n",
    "\n",
    "month_range = range(4,12) # testing with one month at a time -- change to len(starts) to run all months"
   ]
  },
  {
   "cell_type": "code",
   "execution_count": 9,
   "metadata": {},
   "outputs": [
    {
     "name": "stdout",
     "output_type": "stream",
     "text": [
      "Ukulhas_2023-05-01_medium ending: 2023-05-31\n",
      "{'interval_quantity': 7, 'price_km2': 2.5, 'minimum_area_km2': 0.1, 'interval_cost': 12.57, 'max_cost': 87.96}\n",
      "balance: 3000.0\n",
      "Ukulhas_2023-06-01_medium ending: 2023-06-30\n",
      "{'interval_quantity': 6, 'price_km2': 2.5, 'minimum_area_km2': 0.1, 'interval_cost': 12.57, 'max_cost': 75.39}\n",
      "balance: 3000.0\n",
      "Ukulhas_2023-07-01_medium ending: 2023-07-31\n",
      "{'interval_quantity': 7, 'price_km2': 2.5, 'minimum_area_km2': 0.1, 'interval_cost': 12.57, 'max_cost': 87.96}\n",
      "balance: 3000.0\n",
      "Ukulhas_2023-08-01_medium ending: 2023-08-31\n",
      "{'interval_quantity': 7, 'price_km2': 2.5, 'minimum_area_km2': 0.1, 'interval_cost': 12.57, 'max_cost': 87.96}\n",
      "balance: 3000.0\n",
      "Ukulhas_2023-09-01_medium ending: 2023-09-30\n",
      "{'interval_quantity': 6, 'price_km2': 2.5, 'minimum_area_km2': 0.1, 'interval_cost': 12.57, 'max_cost': 75.39}\n",
      "balance: 3000.0\n",
      "Ukulhas_2023-10-01_medium ending: 2023-10-31\n",
      "{'interval_quantity': 7, 'price_km2': 2.5, 'minimum_area_km2': 0.1, 'interval_cost': 12.57, 'max_cost': 87.96}\n",
      "balance: 3000.0\n",
      "Ukulhas_2023-11-01_medium ending: 2023-11-30\n",
      "{'interval_quantity': 6, 'price_km2': 2.5, 'minimum_area_km2': 0.1, 'interval_cost': 12.57, 'max_cost': 75.39}\n",
      "balance: 3000.0\n",
      "Ukulhas_2023-12-01_medium ending: 2023-12-31\n",
      "{'interval_quantity': 7, 'price_km2': 2.5, 'minimum_area_km2': 0.1, 'interval_cost': 12.57, 'max_cost': 87.96}\n",
      "balance: 3000.0\n"
     ]
    }
   ],
   "source": [
    "\n",
    "for i in month_range:\n",
    "    start_date = starts[i] \n",
    "    end_date = ends[i]\n",
    "    pipeline_name = location_name + start_date + '_' + resolution\n",
    "    print(pipeline_name + \" ending: \" + end_date)\n",
    "    status, response = nb_client.calculatePrice(resolution, aoi, start_date, end_date,interval)\n",
    "    if(status != 200):\n",
    "        print(response['errors'])\n",
    "    else:\n",
    "        print(response['data']['archive'])\n",
    "        print(\"balance: \"+str(response['data']['prepurchase_balance']))\n",
    "    #add 3 seconds of delay between each request\n",
    "    time.sleep(3)"
   ]
  },
  {
   "cell_type": "markdown",
   "metadata": {},
   "source": [
    "# run pipeline"
   ]
  },
  {
   "cell_type": "code",
   "execution_count": 10,
   "metadata": {},
   "outputs": [
    {
     "name": "stdout",
     "output_type": "stream",
     "text": [
      "201 {'data': {'id': 'c9e2065f-f691-11ee-98a9-fb14aa16a18a', 'name': 'Ukulhas_2023-05-01_medium', 'start_date': '2023-05-01', 'end_date': '2023-05-31', 'aoi': {'type': 'Polygon', 'coordinates': [[[72.85318351534859, 4.227805672204206, 0], [72.85339136125246, 4.207331395520955, 0], [72.87337028624503, 4.207517991124759, 0], [72.8731121458676, 4.227805397834814, 0], [72.85318351534859, 4.227805672204206, 0]]]}, 'area_km2': 5.026146507863212, 'cloud_cover_percentage': 25, 'min_aoi_coverage_percentage': 75, 'interval': '5d', 'resolution_low': 30, 'resolution_high': 1.5, 'status': 'pending', 'tags': None, 'created_at': '2024-04-09T16:54:11.278512Z', 'updated_at': '2024-04-09T16:54:11.278512Z', 'max_cost': 100, 'result_delivery': {'max_latency': '0d', 'priorities': ['lowest_cost']}, 'output': {'id': 'c31c1bea-a4be-11e7-8650-3ae5c7149ea7', 'format': 'geotiff', 'mosaic': 'stitched'}}}\n",
      "200 {'data': {'id': 'c9e2065f-f691-11ee-98a9-fb14aa16a18a', 'org_id': '001JR00000AfBY1YAN', 'name': 'Ukulhas_2023-05-01_medium', 'start_date': '2023-05-01', 'end_date': '2023-05-31', 'aoi': {'type': 'Polygon', 'coordinates': [[[72.85318351534859, 4.227805672204206], [72.85339136125246, 4.207331395520955], [72.87337028624503, 4.207517991124759], [72.8731121458676, 4.227805397834814], [72.85318351534859, 4.227805672204206]]]}, 'area_km2': 5.026146507863212, 'cloud_cover_percentage': 25, 'min_aoi_coverage_percentage': 75, 'interval': '5d', 'resolution_low': 30, 'resolution_high': 1.5, 'output': {'id': 'c31c1bea-a4be-11e7-8650-3ae5c7149ea7', 'format': 'geotiff', 'mosaic': 'stitched'}, 'status': 'active', 'tags': [], 'result_delivery': {'max_latency': '0d', 'priorities': ['lowest_cost']}, 'created_at': '2024-04-09T16:54:11.278512Z', 'updated_at': '2024-04-09T16:54:12Z', 'max_cost': 100, 'user_information': {}}}\n",
      "201 {'data': {'id': 'cd3cea8d-f691-11ee-b79e-fb14aa16a18a', 'name': 'Ukulhas_2023-06-01_medium', 'start_date': '2023-06-01', 'end_date': '2023-06-30', 'aoi': {'type': 'Polygon', 'coordinates': [[[72.85318351534859, 4.227805672204206, 0], [72.85339136125246, 4.207331395520955, 0], [72.87337028624503, 4.207517991124759, 0], [72.8731121458676, 4.227805397834814, 0], [72.85318351534859, 4.227805672204206, 0]]]}, 'area_km2': 5.026146507863212, 'cloud_cover_percentage': 25, 'min_aoi_coverage_percentage': 75, 'interval': '5d', 'resolution_low': 30, 'resolution_high': 1.5, 'status': 'pending', 'tags': None, 'created_at': '2024-04-09T16:54:16.892797Z', 'updated_at': '2024-04-09T16:54:16.892797Z', 'max_cost': 100, 'result_delivery': {'max_latency': '0d', 'priorities': ['lowest_cost']}, 'output': {'id': 'c31c1bea-a4be-11e7-8650-3ae5c7149ea7', 'format': 'geotiff', 'mosaic': 'stitched'}}}\n",
      "200 {'data': {'id': 'cd3cea8d-f691-11ee-b79e-fb14aa16a18a', 'org_id': '001JR00000AfBY1YAN', 'name': 'Ukulhas_2023-06-01_medium', 'start_date': '2023-06-01', 'end_date': '2023-06-30', 'aoi': {'type': 'Polygon', 'coordinates': [[[72.85318351534859, 4.227805672204206], [72.85339136125246, 4.207331395520955], [72.87337028624503, 4.207517991124759], [72.8731121458676, 4.227805397834814], [72.85318351534859, 4.227805672204206]]]}, 'area_km2': 5.026146507863212, 'cloud_cover_percentage': 25, 'min_aoi_coverage_percentage': 75, 'interval': '5d', 'resolution_low': 30, 'resolution_high': 1.5, 'output': {'id': 'c31c1bea-a4be-11e7-8650-3ae5c7149ea7', 'format': 'geotiff', 'mosaic': 'stitched'}, 'status': 'active', 'tags': [], 'result_delivery': {'max_latency': '0d', 'priorities': ['lowest_cost']}, 'created_at': '2024-04-09T16:54:16.892797Z', 'updated_at': '2024-04-09T16:54:17Z', 'max_cost': 100, 'user_information': {}}}\n",
      "201 {'data': {'id': 'd0678940-f691-11ee-9929-fb14aa16a18a', 'name': 'Ukulhas_2023-07-01_medium', 'start_date': '2023-07-01', 'end_date': '2023-07-31', 'aoi': {'type': 'Polygon', 'coordinates': [[[72.85318351534859, 4.227805672204206, 0], [72.85339136125246, 4.207331395520955, 0], [72.87337028624503, 4.207517991124759, 0], [72.8731121458676, 4.227805397834814, 0], [72.85318351534859, 4.227805672204206, 0]]]}, 'area_km2': 5.026146507863212, 'cloud_cover_percentage': 25, 'min_aoi_coverage_percentage': 75, 'interval': '5d', 'resolution_low': 30, 'resolution_high': 1.5, 'status': 'pending', 'tags': None, 'created_at': '2024-04-09T16:54:22.219775Z', 'updated_at': '2024-04-09T16:54:22.219775Z', 'max_cost': 100, 'result_delivery': {'max_latency': '0d', 'priorities': ['lowest_cost']}, 'output': {'id': 'c31c1bea-a4be-11e7-8650-3ae5c7149ea7', 'format': 'geotiff', 'mosaic': 'stitched'}}}\n",
      "200 {'data': {'id': 'd0678940-f691-11ee-9929-fb14aa16a18a', 'org_id': '001JR00000AfBY1YAN', 'name': 'Ukulhas_2023-07-01_medium', 'start_date': '2023-07-01', 'end_date': '2023-07-31', 'aoi': {'type': 'Polygon', 'coordinates': [[[72.85318351534859, 4.227805672204206], [72.85339136125246, 4.207331395520955], [72.87337028624503, 4.207517991124759], [72.8731121458676, 4.227805397834814], [72.85318351534859, 4.227805672204206]]]}, 'area_km2': 5.026146507863212, 'cloud_cover_percentage': 25, 'min_aoi_coverage_percentage': 75, 'interval': '5d', 'resolution_low': 30, 'resolution_high': 1.5, 'output': {'id': 'c31c1bea-a4be-11e7-8650-3ae5c7149ea7', 'format': 'geotiff', 'mosaic': 'stitched'}, 'status': 'active', 'tags': [], 'result_delivery': {'max_latency': '0d', 'priorities': ['lowest_cost']}, 'created_at': '2024-04-09T16:54:22.219775Z', 'updated_at': '2024-04-09T16:54:22Z', 'max_cost': 100, 'user_information': {}}}\n",
      "201 {'data': {'id': 'd36c3872-f691-11ee-8b81-fb14aa16a18a', 'name': 'Ukulhas_2023-08-01_medium', 'start_date': '2023-08-01', 'end_date': '2023-08-31', 'aoi': {'type': 'Polygon', 'coordinates': [[[72.85318351534859, 4.227805672204206, 0], [72.85339136125246, 4.207331395520955, 0], [72.87337028624503, 4.207517991124759, 0], [72.8731121458676, 4.227805397834814, 0], [72.85318351534859, 4.227805672204206, 0]]]}, 'area_km2': 5.026146507863212, 'cloud_cover_percentage': 25, 'min_aoi_coverage_percentage': 75, 'interval': '5d', 'resolution_low': 30, 'resolution_high': 1.5, 'status': 'pending', 'tags': None, 'created_at': '2024-04-09T16:54:27.255822Z', 'updated_at': '2024-04-09T16:54:27.255822Z', 'max_cost': 100, 'result_delivery': {'max_latency': '0d', 'priorities': ['lowest_cost']}, 'output': {'id': 'c31c1bea-a4be-11e7-8650-3ae5c7149ea7', 'format': 'geotiff', 'mosaic': 'stitched'}}}\n",
      "200 {'data': {'id': 'd36c3872-f691-11ee-8b81-fb14aa16a18a', 'org_id': '001JR00000AfBY1YAN', 'name': 'Ukulhas_2023-08-01_medium', 'start_date': '2023-08-01', 'end_date': '2023-08-31', 'aoi': {'type': 'Polygon', 'coordinates': [[[72.85318351534859, 4.227805672204206], [72.85339136125246, 4.207331395520955], [72.87337028624503, 4.207517991124759], [72.8731121458676, 4.227805397834814], [72.85318351534859, 4.227805672204206]]]}, 'area_km2': 5.026146507863212, 'cloud_cover_percentage': 25, 'min_aoi_coverage_percentage': 75, 'interval': '5d', 'resolution_low': 30, 'resolution_high': 1.5, 'output': {'id': 'c31c1bea-a4be-11e7-8650-3ae5c7149ea7', 'format': 'geotiff', 'mosaic': 'stitched'}, 'status': 'active', 'tags': [], 'result_delivery': {'max_latency': '0d', 'priorities': ['lowest_cost']}, 'created_at': '2024-04-09T16:54:27.255822Z', 'updated_at': '2024-04-09T16:54:27Z', 'max_cost': 100, 'user_information': {}}}\n",
      "201 {'data': {'id': 'd6b27eb0-f691-11ee-b14d-fb14aa16a18a', 'name': 'Ukulhas_2023-09-01_medium', 'start_date': '2023-09-01', 'end_date': '2023-09-30', 'aoi': {'type': 'Polygon', 'coordinates': [[[72.85318351534859, 4.227805672204206, 0], [72.85339136125246, 4.207331395520955, 0], [72.87337028624503, 4.207517991124759, 0], [72.8731121458676, 4.227805397834814, 0], [72.85318351534859, 4.227805672204206, 0]]]}, 'area_km2': 5.026146507863212, 'cloud_cover_percentage': 25, 'min_aoi_coverage_percentage': 75, 'interval': '5d', 'resolution_low': 30, 'resolution_high': 1.5, 'status': 'pending', 'tags': None, 'created_at': '2024-04-09T16:54:32.777368Z', 'updated_at': '2024-04-09T16:54:32.777368Z', 'max_cost': 100, 'result_delivery': {'max_latency': '0d', 'priorities': ['lowest_cost']}, 'output': {'id': 'c31c1bea-a4be-11e7-8650-3ae5c7149ea7', 'format': 'geotiff', 'mosaic': 'stitched'}}}\n",
      "200 {'data': {'id': 'd6b27eb0-f691-11ee-b14d-fb14aa16a18a', 'org_id': '001JR00000AfBY1YAN', 'name': 'Ukulhas_2023-09-01_medium', 'start_date': '2023-09-01', 'end_date': '2023-09-30', 'aoi': {'type': 'Polygon', 'coordinates': [[[72.85318351534859, 4.227805672204206], [72.85339136125246, 4.207331395520955], [72.87337028624503, 4.207517991124759], [72.8731121458676, 4.227805397834814], [72.85318351534859, 4.227805672204206]]]}, 'area_km2': 5.026146507863212, 'cloud_cover_percentage': 25, 'min_aoi_coverage_percentage': 75, 'interval': '5d', 'resolution_low': 30, 'resolution_high': 1.5, 'output': {'id': 'c31c1bea-a4be-11e7-8650-3ae5c7149ea7', 'format': 'geotiff', 'mosaic': 'stitched'}, 'status': 'active', 'tags': [], 'result_delivery': {'max_latency': '0d', 'priorities': ['lowest_cost']}, 'created_at': '2024-04-09T16:54:32.777368Z', 'updated_at': '2024-04-09T16:54:33Z', 'max_cost': 100, 'user_information': {}}}\n",
      "201 {'data': {'id': 'd9f56914-f691-11ee-a123-fb14aa16a18a', 'name': 'Ukulhas_2023-10-01_medium', 'start_date': '2023-10-01', 'end_date': '2023-10-31', 'aoi': {'type': 'Polygon', 'coordinates': [[[72.85318351534859, 4.227805672204206, 0], [72.85339136125246, 4.207331395520955, 0], [72.87337028624503, 4.207517991124759, 0], [72.8731121458676, 4.227805397834814, 0], [72.85318351534859, 4.227805672204206, 0]]]}, 'area_km2': 5.026146507863212, 'cloud_cover_percentage': 25, 'min_aoi_coverage_percentage': 75, 'interval': '5d', 'resolution_low': 30, 'resolution_high': 1.5, 'status': 'pending', 'tags': None, 'created_at': '2024-04-09T16:54:38.234466Z', 'updated_at': '2024-04-09T16:54:38.234466Z', 'max_cost': 100, 'result_delivery': {'max_latency': '0d', 'priorities': ['lowest_cost']}, 'output': {'id': 'c31c1bea-a4be-11e7-8650-3ae5c7149ea7', 'format': 'geotiff', 'mosaic': 'stitched'}}}\n",
      "200 {'data': {'id': 'd9f56914-f691-11ee-a123-fb14aa16a18a', 'org_id': '001JR00000AfBY1YAN', 'name': 'Ukulhas_2023-10-01_medium', 'start_date': '2023-10-01', 'end_date': '2023-10-31', 'aoi': {'type': 'Polygon', 'coordinates': [[[72.85318351534859, 4.227805672204206], [72.85339136125246, 4.207331395520955], [72.87337028624503, 4.207517991124759], [72.8731121458676, 4.227805397834814], [72.85318351534859, 4.227805672204206]]]}, 'area_km2': 5.026146507863212, 'cloud_cover_percentage': 25, 'min_aoi_coverage_percentage': 75, 'interval': '5d', 'resolution_low': 30, 'resolution_high': 1.5, 'output': {'id': 'c31c1bea-a4be-11e7-8650-3ae5c7149ea7', 'format': 'geotiff', 'mosaic': 'stitched'}, 'status': 'active', 'tags': [], 'result_delivery': {'max_latency': '0d', 'priorities': ['lowest_cost']}, 'created_at': '2024-04-09T16:54:38.234466Z', 'updated_at': '2024-04-09T16:54:38Z', 'max_cost': 100, 'user_information': {}}}\n",
      "201 {'data': {'id': 'dd6261f6-f691-11ee-b016-fb14aa16a18a', 'name': 'Ukulhas_2023-11-01_medium', 'start_date': '2023-11-01', 'end_date': '2023-11-30', 'aoi': {'type': 'Polygon', 'coordinates': [[[72.85318351534859, 4.227805672204206, 0], [72.85339136125246, 4.207331395520955, 0], [72.87337028624503, 4.207517991124759, 0], [72.8731121458676, 4.227805397834814, 0], [72.85318351534859, 4.227805672204206, 0]]]}, 'area_km2': 5.026146507863212, 'cloud_cover_percentage': 25, 'min_aoi_coverage_percentage': 75, 'interval': '5d', 'resolution_low': 30, 'resolution_high': 1.5, 'status': 'pending', 'tags': None, 'created_at': '2024-04-09T16:54:43.996433Z', 'updated_at': '2024-04-09T16:54:43.996433Z', 'max_cost': 100, 'result_delivery': {'max_latency': '0d', 'priorities': ['lowest_cost']}, 'output': {'id': 'c31c1bea-a4be-11e7-8650-3ae5c7149ea7', 'format': 'geotiff', 'mosaic': 'stitched'}}}\n",
      "200 {'data': {'id': 'dd6261f6-f691-11ee-b016-fb14aa16a18a', 'org_id': '001JR00000AfBY1YAN', 'name': 'Ukulhas_2023-11-01_medium', 'start_date': '2023-11-01', 'end_date': '2023-11-30', 'aoi': {'type': 'Polygon', 'coordinates': [[[72.85318351534859, 4.227805672204206], [72.85339136125246, 4.207331395520955], [72.87337028624503, 4.207517991124759], [72.8731121458676, 4.227805397834814], [72.85318351534859, 4.227805672204206]]]}, 'area_km2': 5.026146507863212, 'cloud_cover_percentage': 25, 'min_aoi_coverage_percentage': 75, 'interval': '5d', 'resolution_low': 30, 'resolution_high': 1.5, 'output': {'id': 'c31c1bea-a4be-11e7-8650-3ae5c7149ea7', 'format': 'geotiff', 'mosaic': 'stitched'}, 'status': 'active', 'tags': [], 'result_delivery': {'max_latency': '0d', 'priorities': ['lowest_cost']}, 'created_at': '2024-04-09T16:54:43.996433Z', 'updated_at': '2024-04-09T16:54:44Z', 'max_cost': 100, 'user_information': {}}}\n",
      "201 {'data': {'id': 'e0b26322-f691-11ee-a421-fb14aa16a18a', 'name': 'Ukulhas_2023-12-01_medium', 'start_date': '2023-12-01', 'end_date': '2023-12-31', 'aoi': {'type': 'Polygon', 'coordinates': [[[72.85318351534859, 4.227805672204206, 0], [72.85339136125246, 4.207331395520955, 0], [72.87337028624503, 4.207517991124759, 0], [72.8731121458676, 4.227805397834814, 0], [72.85318351534859, 4.227805672204206, 0]]]}, 'area_km2': 5.026146507863212, 'cloud_cover_percentage': 25, 'min_aoi_coverage_percentage': 75, 'interval': '5d', 'resolution_low': 30, 'resolution_high': 1.5, 'status': 'pending', 'tags': None, 'created_at': '2024-04-09T16:54:49.534853Z', 'updated_at': '2024-04-09T16:54:49.534853Z', 'max_cost': 100, 'result_delivery': {'max_latency': '0d', 'priorities': ['lowest_cost']}, 'output': {'id': 'c31c1bea-a4be-11e7-8650-3ae5c7149ea7', 'format': 'geotiff', 'mosaic': 'stitched'}}}\n",
      "200 {'data': {'id': 'e0b26322-f691-11ee-a421-fb14aa16a18a', 'org_id': '001JR00000AfBY1YAN', 'name': 'Ukulhas_2023-12-01_medium', 'start_date': '2023-12-01', 'end_date': '2023-12-31', 'aoi': {'type': 'Polygon', 'coordinates': [[[72.85318351534859, 4.227805672204206], [72.85339136125246, 4.207331395520955], [72.87337028624503, 4.207517991124759], [72.8731121458676, 4.227805397834814], [72.85318351534859, 4.227805672204206]]]}, 'area_km2': 5.026146507863212, 'cloud_cover_percentage': 25, 'min_aoi_coverage_percentage': 75, 'interval': '5d', 'resolution_low': 30, 'resolution_high': 1.5, 'output': {'id': 'c31c1bea-a4be-11e7-8650-3ae5c7149ea7', 'format': 'geotiff', 'mosaic': 'stitched'}, 'status': 'active', 'tags': [], 'result_delivery': {'max_latency': '0d', 'priorities': ['lowest_cost']}, 'created_at': '2024-04-09T16:54:49.534853Z', 'updated_at': '2024-04-09T16:54:50Z', 'max_cost': 100, 'user_information': {}}}\n"
     ]
    }
   ],
   "source": [
    "for i in month_range:\n",
    "    start_date = starts[i]\n",
    "    end_date = ends[i]\n",
    "    pipeline_name = location_name + start_date + '_' + resolution\n",
    "    #SDS_earthcache_api.retrieve_images_earthcache(nb_client, pipeline_name, aoi, start_date, end_date, image_type,interval,resolution)\n",
    "    time.sleep(3)"
   ]
  },
  {
   "cell_type": "markdown",
   "metadata": {},
   "source": [
    "# check results and download"
   ]
  },
  {
   "cell_type": "code",
   "execution_count": 11,
   "metadata": {},
   "outputs": [
    {
     "name": "stdout",
     "output_type": "stream",
     "text": [
      "200 {'data': [{'id': '06daa796-1cdb-43c1-b399-34e0bcb2b1d0', 'created_at': '2024-04-09T16:54:19.396034+0000', 'updated_at': '2024-04-09T16:54:53.664262+0000', 'pipeline_id': 'c9e2065f-f691-11ee-98a9-fb14aa16a18a', 'output_id': 'c31c1bea-a4be-11e7-8650-3ae5c7149ea7', 'status': 'retrieving', 'message': 'Fulfillment from Planet in progress, expected delivery in 30-60 minutes', 'interval': {'start_date': '2023-05-01', 'end_date': '2023-05-05'}, 'total_interval_cost': None, 'overall_metadata': {'scene_height': None, 'scene_width': None, 'filled_area_km2': None, 'filled_area_percentage_of_aoi': None, 'cloud_cover_percentage': None, 'cloud_cover_percentage_of_aoi': None, 'visible_area_km2': None, 'visible_area_percentage': None, 'visible_area_percentage_of_aoi': None}, 'results': [], 'alternate_search_results': []}, {'id': '9a2e300a-a945-4566-a7c8-8b78ddb1a5af', 'created_at': '2024-04-09T16:54:19.126376+0000', 'updated_at': '2024-04-09T16:54:53.264840+0000', 'pipeline_id': 'c9e2065f-f691-11ee-98a9-fb14aa16a18a', 'output_id': 'c31c1bea-a4be-11e7-8650-3ae5c7149ea7', 'status': 'retrieving', 'message': 'Fulfillment from Planet in progress, expected delivery in 30-60 minutes', 'interval': {'start_date': '2023-05-06', 'end_date': '2023-05-10'}, 'total_interval_cost': None, 'overall_metadata': {'scene_height': None, 'scene_width': None, 'filled_area_km2': None, 'filled_area_percentage_of_aoi': None, 'cloud_cover_percentage': None, 'cloud_cover_percentage_of_aoi': None, 'visible_area_km2': None, 'visible_area_percentage': None, 'visible_area_percentage_of_aoi': None}, 'results': [], 'alternate_search_results': []}, {'id': 'b97579ad-50b5-48ae-9302-fda23dc4b2ba', 'created_at': '2024-04-09T16:54:20.524093+0000', 'updated_at': '2024-04-09T16:54:40.130519+0000', 'pipeline_id': 'c9e2065f-f691-11ee-98a9-fb14aa16a18a', 'output_id': 'c31c1bea-a4be-11e7-8650-3ae5c7149ea7', 'status': 'complete', 'message': 'Processing complete', 'interval': {'start_date': '2023-05-11', 'end_date': '2023-05-15'}, 'total_interval_cost': None, 'overall_metadata': {'scene_height': None, 'scene_width': None, 'filled_area_km2': None, 'filled_area_percentage_of_aoi': None, 'cloud_cover_percentage': None, 'cloud_cover_percentage_of_aoi': None, 'visible_area_km2': None, 'visible_area_percentage': None, 'visible_area_percentage_of_aoi': None}, 'results': [], 'alternate_search_results': []}, {'id': 'abf24114-d861-4995-b403-1d19b4a4afec', 'created_at': '2024-04-09T16:54:16.452819+0000', 'updated_at': '2024-04-09T16:54:53.990266+0000', 'pipeline_id': 'c9e2065f-f691-11ee-98a9-fb14aa16a18a', 'output_id': 'c31c1bea-a4be-11e7-8650-3ae5c7149ea7', 'status': 'retrieving', 'message': 'Fulfillment from Planet in progress, expected delivery in 30-60 minutes', 'interval': {'start_date': '2023-05-16', 'end_date': '2023-05-20'}, 'total_interval_cost': None, 'overall_metadata': {'scene_height': None, 'scene_width': None, 'filled_area_km2': None, 'filled_area_percentage_of_aoi': None, 'cloud_cover_percentage': None, 'cloud_cover_percentage_of_aoi': None, 'visible_area_km2': None, 'visible_area_percentage': None, 'visible_area_percentage_of_aoi': None}, 'results': [], 'alternate_search_results': []}, {'id': '1c96ea35-74cd-44e7-beb5-6ed775c77b72', 'created_at': '2024-04-09T16:54:17.909470+0000', 'updated_at': '2024-04-09T16:55:03.147314+0000', 'pipeline_id': 'c9e2065f-f691-11ee-98a9-fb14aa16a18a', 'output_id': 'c31c1bea-a4be-11e7-8650-3ae5c7149ea7', 'status': 'processing', 'message': 'Image processing - started', 'interval': {'start_date': '2023-05-21', 'end_date': '2023-05-25'}, 'total_interval_cost': None, 'overall_metadata': {'scene_height': None, 'scene_width': None, 'filled_area_km2': None, 'filled_area_percentage_of_aoi': None, 'cloud_cover_percentage': None, 'cloud_cover_percentage_of_aoi': None, 'visible_area_km2': None, 'visible_area_percentage': None, 'visible_area_percentage_of_aoi': None}, 'results': [], 'alternate_search_results': []}, {'id': '3790396c-c898-4a0a-bb78-1cc48a04d8ae', 'created_at': '2024-04-09T16:54:19.236164+0000', 'updated_at': '2024-04-09T16:55:02.838967+0000', 'pipeline_id': 'c9e2065f-f691-11ee-98a9-fb14aa16a18a', 'output_id': 'c31c1bea-a4be-11e7-8650-3ae5c7149ea7', 'status': 'processing', 'message': 'Image processing - started', 'interval': {'start_date': '2023-05-26', 'end_date': '2023-05-30'}, 'total_interval_cost': None, 'overall_metadata': {'scene_height': None, 'scene_width': None, 'filled_area_km2': None, 'filled_area_percentage_of_aoi': None, 'cloud_cover_percentage': None, 'cloud_cover_percentage_of_aoi': None, 'visible_area_km2': None, 'visible_area_percentage': None, 'visible_area_percentage_of_aoi': None}, 'results': [], 'alternate_search_results': [{'index': 1, 'search_result_id': 'cb5b24f7-1831-4d83-9edd-f3971a11465c', 'source': 'PlanetScope-SuperDove', 'capture_date': '2023-05-28', 'resolution': 3.0, 'price_per_km2': 2.5, 'max_interval_cost': 12.57, 'aoi_coverage_percentage': 11.08, 'filled_coverage_percentage': None, 'processing_status': 'rejected - aoi coverage percentage too low'}, {'index': 2, 'search_result_id': 'fc3dc3d1-220a-4b09-9950-dd15624cf571', 'source': 'PlanetScope-SuperDove', 'capture_date': '2023-05-30', 'resolution': 3.0, 'price_per_km2': 2.5, 'max_interval_cost': 12.57, 'aoi_coverage_percentage': 11.08, 'filled_coverage_percentage': None, 'processing_status': 'rejected - aoi coverage percentage too low'}]}, {'id': '022f0c6c-a96f-4650-923f-6450d16e026b', 'created_at': '2024-04-09T16:54:20.344069+0000', 'updated_at': '2024-04-09T16:54:40.283547+0000', 'pipeline_id': 'c9e2065f-f691-11ee-98a9-fb14aa16a18a', 'output_id': 'c31c1bea-a4be-11e7-8650-3ae5c7149ea7', 'status': 'complete', 'message': 'Processing complete', 'interval': {'start_date': '2023-05-31', 'end_date': '2023-05-31'}, 'total_interval_cost': None, 'overall_metadata': {'scene_height': None, 'scene_width': None, 'filled_area_km2': None, 'filled_area_percentage_of_aoi': None, 'cloud_cover_percentage': None, 'cloud_cover_percentage_of_aoi': None, 'visible_area_km2': None, 'visible_area_percentage': None, 'visible_area_percentage_of_aoi': None}, 'results': [], 'alternate_search_results': []}], 'pagination': {'per_page': 500, 'cursor': {'next': None, 'self': '2023-05-01--2023-05-05'}}}\n",
      "200 {'data': [{'id': '0897583d-3716-46ec-b169-7a66022dfcbe', 'created_at': '2024-04-09T16:54:23.045087+0000', 'updated_at': '2024-04-09T16:54:41.902533+0000', 'pipeline_id': 'cd3cea8d-f691-11ee-b79e-fb14aa16a18a', 'output_id': 'c31c1bea-a4be-11e7-8650-3ae5c7149ea7', 'status': 'complete', 'message': 'Processing complete', 'interval': {'start_date': '2023-06-01', 'end_date': '2023-06-05'}, 'total_interval_cost': None, 'overall_metadata': {'scene_height': None, 'scene_width': None, 'filled_area_km2': None, 'filled_area_percentage_of_aoi': None, 'cloud_cover_percentage': None, 'cloud_cover_percentage_of_aoi': None, 'visible_area_km2': None, 'visible_area_percentage': None, 'visible_area_percentage_of_aoi': None}, 'results': [], 'alternate_search_results': []}, {'id': 'b26072db-b48e-42c7-a51c-ebcef92877b7', 'created_at': '2024-04-09T16:54:21.322807+0000', 'updated_at': '2024-04-09T16:54:39.982348+0000', 'pipeline_id': 'cd3cea8d-f691-11ee-b79e-fb14aa16a18a', 'output_id': 'c31c1bea-a4be-11e7-8650-3ae5c7149ea7', 'status': 'complete', 'message': 'Processing complete', 'interval': {'start_date': '2023-06-06', 'end_date': '2023-06-10'}, 'total_interval_cost': None, 'overall_metadata': {'scene_height': None, 'scene_width': None, 'filled_area_km2': None, 'filled_area_percentage_of_aoi': None, 'cloud_cover_percentage': None, 'cloud_cover_percentage_of_aoi': None, 'visible_area_km2': None, 'visible_area_percentage': None, 'visible_area_percentage_of_aoi': None}, 'results': [], 'alternate_search_results': []}, {'id': '73bd12c5-efdb-4f68-b3f9-28879913561d', 'created_at': '2024-04-09T16:54:22.756454+0000', 'updated_at': '2024-04-09T16:54:53.263606+0000', 'pipeline_id': 'cd3cea8d-f691-11ee-b79e-fb14aa16a18a', 'output_id': 'c31c1bea-a4be-11e7-8650-3ae5c7149ea7', 'status': 'retrieving', 'message': 'Fulfillment from Planet in progress, expected delivery in 30-60 minutes', 'interval': {'start_date': '2023-06-11', 'end_date': '2023-06-15'}, 'total_interval_cost': None, 'overall_metadata': {'scene_height': None, 'scene_width': None, 'filled_area_km2': None, 'filled_area_percentage_of_aoi': None, 'cloud_cover_percentage': None, 'cloud_cover_percentage_of_aoi': None, 'visible_area_km2': None, 'visible_area_percentage': None, 'visible_area_percentage_of_aoi': None}, 'results': [], 'alternate_search_results': []}, {'id': '27c900f7-292a-45b0-8c2a-d4de37115c4d', 'created_at': '2024-04-09T16:54:22.401905+0000', 'updated_at': '2024-04-09T16:54:53.285094+0000', 'pipeline_id': 'cd3cea8d-f691-11ee-b79e-fb14aa16a18a', 'output_id': 'c31c1bea-a4be-11e7-8650-3ae5c7149ea7', 'status': 'retrieving', 'message': 'Fulfillment from Planet in progress, expected delivery in 30-60 minutes', 'interval': {'start_date': '2023-06-16', 'end_date': '2023-06-20'}, 'total_interval_cost': None, 'overall_metadata': {'scene_height': None, 'scene_width': None, 'filled_area_km2': None, 'filled_area_percentage_of_aoi': None, 'cloud_cover_percentage': None, 'cloud_cover_percentage_of_aoi': None, 'visible_area_km2': None, 'visible_area_percentage': None, 'visible_area_percentage_of_aoi': None}, 'results': [], 'alternate_search_results': []}, {'id': '70ff2258-8356-49ab-8b80-b75288dad223', 'created_at': '2024-04-09T16:54:22.954009+0000', 'updated_at': '2024-04-09T16:54:41.084252+0000', 'pipeline_id': 'cd3cea8d-f691-11ee-b79e-fb14aa16a18a', 'output_id': 'c31c1bea-a4be-11e7-8650-3ae5c7149ea7', 'status': 'complete', 'message': 'Processing complete', 'interval': {'start_date': '2023-06-21', 'end_date': '2023-06-25'}, 'total_interval_cost': None, 'overall_metadata': {'scene_height': None, 'scene_width': None, 'filled_area_km2': None, 'filled_area_percentage_of_aoi': None, 'cloud_cover_percentage': None, 'cloud_cover_percentage_of_aoi': None, 'visible_area_km2': None, 'visible_area_percentage': None, 'visible_area_percentage_of_aoi': None}, 'results': [], 'alternate_search_results': []}, {'id': 'da66e2be-f3f0-4691-add4-07525a393cb9', 'created_at': '2024-04-09T16:54:21.206759+0000', 'updated_at': '2024-04-09T16:54:41.351981+0000', 'pipeline_id': 'cd3cea8d-f691-11ee-b79e-fb14aa16a18a', 'output_id': 'c31c1bea-a4be-11e7-8650-3ae5c7149ea7', 'status': 'complete', 'message': 'Processing complete', 'interval': {'start_date': '2023-06-26', 'end_date': '2023-06-30'}, 'total_interval_cost': None, 'overall_metadata': {'scene_height': None, 'scene_width': None, 'filled_area_km2': None, 'filled_area_percentage_of_aoi': None, 'cloud_cover_percentage': None, 'cloud_cover_percentage_of_aoi': None, 'visible_area_km2': None, 'visible_area_percentage': None, 'visible_area_percentage_of_aoi': None}, 'results': [], 'alternate_search_results': []}], 'pagination': {'per_page': 500, 'cursor': {'next': None, 'self': '2023-06-01--2023-06-05'}}}\n",
      "200 {'data': [{'id': 'f10cf3aa-803c-492f-9096-d44ef660f055', 'created_at': '2024-04-09T16:54:26.256844+0000', 'updated_at': '2024-04-09T16:54:43.043103+0000', 'pipeline_id': 'd0678940-f691-11ee-9929-fb14aa16a18a', 'output_id': 'c31c1bea-a4be-11e7-8650-3ae5c7149ea7', 'status': 'complete', 'message': 'Processing complete', 'interval': {'start_date': '2023-07-01', 'end_date': '2023-07-05'}, 'total_interval_cost': None, 'overall_metadata': {'scene_height': None, 'scene_width': None, 'filled_area_km2': None, 'filled_area_percentage_of_aoi': None, 'cloud_cover_percentage': None, 'cloud_cover_percentage_of_aoi': None, 'visible_area_km2': None, 'visible_area_percentage': None, 'visible_area_percentage_of_aoi': None}, 'results': [], 'alternate_search_results': []}, {'id': 'ec5c8694-0d0b-4fe9-978b-21ed0f64ad19', 'created_at': '2024-04-09T16:54:27.683413+0000', 'updated_at': '2024-04-09T16:54:53.949841+0000', 'pipeline_id': 'd0678940-f691-11ee-9929-fb14aa16a18a', 'output_id': 'c31c1bea-a4be-11e7-8650-3ae5c7149ea7', 'status': 'retrieving', 'message': 'Fulfillment from Planet in progress, expected delivery in 30-60 minutes', 'interval': {'start_date': '2023-07-06', 'end_date': '2023-07-10'}, 'total_interval_cost': None, 'overall_metadata': {'scene_height': None, 'scene_width': None, 'filled_area_km2': None, 'filled_area_percentage_of_aoi': None, 'cloud_cover_percentage': None, 'cloud_cover_percentage_of_aoi': None, 'visible_area_km2': None, 'visible_area_percentage': None, 'visible_area_percentage_of_aoi': None}, 'results': [], 'alternate_search_results': []}, {'id': '6de67e38-1e30-4621-bd6e-37b77dae9fca', 'created_at': '2024-04-09T16:54:27.603482+0000', 'updated_at': '2024-04-09T16:55:04.788095+0000', 'pipeline_id': 'd0678940-f691-11ee-9929-fb14aa16a18a', 'output_id': 'c31c1bea-a4be-11e7-8650-3ae5c7149ea7', 'status': 'processing', 'message': 'Image processing - started', 'interval': {'start_date': '2023-07-11', 'end_date': '2023-07-15'}, 'total_interval_cost': None, 'overall_metadata': {'scene_height': None, 'scene_width': None, 'filled_area_km2': None, 'filled_area_percentage_of_aoi': None, 'cloud_cover_percentage': None, 'cloud_cover_percentage_of_aoi': None, 'visible_area_km2': None, 'visible_area_percentage': None, 'visible_area_percentage_of_aoi': None}, 'results': [], 'alternate_search_results': []}, {'id': '31d5ee22-b420-4af0-b1a6-85697420d5bf', 'created_at': '2024-04-09T16:54:26.243171+0000', 'updated_at': '2024-04-09T16:54:54.009583+0000', 'pipeline_id': 'd0678940-f691-11ee-9929-fb14aa16a18a', 'output_id': 'c31c1bea-a4be-11e7-8650-3ae5c7149ea7', 'status': 'retrieving', 'message': 'Fulfillment from Planet in progress, expected delivery in 30-60 minutes', 'interval': {'start_date': '2023-07-16', 'end_date': '2023-07-20'}, 'total_interval_cost': None, 'overall_metadata': {'scene_height': None, 'scene_width': None, 'filled_area_km2': None, 'filled_area_percentage_of_aoi': None, 'cloud_cover_percentage': None, 'cloud_cover_percentage_of_aoi': None, 'visible_area_km2': None, 'visible_area_percentage': None, 'visible_area_percentage_of_aoi': None}, 'results': [], 'alternate_search_results': []}, {'id': 'ccc46e8d-6206-4bdc-bceb-5c8f54c08b97', 'created_at': '2024-04-09T16:54:27.246392+0000', 'updated_at': '2024-04-09T16:54:53.390266+0000', 'pipeline_id': 'd0678940-f691-11ee-9929-fb14aa16a18a', 'output_id': 'c31c1bea-a4be-11e7-8650-3ae5c7149ea7', 'status': 'retrieving', 'message': 'Fulfillment from Planet in progress, expected delivery in 30-60 minutes', 'interval': {'start_date': '2023-07-21', 'end_date': '2023-07-25'}, 'total_interval_cost': None, 'overall_metadata': {'scene_height': None, 'scene_width': None, 'filled_area_km2': None, 'filled_area_percentage_of_aoi': None, 'cloud_cover_percentage': None, 'cloud_cover_percentage_of_aoi': None, 'visible_area_km2': None, 'visible_area_percentage': None, 'visible_area_percentage_of_aoi': None}, 'results': [], 'alternate_search_results': []}, {'id': 'e195844f-9fdc-49a3-a0bc-c49907e48013', 'created_at': '2024-04-09T16:54:27.561744+0000', 'updated_at': '2024-04-09T16:54:53.286307+0000', 'pipeline_id': 'd0678940-f691-11ee-9929-fb14aa16a18a', 'output_id': 'c31c1bea-a4be-11e7-8650-3ae5c7149ea7', 'status': 'retrieving', 'message': 'Fulfillment from Planet in progress, expected delivery in 30-60 minutes', 'interval': {'start_date': '2023-07-26', 'end_date': '2023-07-30'}, 'total_interval_cost': None, 'overall_metadata': {'scene_height': None, 'scene_width': None, 'filled_area_km2': None, 'filled_area_percentage_of_aoi': None, 'cloud_cover_percentage': None, 'cloud_cover_percentage_of_aoi': None, 'visible_area_km2': None, 'visible_area_percentage': None, 'visible_area_percentage_of_aoi': None}, 'results': [], 'alternate_search_results': []}, {'id': '74367905-659e-447c-9fd0-38104b91e412', 'created_at': '2024-04-09T16:54:26.360483+0000', 'updated_at': '2024-04-09T16:54:43.478522+0000', 'pipeline_id': 'd0678940-f691-11ee-9929-fb14aa16a18a', 'output_id': 'c31c1bea-a4be-11e7-8650-3ae5c7149ea7', 'status': 'complete', 'message': 'Processing complete', 'interval': {'start_date': '2023-07-31', 'end_date': '2023-07-31'}, 'total_interval_cost': None, 'overall_metadata': {'scene_height': None, 'scene_width': None, 'filled_area_km2': None, 'filled_area_percentage_of_aoi': None, 'cloud_cover_percentage': None, 'cloud_cover_percentage_of_aoi': None, 'visible_area_km2': None, 'visible_area_percentage': None, 'visible_area_percentage_of_aoi': None}, 'results': [], 'alternate_search_results': []}], 'pagination': {'per_page': 500, 'cursor': {'next': None, 'self': '2023-07-01--2023-07-05'}}}\n",
      "200 {'data': [{'id': 'a96fed6f-a70a-4190-a722-b8ad2871ec78', 'created_at': '2024-04-09T16:54:32.008865+0000', 'updated_at': '2024-04-09T16:54:54.389497+0000', 'pipeline_id': 'd36c3872-f691-11ee-8b81-fb14aa16a18a', 'output_id': 'c31c1bea-a4be-11e7-8650-3ae5c7149ea7', 'status': 'retrieving', 'message': 'Fulfillment from Planet in progress, expected delivery in 30-60 minutes', 'interval': {'start_date': '2023-08-01', 'end_date': '2023-08-05'}, 'total_interval_cost': None, 'overall_metadata': {'scene_height': None, 'scene_width': None, 'filled_area_km2': None, 'filled_area_percentage_of_aoi': None, 'cloud_cover_percentage': None, 'cloud_cover_percentage_of_aoi': None, 'visible_area_km2': None, 'visible_area_percentage': None, 'visible_area_percentage_of_aoi': None}, 'results': [], 'alternate_search_results': []}, {'id': '3254787b-1f09-428a-8ed0-bc901dc77f2e', 'created_at': '2024-04-09T16:54:31.454558+0000', 'updated_at': '2024-04-09T16:54:54.641115+0000', 'pipeline_id': 'd36c3872-f691-11ee-8b81-fb14aa16a18a', 'output_id': 'c31c1bea-a4be-11e7-8650-3ae5c7149ea7', 'status': 'retrieving', 'message': 'Fulfillment from Planet in progress, expected delivery in 30-60 minutes', 'interval': {'start_date': '2023-08-06', 'end_date': '2023-08-10'}, 'total_interval_cost': None, 'overall_metadata': {'scene_height': None, 'scene_width': None, 'filled_area_km2': None, 'filled_area_percentage_of_aoi': None, 'cloud_cover_percentage': None, 'cloud_cover_percentage_of_aoi': None, 'visible_area_km2': None, 'visible_area_percentage': None, 'visible_area_percentage_of_aoi': None}, 'results': [], 'alternate_search_results': []}, {'id': '9b221505-03f5-42ea-8593-d259fe210f49', 'created_at': '2024-04-09T16:54:31.467608+0000', 'updated_at': '2024-04-09T16:54:46.765921+0000', 'pipeline_id': 'd36c3872-f691-11ee-8b81-fb14aa16a18a', 'output_id': 'c31c1bea-a4be-11e7-8650-3ae5c7149ea7', 'status': 'processing', 'message': 'Retrieval - starting', 'interval': {'start_date': '2023-08-11', 'end_date': '2023-08-15'}, 'total_interval_cost': None, 'overall_metadata': {'scene_height': None, 'scene_width': None, 'filled_area_km2': None, 'filled_area_percentage_of_aoi': None, 'cloud_cover_percentage': None, 'cloud_cover_percentage_of_aoi': None, 'visible_area_km2': None, 'visible_area_percentage': None, 'visible_area_percentage_of_aoi': None}, 'results': [], 'alternate_search_results': []}, {'id': '7af61493-6612-46f9-96f5-39dc63864421', 'created_at': '2024-04-09T16:54:31.304136+0000', 'updated_at': '2024-04-09T16:55:06.673871+0000', 'pipeline_id': 'd36c3872-f691-11ee-8b81-fb14aa16a18a', 'output_id': 'c31c1bea-a4be-11e7-8650-3ae5c7149ea7', 'status': 'retrieving', 'message': 'Fulfillment from Planet in progress, expected delivery in 30-60 minutes', 'interval': {'start_date': '2023-08-16', 'end_date': '2023-08-20'}, 'total_interval_cost': None, 'overall_metadata': {'scene_height': None, 'scene_width': None, 'filled_area_km2': None, 'filled_area_percentage_of_aoi': None, 'cloud_cover_percentage': None, 'cloud_cover_percentage_of_aoi': None, 'visible_area_km2': None, 'visible_area_percentage': None, 'visible_area_percentage_of_aoi': None}, 'results': [], 'alternate_search_results': []}, {'id': '3c07ff4c-937e-4812-96ae-70dcb0fa2a77', 'created_at': '2024-04-09T16:54:32.887450+0000', 'updated_at': '2024-04-09T16:55:05.473915+0000', 'pipeline_id': 'd36c3872-f691-11ee-8b81-fb14aa16a18a', 'output_id': 'c31c1bea-a4be-11e7-8650-3ae5c7149ea7', 'status': 'processing', 'message': 'Image processing - started', 'interval': {'start_date': '2023-08-21', 'end_date': '2023-08-25'}, 'total_interval_cost': None, 'overall_metadata': {'scene_height': None, 'scene_width': None, 'filled_area_km2': None, 'filled_area_percentage_of_aoi': None, 'cloud_cover_percentage': None, 'cloud_cover_percentage_of_aoi': None, 'visible_area_km2': None, 'visible_area_percentage': None, 'visible_area_percentage_of_aoi': None}, 'results': [], 'alternate_search_results': []}, {'id': 'f363c49a-9909-4f12-9fce-2f24231c88d3', 'created_at': '2024-04-09T16:54:31.304623+0000', 'updated_at': '2024-04-09T16:54:53.325244+0000', 'pipeline_id': 'd36c3872-f691-11ee-8b81-fb14aa16a18a', 'output_id': 'c31c1bea-a4be-11e7-8650-3ae5c7149ea7', 'status': 'retrieving', 'message': 'Fulfillment from Planet in progress, expected delivery in 30-60 minutes', 'interval': {'start_date': '2023-08-26', 'end_date': '2023-08-30'}, 'total_interval_cost': None, 'overall_metadata': {'scene_height': None, 'scene_width': None, 'filled_area_km2': None, 'filled_area_percentage_of_aoi': None, 'cloud_cover_percentage': None, 'cloud_cover_percentage_of_aoi': None, 'visible_area_km2': None, 'visible_area_percentage': None, 'visible_area_percentage_of_aoi': None}, 'results': [], 'alternate_search_results': []}, {'id': '9c29d70d-934f-410c-bda6-ac84280c8312', 'created_at': '2024-04-09T16:54:33.029602+0000', 'updated_at': '2024-04-09T16:54:46.773525+0000', 'pipeline_id': 'd36c3872-f691-11ee-8b81-fb14aa16a18a', 'output_id': 'c31c1bea-a4be-11e7-8650-3ae5c7149ea7', 'status': 'complete', 'message': 'Processing complete', 'interval': {'start_date': '2023-08-31', 'end_date': '2023-08-31'}, 'total_interval_cost': None, 'overall_metadata': {'scene_height': None, 'scene_width': None, 'filled_area_km2': None, 'filled_area_percentage_of_aoi': None, 'cloud_cover_percentage': None, 'cloud_cover_percentage_of_aoi': None, 'visible_area_km2': None, 'visible_area_percentage': None, 'visible_area_percentage_of_aoi': None}, 'results': [], 'alternate_search_results': []}], 'pagination': {'per_page': 500, 'cursor': {'next': None, 'self': '2023-08-01--2023-08-05'}}}\n",
      "200 {'data': [{'id': '84a46f48-265a-43b1-8e38-fdcd76a6ba3b', 'created_at': '2024-04-09T16:54:37.139386+0000', 'updated_at': '2024-04-09T16:54:51.318708+0000', 'pipeline_id': 'd6b27eb0-f691-11ee-b14d-fb14aa16a18a', 'output_id': 'c31c1bea-a4be-11e7-8650-3ae5c7149ea7', 'status': 'complete', 'message': 'Processing complete', 'interval': {'start_date': '2023-09-01', 'end_date': '2023-09-05'}, 'total_interval_cost': None, 'overall_metadata': {'scene_height': None, 'scene_width': None, 'filled_area_km2': None, 'filled_area_percentage_of_aoi': None, 'cloud_cover_percentage': None, 'cloud_cover_percentage_of_aoi': None, 'visible_area_km2': None, 'visible_area_percentage': None, 'visible_area_percentage_of_aoi': None}, 'results': [], 'alternate_search_results': []}, {'id': 'a894d625-672a-4dd5-9b77-e49c1fc9ba06', 'created_at': '2024-04-09T16:54:37.094251+0000', 'updated_at': '2024-04-09T16:54:50.731834+0000', 'pipeline_id': 'd6b27eb0-f691-11ee-b14d-fb14aa16a18a', 'output_id': 'c31c1bea-a4be-11e7-8650-3ae5c7149ea7', 'status': 'complete', 'message': 'Processing complete', 'interval': {'start_date': '2023-09-06', 'end_date': '2023-09-10'}, 'total_interval_cost': None, 'overall_metadata': {'scene_height': None, 'scene_width': None, 'filled_area_km2': None, 'filled_area_percentage_of_aoi': None, 'cloud_cover_percentage': None, 'cloud_cover_percentage_of_aoi': None, 'visible_area_km2': None, 'visible_area_percentage': None, 'visible_area_percentage_of_aoi': None}, 'results': [], 'alternate_search_results': [{'index': 0, 'search_result_id': '01b3bf44-8345-41bf-aa75-5b8984ecbb7b', 'source': 'PlanetScope-SuperDove', 'capture_date': '2023-09-07', 'resolution': 3.0, 'price_per_km2': 2.5, 'max_interval_cost': 12.57, 'aoi_coverage_percentage': 18.99, 'filled_coverage_percentage': None, 'processing_status': 'rejected - aoi coverage percentage too low'}]}, {'id': '1bc75958-8e68-49bf-a179-bd81918f189a', 'created_at': '2024-04-09T16:54:37.089205+0000', 'updated_at': '2024-04-09T16:54:54.017479+0000', 'pipeline_id': 'd6b27eb0-f691-11ee-b14d-fb14aa16a18a', 'output_id': 'c31c1bea-a4be-11e7-8650-3ae5c7149ea7', 'status': 'retrieving', 'message': 'Fulfillment from Planet in progress, expected delivery in 30-60 minutes', 'interval': {'start_date': '2023-09-11', 'end_date': '2023-09-15'}, 'total_interval_cost': None, 'overall_metadata': {'scene_height': None, 'scene_width': None, 'filled_area_km2': None, 'filled_area_percentage_of_aoi': None, 'cloud_cover_percentage': None, 'cloud_cover_percentage_of_aoi': None, 'visible_area_km2': None, 'visible_area_percentage': None, 'visible_area_percentage_of_aoi': None}, 'results': [], 'alternate_search_results': []}, {'id': '147503b5-7815-4aae-95db-ac88dd1621d5', 'created_at': '2024-04-09T16:54:36.862732+0000', 'updated_at': '2024-04-09T16:54:50.575766+0000', 'pipeline_id': 'd6b27eb0-f691-11ee-b14d-fb14aa16a18a', 'output_id': 'c31c1bea-a4be-11e7-8650-3ae5c7149ea7', 'status': 'complete', 'message': 'Processing complete', 'interval': {'start_date': '2023-09-16', 'end_date': '2023-09-20'}, 'total_interval_cost': None, 'overall_metadata': {'scene_height': None, 'scene_width': None, 'filled_area_km2': None, 'filled_area_percentage_of_aoi': None, 'cloud_cover_percentage': None, 'cloud_cover_percentage_of_aoi': None, 'visible_area_km2': None, 'visible_area_percentage': None, 'visible_area_percentage_of_aoi': None}, 'results': [], 'alternate_search_results': []}, {'id': '03f2d187-b816-49e5-bc71-803db484f814', 'created_at': '2024-04-09T16:54:37.132374+0000', 'updated_at': '2024-04-09T16:54:50.564938+0000', 'pipeline_id': 'd6b27eb0-f691-11ee-b14d-fb14aa16a18a', 'output_id': 'c31c1bea-a4be-11e7-8650-3ae5c7149ea7', 'status': 'complete', 'message': 'Processing complete', 'interval': {'start_date': '2023-09-21', 'end_date': '2023-09-25'}, 'total_interval_cost': None, 'overall_metadata': {'scene_height': None, 'scene_width': None, 'filled_area_km2': None, 'filled_area_percentage_of_aoi': None, 'cloud_cover_percentage': None, 'cloud_cover_percentage_of_aoi': None, 'visible_area_km2': None, 'visible_area_percentage': None, 'visible_area_percentage_of_aoi': None}, 'results': [], 'alternate_search_results': []}, {'id': 'f9011478-eeec-4af7-b15a-d41f99b4d8ed', 'created_at': '2024-04-09T16:54:37.248605+0000', 'updated_at': '2024-04-09T16:54:54.742936+0000', 'pipeline_id': 'd6b27eb0-f691-11ee-b14d-fb14aa16a18a', 'output_id': 'c31c1bea-a4be-11e7-8650-3ae5c7149ea7', 'status': 'retrieving', 'message': 'Fulfillment from Planet in progress, expected delivery in 30-60 minutes', 'interval': {'start_date': '2023-09-26', 'end_date': '2023-09-30'}, 'total_interval_cost': None, 'overall_metadata': {'scene_height': None, 'scene_width': None, 'filled_area_km2': None, 'filled_area_percentage_of_aoi': None, 'cloud_cover_percentage': None, 'cloud_cover_percentage_of_aoi': None, 'visible_area_km2': None, 'visible_area_percentage': None, 'visible_area_percentage_of_aoi': None}, 'results': [], 'alternate_search_results': [{'index': 2, 'search_result_id': '86e955d8-2de4-4cfa-9420-6455e45c2aba', 'source': 'PlanetScope-SuperDove', 'capture_date': '2023-09-28', 'resolution': 3.0, 'price_per_km2': 2.5, 'max_interval_cost': 12.57, 'aoi_coverage_percentage': 6.0, 'filled_coverage_percentage': None, 'processing_status': 'rejected - aoi coverage percentage too low'}]}], 'pagination': {'per_page': 500, 'cursor': {'next': None, 'self': '2023-09-01--2023-09-05'}}}\n",
      "200 {'data': [{'id': 'ada332eb-056d-4900-843d-26669f29f34d', 'created_at': '2024-04-09T16:54:42.719127+0000', 'updated_at': '2024-04-09T16:54:56.320732+0000', 'pipeline_id': 'd9f56914-f691-11ee-a123-fb14aa16a18a', 'output_id': 'c31c1bea-a4be-11e7-8650-3ae5c7149ea7', 'status': 'complete', 'message': 'Processing complete', 'interval': {'start_date': '2023-10-01', 'end_date': '2023-10-05'}, 'total_interval_cost': None, 'overall_metadata': {'scene_height': None, 'scene_width': None, 'filled_area_km2': None, 'filled_area_percentage_of_aoi': None, 'cloud_cover_percentage': None, 'cloud_cover_percentage_of_aoi': None, 'visible_area_km2': None, 'visible_area_percentage': None, 'visible_area_percentage_of_aoi': None}, 'results': [], 'alternate_search_results': []}, {'id': '67b5c055-d72f-420c-9bda-f40da80ee767', 'created_at': '2024-04-09T16:54:42.930865+0000', 'updated_at': '2024-04-09T16:55:02.058001+0000', 'pipeline_id': 'd9f56914-f691-11ee-a123-fb14aa16a18a', 'output_id': 'c31c1bea-a4be-11e7-8650-3ae5c7149ea7', 'status': 'retrieving', 'message': 'Fulfillment from Planet in progress, expected delivery in 30-60 minutes', 'interval': {'start_date': '2023-10-06', 'end_date': '2023-10-10'}, 'total_interval_cost': None, 'overall_metadata': {'scene_height': None, 'scene_width': None, 'filled_area_km2': None, 'filled_area_percentage_of_aoi': None, 'cloud_cover_percentage': None, 'cloud_cover_percentage_of_aoi': None, 'visible_area_km2': None, 'visible_area_percentage': None, 'visible_area_percentage_of_aoi': None}, 'results': [], 'alternate_search_results': []}, {'id': '0027ff01-650c-41d5-bf4a-ced7a3b4ec5c', 'created_at': '2024-04-09T16:54:42.602780+0000', 'updated_at': '2024-04-09T16:54:59.649930+0000', 'pipeline_id': 'd9f56914-f691-11ee-a123-fb14aa16a18a', 'output_id': 'c31c1bea-a4be-11e7-8650-3ae5c7149ea7', 'status': 'retrieving', 'message': 'Fulfillment from Planet in progress, expected delivery in 30-60 minutes', 'interval': {'start_date': '2023-10-11', 'end_date': '2023-10-15'}, 'total_interval_cost': None, 'overall_metadata': {'scene_height': None, 'scene_width': None, 'filled_area_km2': None, 'filled_area_percentage_of_aoi': None, 'cloud_cover_percentage': None, 'cloud_cover_percentage_of_aoi': None, 'visible_area_km2': None, 'visible_area_percentage': None, 'visible_area_percentage_of_aoi': None}, 'results': [], 'alternate_search_results': []}, {'id': '29851ebf-d3c7-48b6-bd02-2e96e2382744', 'created_at': '2024-04-09T16:54:42.621952+0000', 'updated_at': '2024-04-09T16:54:56.295224+0000', 'pipeline_id': 'd9f56914-f691-11ee-a123-fb14aa16a18a', 'output_id': 'c31c1bea-a4be-11e7-8650-3ae5c7149ea7', 'status': 'processing', 'message': 'Retrieval - starting', 'interval': {'start_date': '2023-10-16', 'end_date': '2023-10-20'}, 'total_interval_cost': None, 'overall_metadata': {'scene_height': None, 'scene_width': None, 'filled_area_km2': None, 'filled_area_percentage_of_aoi': None, 'cloud_cover_percentage': None, 'cloud_cover_percentage_of_aoi': None, 'visible_area_km2': None, 'visible_area_percentage': None, 'visible_area_percentage_of_aoi': None}, 'results': [], 'alternate_search_results': []}, {'id': '1f7e1b5f-f464-4dc4-a9d8-e1835266cd59', 'created_at': '2024-04-09T16:54:42.550653+0000', 'updated_at': '2024-04-09T16:54:56.805840+0000', 'pipeline_id': 'd9f56914-f691-11ee-a123-fb14aa16a18a', 'output_id': 'c31c1bea-a4be-11e7-8650-3ae5c7149ea7', 'status': 'complete', 'message': 'Processing complete', 'interval': {'start_date': '2023-10-21', 'end_date': '2023-10-25'}, 'total_interval_cost': None, 'overall_metadata': {'scene_height': None, 'scene_width': None, 'filled_area_km2': None, 'filled_area_percentage_of_aoi': None, 'cloud_cover_percentage': None, 'cloud_cover_percentage_of_aoi': None, 'visible_area_km2': None, 'visible_area_percentage': None, 'visible_area_percentage_of_aoi': None}, 'results': [], 'alternate_search_results': []}, {'id': '5ac7c9ff-11e9-4893-9c27-3dfda8402d33', 'created_at': '2024-04-09T16:54:42.625289+0000', 'updated_at': '2024-04-09T16:54:56.407127+0000', 'pipeline_id': 'd9f56914-f691-11ee-a123-fb14aa16a18a', 'output_id': 'c31c1bea-a4be-11e7-8650-3ae5c7149ea7', 'status': 'complete', 'message': 'Processing complete', 'interval': {'start_date': '2023-10-26', 'end_date': '2023-10-30'}, 'total_interval_cost': None, 'overall_metadata': {'scene_height': None, 'scene_width': None, 'filled_area_km2': None, 'filled_area_percentage_of_aoi': None, 'cloud_cover_percentage': None, 'cloud_cover_percentage_of_aoi': None, 'visible_area_km2': None, 'visible_area_percentage': None, 'visible_area_percentage_of_aoi': None}, 'results': [], 'alternate_search_results': []}, {'id': 'e876beaf-fa7f-407c-b863-043584081dcb', 'created_at': '2024-04-09T16:54:42.577617+0000', 'updated_at': '2024-04-09T16:54:59.889260+0000', 'pipeline_id': 'd9f56914-f691-11ee-a123-fb14aa16a18a', 'output_id': 'c31c1bea-a4be-11e7-8650-3ae5c7149ea7', 'status': 'retrieving', 'message': 'Fulfillment from Planet in progress, expected delivery in 30-60 minutes', 'interval': {'start_date': '2023-10-31', 'end_date': '2023-10-31'}, 'total_interval_cost': None, 'overall_metadata': {'scene_height': None, 'scene_width': None, 'filled_area_km2': None, 'filled_area_percentage_of_aoi': None, 'cloud_cover_percentage': None, 'cloud_cover_percentage_of_aoi': None, 'visible_area_km2': None, 'visible_area_percentage': None, 'visible_area_percentage_of_aoi': None}, 'results': [], 'alternate_search_results': []}], 'pagination': {'per_page': 500, 'cursor': {'next': None, 'self': '2023-10-01--2023-10-05'}}}\n",
      "200 {'data': [{'id': '3cde1bbc-ce4f-4fce-a656-4df14c11f50b', 'created_at': '2024-04-09T16:54:48.129776+0000', 'updated_at': '2024-04-09T16:55:02.767166+0000', 'pipeline_id': 'dd6261f6-f691-11ee-b016-fb14aa16a18a', 'output_id': 'c31c1bea-a4be-11e7-8650-3ae5c7149ea7', 'status': 'complete', 'message': 'Processing complete', 'interval': {'start_date': '2023-11-01', 'end_date': '2023-11-05'}, 'total_interval_cost': None, 'overall_metadata': {'scene_height': None, 'scene_width': None, 'filled_area_km2': None, 'filled_area_percentage_of_aoi': None, 'cloud_cover_percentage': None, 'cloud_cover_percentage_of_aoi': None, 'visible_area_km2': None, 'visible_area_percentage': None, 'visible_area_percentage_of_aoi': None}, 'results': [], 'alternate_search_results': []}, {'id': 'c2188432-bc81-426e-85eb-4dad1b2b6ebb', 'created_at': '2024-04-09T16:54:48.065810+0000', 'updated_at': '2024-04-09T16:55:02.997474+0000', 'pipeline_id': 'dd6261f6-f691-11ee-b016-fb14aa16a18a', 'output_id': 'c31c1bea-a4be-11e7-8650-3ae5c7149ea7', 'status': 'complete', 'message': 'Processing complete', 'interval': {'start_date': '2023-11-06', 'end_date': '2023-11-10'}, 'total_interval_cost': None, 'overall_metadata': {'scene_height': None, 'scene_width': None, 'filled_area_km2': None, 'filled_area_percentage_of_aoi': None, 'cloud_cover_percentage': None, 'cloud_cover_percentage_of_aoi': None, 'visible_area_km2': None, 'visible_area_percentage': None, 'visible_area_percentage_of_aoi': None}, 'results': [], 'alternate_search_results': [{'index': 0, 'search_result_id': 'b0819a20-0659-4b18-9262-8009035ae71b', 'source': 'PlanetScope-SuperDove', 'capture_date': '2023-11-08', 'resolution': 3.0, 'price_per_km2': 2.5, 'max_interval_cost': 12.57, 'aoi_coverage_percentage': 61.11, 'filled_coverage_percentage': None, 'processing_status': 'rejected - aoi coverage percentage too low'}]}, {'id': '137f6427-9fb3-4380-a0b6-4766910bb0c4', 'created_at': '2024-04-09T16:54:48.546287+0000', 'updated_at': '2024-04-09T16:55:06.459745+0000', 'pipeline_id': 'dd6261f6-f691-11ee-b016-fb14aa16a18a', 'output_id': 'c31c1bea-a4be-11e7-8650-3ae5c7149ea7', 'status': 'retrieving', 'message': 'Fulfillment from Planet in progress, expected delivery in 30-60 minutes', 'interval': {'start_date': '2023-11-11', 'end_date': '2023-11-15'}, 'total_interval_cost': None, 'overall_metadata': {'scene_height': None, 'scene_width': None, 'filled_area_km2': None, 'filled_area_percentage_of_aoi': None, 'cloud_cover_percentage': None, 'cloud_cover_percentage_of_aoi': None, 'visible_area_km2': None, 'visible_area_percentage': None, 'visible_area_percentage_of_aoi': None}, 'results': [], 'alternate_search_results': []}, {'id': 'a145d675-0283-464a-881b-4703944e0599', 'created_at': '2024-04-09T16:54:48.187862+0000', 'updated_at': '2024-04-09T16:55:02.614409+0000', 'pipeline_id': 'dd6261f6-f691-11ee-b016-fb14aa16a18a', 'output_id': 'c31c1bea-a4be-11e7-8650-3ae5c7149ea7', 'status': 'processing', 'message': 'Retrieval - starting', 'interval': {'start_date': '2023-11-16', 'end_date': '2023-11-20'}, 'total_interval_cost': None, 'overall_metadata': {'scene_height': None, 'scene_width': None, 'filled_area_km2': None, 'filled_area_percentage_of_aoi': None, 'cloud_cover_percentage': None, 'cloud_cover_percentage_of_aoi': None, 'visible_area_km2': None, 'visible_area_percentage': None, 'visible_area_percentage_of_aoi': None}, 'results': [], 'alternate_search_results': []}, {'id': '3f154459-ad7e-4ea0-96eb-9cf61fdf6382', 'created_at': '2024-04-09T16:54:48.148247+0000', 'updated_at': '2024-04-09T16:55:02.967550+0000', 'pipeline_id': 'dd6261f6-f691-11ee-b016-fb14aa16a18a', 'output_id': 'c31c1bea-a4be-11e7-8650-3ae5c7149ea7', 'status': 'complete', 'message': 'Processing complete', 'interval': {'start_date': '2023-11-21', 'end_date': '2023-11-25'}, 'total_interval_cost': None, 'overall_metadata': {'scene_height': None, 'scene_width': None, 'filled_area_km2': None, 'filled_area_percentage_of_aoi': None, 'cloud_cover_percentage': None, 'cloud_cover_percentage_of_aoi': None, 'visible_area_km2': None, 'visible_area_percentage': None, 'visible_area_percentage_of_aoi': None}, 'results': [], 'alternate_search_results': []}, {'id': 'e9ed4229-cdb0-4bc9-9dfe-8a995e2a2608', 'created_at': '2024-04-09T16:54:48.182123+0000', 'updated_at': '2024-04-09T16:55:02.881904+0000', 'pipeline_id': 'dd6261f6-f691-11ee-b016-fb14aa16a18a', 'output_id': 'c31c1bea-a4be-11e7-8650-3ae5c7149ea7', 'status': 'processing', 'message': 'Retrieval - starting', 'interval': {'start_date': '2023-11-26', 'end_date': '2023-11-30'}, 'total_interval_cost': None, 'overall_metadata': {'scene_height': None, 'scene_width': None, 'filled_area_km2': None, 'filled_area_percentage_of_aoi': None, 'cloud_cover_percentage': None, 'cloud_cover_percentage_of_aoi': None, 'visible_area_km2': None, 'visible_area_percentage': None, 'visible_area_percentage_of_aoi': None}, 'results': [], 'alternate_search_results': []}], 'pagination': {'per_page': 500, 'cursor': {'next': None, 'self': '2023-11-01--2023-11-05'}}}\n",
      "200 {'data': [{'id': '4f1dd543-b47c-44c3-bd48-c1c398ba416c', 'created_at': '2024-04-09T16:54:53.798930+0000', 'updated_at': '2024-04-09T16:55:06.981383+0000', 'pipeline_id': 'e0b26322-f691-11ee-a421-fb14aa16a18a', 'output_id': 'c31c1bea-a4be-11e7-8650-3ae5c7149ea7', 'status': 'processing', 'message': 'Retrieval - starting', 'interval': {'start_date': '2023-12-01', 'end_date': '2023-12-05'}, 'total_interval_cost': None, 'overall_metadata': {'scene_height': None, 'scene_width': None, 'filled_area_km2': None, 'filled_area_percentage_of_aoi': None, 'cloud_cover_percentage': None, 'cloud_cover_percentage_of_aoi': None, 'visible_area_km2': None, 'visible_area_percentage': None, 'visible_area_percentage_of_aoi': None}, 'results': [], 'alternate_search_results': []}, {'id': '40693034-595d-4f35-9e18-93474b1a9b5f', 'created_at': '2024-04-09T16:54:53.758988+0000', 'updated_at': '2024-04-09T16:55:06.857227+0000', 'pipeline_id': 'e0b26322-f691-11ee-a421-fb14aa16a18a', 'output_id': 'c31c1bea-a4be-11e7-8650-3ae5c7149ea7', 'status': 'complete', 'message': 'Processing complete', 'interval': {'start_date': '2023-12-06', 'end_date': '2023-12-10'}, 'total_interval_cost': None, 'overall_metadata': {'scene_height': None, 'scene_width': None, 'filled_area_km2': None, 'filled_area_percentage_of_aoi': None, 'cloud_cover_percentage': None, 'cloud_cover_percentage_of_aoi': None, 'visible_area_km2': None, 'visible_area_percentage': None, 'visible_area_percentage_of_aoi': None}, 'results': [], 'alternate_search_results': []}, {'id': '12b32f5d-b5bd-41e6-8df5-8928183b9c99', 'created_at': '2024-04-09T16:54:53.836191+0000', 'updated_at': '2024-04-09T16:55:10.716125+0000', 'pipeline_id': 'e0b26322-f691-11ee-a421-fb14aa16a18a', 'output_id': 'c31c1bea-a4be-11e7-8650-3ae5c7149ea7', 'status': 'retrieving', 'message': 'Fulfillment from Planet in progress, expected delivery in 30-60 minutes', 'interval': {'start_date': '2023-12-11', 'end_date': '2023-12-15'}, 'total_interval_cost': None, 'overall_metadata': {'scene_height': None, 'scene_width': None, 'filled_area_km2': None, 'filled_area_percentage_of_aoi': None, 'cloud_cover_percentage': None, 'cloud_cover_percentage_of_aoi': None, 'visible_area_km2': None, 'visible_area_percentage': None, 'visible_area_percentage_of_aoi': None}, 'results': [], 'alternate_search_results': []}, {'id': '11958150-dc40-4929-8263-4951e474b10d', 'created_at': '2024-04-09T16:54:53.722047+0000', 'updated_at': '2024-04-09T16:55:06.979135+0000', 'pipeline_id': 'e0b26322-f691-11ee-a421-fb14aa16a18a', 'output_id': 'c31c1bea-a4be-11e7-8650-3ae5c7149ea7', 'status': 'processing', 'message': 'Retrieval - starting', 'interval': {'start_date': '2023-12-16', 'end_date': '2023-12-20'}, 'total_interval_cost': None, 'overall_metadata': {'scene_height': None, 'scene_width': None, 'filled_area_km2': None, 'filled_area_percentage_of_aoi': None, 'cloud_cover_percentage': None, 'cloud_cover_percentage_of_aoi': None, 'visible_area_km2': None, 'visible_area_percentage': None, 'visible_area_percentage_of_aoi': None}, 'results': [], 'alternate_search_results': []}, {'id': '6d098a33-ea2b-4bd7-b0a4-6331701f54c9', 'created_at': '2024-04-09T16:54:53.714012+0000', 'updated_at': '2024-04-09T16:55:10.898553+0000', 'pipeline_id': 'e0b26322-f691-11ee-a421-fb14aa16a18a', 'output_id': 'c31c1bea-a4be-11e7-8650-3ae5c7149ea7', 'status': 'retrieving', 'message': 'Fulfillment from Planet in progress, expected delivery in 30-60 minutes', 'interval': {'start_date': '2023-12-21', 'end_date': '2023-12-25'}, 'total_interval_cost': None, 'overall_metadata': {'scene_height': None, 'scene_width': None, 'filled_area_km2': None, 'filled_area_percentage_of_aoi': None, 'cloud_cover_percentage': None, 'cloud_cover_percentage_of_aoi': None, 'visible_area_km2': None, 'visible_area_percentage': None, 'visible_area_percentage_of_aoi': None}, 'results': [], 'alternate_search_results': []}, {'id': '70312a85-5f51-49de-83b1-b3d858a8e78f', 'created_at': '2024-04-09T16:54:53.719873+0000', 'updated_at': '2024-04-09T16:55:10.256119+0000', 'pipeline_id': 'e0b26322-f691-11ee-a421-fb14aa16a18a', 'output_id': 'c31c1bea-a4be-11e7-8650-3ae5c7149ea7', 'status': 'retrieving', 'message': 'Fulfillment from Planet in progress, expected delivery in 30-60 minutes', 'interval': {'start_date': '2023-12-26', 'end_date': '2023-12-30'}, 'total_interval_cost': None, 'overall_metadata': {'scene_height': None, 'scene_width': None, 'filled_area_km2': None, 'filled_area_percentage_of_aoi': None, 'cloud_cover_percentage': None, 'cloud_cover_percentage_of_aoi': None, 'visible_area_km2': None, 'visible_area_percentage': None, 'visible_area_percentage_of_aoi': None}, 'results': [], 'alternate_search_results': []}, {'id': 'f077a647-786f-4c5a-b870-b513e6f05928', 'created_at': '2024-04-09T16:54:53.792802+0000', 'updated_at': '2024-04-09T16:55:06.875435+0000', 'pipeline_id': 'e0b26322-f691-11ee-a421-fb14aa16a18a', 'output_id': 'c31c1bea-a4be-11e7-8650-3ae5c7149ea7', 'status': 'complete', 'message': 'Processing complete', 'interval': {'start_date': '2023-12-31', 'end_date': '2023-12-31'}, 'total_interval_cost': None, 'overall_metadata': {'scene_height': None, 'scene_width': None, 'filled_area_km2': None, 'filled_area_percentage_of_aoi': None, 'cloud_cover_percentage': None, 'cloud_cover_percentage_of_aoi': None, 'visible_area_km2': None, 'visible_area_percentage': None, 'visible_area_percentage_of_aoi': None}, 'results': [], 'alternate_search_results': []}], 'pagination': {'per_page': 500, 'cursor': {'next': None, 'self': '2023-12-01--2023-12-05'}}}\n"
     ]
    }
   ],
   "source": [
    "# after about 20 minutes, make sure the status is ready\n",
    "for i in month_range:\n",
    "    start_date = starts[i]\n",
    "    end_date = ends[i]\n",
    "    pipeline_name = location_name + start_date + '_' + resolution\n",
    "    status,res = SDS_earthcache_api.checkStatus(nb_client, pipeline_name)\n",
    "    print(status,res)"
   ]
  },
  {
   "cell_type": "code",
   "execution_count": 12,
   "metadata": {},
   "outputs": [
    {
     "name": "stdout",
     "output_type": "stream",
     "text": [
      "data/Ukulhas_2023-05-01_medium\\06daa796-1cdb-43c1-b399-34e0bcb2b1d0\n",
      "... downloading https://s3-us-west-2.amazonaws.com/aoi-processed-images-prod/c9e2065f-f691-11ee-98a9-fb14aa16a18a/65221652-84af-4504-9a84-eaf8d1d32e73/metadata/SKYWATCH_PLSD_PS_20230505T0440_ALL_Tile_0_0_ab0b_metadata.json\n",
      "... downloading https://s3-us-west-2.amazonaws.com/aoi-processed-images-prod/c9e2065f-f691-11ee-98a9-fb14aa16a18a/65221652-84af-4504-9a84-eaf8d1d32e73/analytic/SKYWATCH_PLSD_PS_20230505T0440_ALL_Tile_0_0_ab0b.tif\n",
      "data/Ukulhas_2023-05-01_medium\\9a2e300a-a945-4566-a7c8-8b78ddb1a5af\n",
      "... downloading https://s3-us-west-2.amazonaws.com/aoi-processed-images-prod/c9e2065f-f691-11ee-98a9-fb14aa16a18a/85fcc42f-f6fb-4e76-84cc-cef6214fc965/metadata/SKYWATCH_PLSD_PS_20230508T0514_ALL_Tile_0_0_8acf_metadata.json\n",
      "... downloading https://s3-us-west-2.amazonaws.com/aoi-processed-images-prod/c9e2065f-f691-11ee-98a9-fb14aa16a18a/85fcc42f-f6fb-4e76-84cc-cef6214fc965/analytic/SKYWATCH_PLSD_PS_20230508T0514_ALL_Tile_0_0_8acf.tif\n",
      "data/Ukulhas_2023-05-01_medium\\b97579ad-50b5-48ae-9302-fda23dc4b2ba\n",
      "data/Ukulhas_2023-05-01_medium\\abf24114-d861-4995-b403-1d19b4a4afec\n",
      "... downloading https://s3-us-west-2.amazonaws.com/aoi-processed-images-prod/c9e2065f-f691-11ee-98a9-fb14aa16a18a/d0e543d0-5277-462e-8ea5-1a9ff1a84f8c/metadata/SKYWATCH_PLSD_PS_20230517T0514_ALL_Tile_0_0_dcb4_metadata.json\n",
      "... downloading https://s3-us-west-2.amazonaws.com/aoi-processed-images-prod/c9e2065f-f691-11ee-98a9-fb14aa16a18a/d0e543d0-5277-462e-8ea5-1a9ff1a84f8c/analytic/SKYWATCH_PLSD_PS_20230517T0514_ALL_Tile_0_0_dcb4.tif\n",
      "data/Ukulhas_2023-05-01_medium\\1c96ea35-74cd-44e7-beb5-6ed775c77b72\n",
      "... downloading https://s3-us-west-2.amazonaws.com/aoi-processed-images-prod/c9e2065f-f691-11ee-98a9-fb14aa16a18a/4fc277b2-5d9e-4390-a765-31abbed2dfc5/metadata/SKYWATCH_S2_MS_20230521T0516_ALL_Tile_0_0_86b0_metadata.json\n",
      "... downloading https://s3-us-west-2.amazonaws.com/aoi-processed-images-prod/c9e2065f-f691-11ee-98a9-fb14aa16a18a/4fc277b2-5d9e-4390-a765-31abbed2dfc5/analytic/SKYWATCH_S2_MS_20230521T0516_ALL_Tile_0_0_86b0.tif\n",
      "data/Ukulhas_2023-05-01_medium\\3790396c-c898-4a0a-bb78-1cc48a04d8ae\n",
      "... downloading https://s3-us-west-2.amazonaws.com/aoi-processed-images-prod/c9e2065f-f691-11ee-98a9-fb14aa16a18a/fb9547a6-e9d1-4841-a805-d828002dc5fa/metadata/SKYWATCH_S2_MS_20230526T0516_ALL_Tile_0_0_2ae6_metadata.json\n",
      "... downloading https://s3-us-west-2.amazonaws.com/aoi-processed-images-prod/c9e2065f-f691-11ee-98a9-fb14aa16a18a/fb9547a6-e9d1-4841-a805-d828002dc5fa/analytic/SKYWATCH_S2_MS_20230526T0516_ALL_Tile_0_0_2ae6.tif\n",
      "data/Ukulhas_2023-05-01_medium\\022f0c6c-a96f-4650-923f-6450d16e026b\n",
      "data/Ukulhas_2023-06-01_medium\\0897583d-3716-46ec-b169-7a66022dfcbe\n",
      "data/Ukulhas_2023-06-01_medium\\b26072db-b48e-42c7-a51c-ebcef92877b7\n",
      "data/Ukulhas_2023-06-01_medium\\73bd12c5-efdb-4f68-b3f9-28879913561d\n",
      "... downloading https://s3-us-west-2.amazonaws.com/aoi-processed-images-prod/cd3cea8d-f691-11ee-b79e-fb14aa16a18a/b42c7cd9-42ac-4b3e-92cd-cf18bbd73fdd/metadata/SKYWATCH_PLSD_PS_20230615T0517_ALL_Tile_0_0_8a10_metadata.json\n",
      "... downloading https://s3-us-west-2.amazonaws.com/aoi-processed-images-prod/cd3cea8d-f691-11ee-b79e-fb14aa16a18a/b42c7cd9-42ac-4b3e-92cd-cf18bbd73fdd/analytic/SKYWATCH_PLSD_PS_20230615T0517_ALL_Tile_0_0_8a10.tif\n",
      "data/Ukulhas_2023-06-01_medium\\27c900f7-292a-45b0-8c2a-d4de37115c4d\n",
      "... downloading https://s3-us-west-2.amazonaws.com/aoi-processed-images-prod/cd3cea8d-f691-11ee-b79e-fb14aa16a18a/108f4f78-5f00-4d40-aded-a62411b6c574/metadata/SKYWATCH_PLSD_PS_20230617T0437_ALL_Tile_0_0_7cc0_metadata.json\n",
      "... downloading https://s3-us-west-2.amazonaws.com/aoi-processed-images-prod/cd3cea8d-f691-11ee-b79e-fb14aa16a18a/108f4f78-5f00-4d40-aded-a62411b6c574/analytic/SKYWATCH_PLSD_PS_20230617T0437_ALL_Tile_0_0_7cc0.tif\n",
      "data/Ukulhas_2023-06-01_medium\\70ff2258-8356-49ab-8b80-b75288dad223\n",
      "data/Ukulhas_2023-06-01_medium\\da66e2be-f3f0-4691-add4-07525a393cb9\n",
      "data/Ukulhas_2023-07-01_medium\\f10cf3aa-803c-492f-9096-d44ef660f055\n",
      "data/Ukulhas_2023-07-01_medium\\ec5c8694-0d0b-4fe9-978b-21ed0f64ad19\n",
      "... downloading https://s3-us-west-2.amazonaws.com/aoi-processed-images-prod/d0678940-f691-11ee-9929-fb14aa16a18a/dee34e07-0e80-44ec-bb10-d9233e67c44b/metadata/SKYWATCH_PLSD_PS_20230709T0434_ALL_Tile_0_0_9689_metadata.json\n",
      "... downloading https://s3-us-west-2.amazonaws.com/aoi-processed-images-prod/d0678940-f691-11ee-9929-fb14aa16a18a/dee34e07-0e80-44ec-bb10-d9233e67c44b/analytic/SKYWATCH_PLSD_PS_20230709T0434_ALL_Tile_0_0_9689.tif\n",
      "data/Ukulhas_2023-07-01_medium\\6de67e38-1e30-4621-bd6e-37b77dae9fca\n",
      "... downloading https://s3-us-west-2.amazonaws.com/aoi-processed-images-prod/d0678940-f691-11ee-9929-fb14aa16a18a/d01a7427-1b5a-47d7-b61b-878c28f04474/metadata/SKYWATCH_S2_MS_20230715T0516_ALL_Tile_0_0_415e_metadata.json\n",
      "... downloading https://s3-us-west-2.amazonaws.com/aoi-processed-images-prod/d0678940-f691-11ee-9929-fb14aa16a18a/d01a7427-1b5a-47d7-b61b-878c28f04474/analytic/SKYWATCH_S2_MS_20230715T0516_ALL_Tile_0_0_415e.tif\n",
      "data/Ukulhas_2023-07-01_medium\\31d5ee22-b420-4af0-b1a6-85697420d5bf\n",
      "... downloading https://s3-us-west-2.amazonaws.com/aoi-processed-images-prod/d0678940-f691-11ee-9929-fb14aa16a18a/34140529-1dda-4a06-aaf0-b1f72ba61216/metadata/SKYWATCH_PLSD_PS_20230719T0516_ALL_Tile_0_0_29ea_metadata.json\n",
      "... downloading https://s3-us-west-2.amazonaws.com/aoi-processed-images-prod/d0678940-f691-11ee-9929-fb14aa16a18a/34140529-1dda-4a06-aaf0-b1f72ba61216/analytic/SKYWATCH_PLSD_PS_20230719T0516_ALL_Tile_0_0_29ea.tif\n",
      "data/Ukulhas_2023-07-01_medium\\ccc46e8d-6206-4bdc-bceb-5c8f54c08b97\n",
      "... downloading https://s3-us-west-2.amazonaws.com/aoi-processed-images-prod/d0678940-f691-11ee-9929-fb14aa16a18a/345a8535-0e3d-4647-a15d-a0b771c0a395/metadata/SKYWATCH_PLSD_PS_20230722T0520_ALL_Tile_0_0_4dbe_metadata.json\n",
      "... downloading https://s3-us-west-2.amazonaws.com/aoi-processed-images-prod/d0678940-f691-11ee-9929-fb14aa16a18a/345a8535-0e3d-4647-a15d-a0b771c0a395/analytic/SKYWATCH_PLSD_PS_20230722T0520_ALL_Tile_0_0_4dbe.tif\n",
      "data/Ukulhas_2023-07-01_medium\\e195844f-9fdc-49a3-a0bc-c49907e48013\n",
      "... downloading https://s3-us-west-2.amazonaws.com/aoi-processed-images-prod/d0678940-f691-11ee-9929-fb14aa16a18a/9e4705c0-9a2f-40da-97d5-d612e8b2111a/metadata/SKYWATCH_PLSD_PS_20230728T0439_ALL_Tile_0_0_94cc_metadata.json\n",
      "... downloading https://s3-us-west-2.amazonaws.com/aoi-processed-images-prod/d0678940-f691-11ee-9929-fb14aa16a18a/9e4705c0-9a2f-40da-97d5-d612e8b2111a/analytic/SKYWATCH_PLSD_PS_20230728T0439_ALL_Tile_0_0_94cc.tif\n",
      "data/Ukulhas_2023-07-01_medium\\74367905-659e-447c-9fd0-38104b91e412\n",
      "data/Ukulhas_2023-08-01_medium\\a96fed6f-a70a-4190-a722-b8ad2871ec78\n",
      "... downloading https://s3-us-west-2.amazonaws.com/aoi-processed-images-prod/d36c3872-f691-11ee-8b81-fb14aa16a18a/77384905-5c09-4d84-80b2-539acb9bc0db/metadata/SKYWATCH_PLSD_PS_20230801T0443_ALL_Tile_0_0_a714_metadata.json\n",
      "... downloading https://s3-us-west-2.amazonaws.com/aoi-processed-images-prod/d36c3872-f691-11ee-8b81-fb14aa16a18a/77384905-5c09-4d84-80b2-539acb9bc0db/analytic/SKYWATCH_PLSD_PS_20230801T0443_ALL_Tile_0_0_a714.tif\n",
      "data/Ukulhas_2023-08-01_medium\\3254787b-1f09-428a-8ed0-bc901dc77f2e\n",
      "... downloading https://s3-us-west-2.amazonaws.com/aoi-processed-images-prod/d36c3872-f691-11ee-8b81-fb14aa16a18a/919e810d-1702-4ad0-877a-230a1fe0a952/metadata/SKYWATCH_PLSD_PS_20230807T0437_ALL_Tile_0_0_6528_metadata.json\n",
      "... downloading https://s3-us-west-2.amazonaws.com/aoi-processed-images-prod/d36c3872-f691-11ee-8b81-fb14aa16a18a/919e810d-1702-4ad0-877a-230a1fe0a952/analytic/SKYWATCH_PLSD_PS_20230807T0437_ALL_Tile_0_0_6528.tif\n",
      "data/Ukulhas_2023-08-01_medium\\9b221505-03f5-42ea-8593-d259fe210f49\n",
      "... downloading https://s3-us-west-2.amazonaws.com/aoi-processed-images-prod/d36c3872-f691-11ee-8b81-fb14aa16a18a/0844d716-2afe-4d9a-a54f-424f38d1f35b/metadata/SKYWATCH_PLSD_PS_20230812T0437_ALL_Tile_0_0_8d22_metadata.json\n",
      "... downloading https://s3-us-west-2.amazonaws.com/aoi-processed-images-prod/d36c3872-f691-11ee-8b81-fb14aa16a18a/0844d716-2afe-4d9a-a54f-424f38d1f35b/analytic/SKYWATCH_PLSD_PS_20230812T0437_ALL_Tile_0_0_8d22.tif\n",
      "data/Ukulhas_2023-08-01_medium\\7af61493-6612-46f9-96f5-39dc63864421\n",
      "... downloading https://s3-us-west-2.amazonaws.com/aoi-processed-images-prod/d36c3872-f691-11ee-8b81-fb14aa16a18a/481810eb-196e-42c9-8481-ff91faa3e3b8/metadata/SKYWATCH_PLSD_PS_20230820T0442_ALL_Tile_0_0_29a6_metadata.json\n",
      "... downloading https://s3-us-west-2.amazonaws.com/aoi-processed-images-prod/d36c3872-f691-11ee-8b81-fb14aa16a18a/481810eb-196e-42c9-8481-ff91faa3e3b8/analytic/SKYWATCH_PLSD_PS_20230820T0442_ALL_Tile_0_0_29a6.tif\n",
      "data/Ukulhas_2023-08-01_medium\\3c07ff4c-937e-4812-96ae-70dcb0fa2a77\n",
      "... downloading https://s3-us-west-2.amazonaws.com/aoi-processed-images-prod/d36c3872-f691-11ee-8b81-fb14aa16a18a/bc36bda9-5300-4a43-9afe-6bc0e3e70772/metadata/SKYWATCH_S2_MS_20230824T0517_ALL_Tile_0_0_d998_metadata.json\n",
      "... downloading https://s3-us-west-2.amazonaws.com/aoi-processed-images-prod/d36c3872-f691-11ee-8b81-fb14aa16a18a/bc36bda9-5300-4a43-9afe-6bc0e3e70772/analytic/SKYWATCH_S2_MS_20230824T0517_ALL_Tile_0_0_d998.tif\n",
      "data/Ukulhas_2023-08-01_medium\\f363c49a-9909-4f12-9fce-2f24231c88d3\n",
      "... downloading https://s3-us-west-2.amazonaws.com/aoi-processed-images-prod/d36c3872-f691-11ee-8b81-fb14aa16a18a/fa03177d-8416-4efb-bfb4-19f438d51796/metadata/SKYWATCH_PLSD_PS_20230830T0520_ALL_Tile_0_0_e0b3_metadata.json\n",
      "... downloading https://s3-us-west-2.amazonaws.com/aoi-processed-images-prod/d36c3872-f691-11ee-8b81-fb14aa16a18a/fa03177d-8416-4efb-bfb4-19f438d51796/analytic/SKYWATCH_PLSD_PS_20230830T0520_ALL_Tile_0_0_e0b3.tif\n",
      "data/Ukulhas_2023-08-01_medium\\9c29d70d-934f-410c-bda6-ac84280c8312\n",
      "data/Ukulhas_2023-09-01_medium\\84a46f48-265a-43b1-8e38-fdcd76a6ba3b\n",
      "data/Ukulhas_2023-09-01_medium\\a894d625-672a-4dd5-9b77-e49c1fc9ba06\n",
      "data/Ukulhas_2023-09-01_medium\\1bc75958-8e68-49bf-a179-bd81918f189a\n",
      "... downloading https://s3-us-west-2.amazonaws.com/aoi-processed-images-prod/d6b27eb0-f691-11ee-b14d-fb14aa16a18a/226b8bdb-aa72-4f13-8238-5e74fb3b57e4/metadata/SKYWATCH_PLSD_PS_20230913T0442_ALL_Tile_0_0_e1ed_metadata.json\n",
      "... downloading https://s3-us-west-2.amazonaws.com/aoi-processed-images-prod/d6b27eb0-f691-11ee-b14d-fb14aa16a18a/226b8bdb-aa72-4f13-8238-5e74fb3b57e4/analytic/SKYWATCH_PLSD_PS_20230913T0442_ALL_Tile_0_0_e1ed.tif\n",
      "data/Ukulhas_2023-09-01_medium\\147503b5-7815-4aae-95db-ac88dd1621d5\n",
      "data/Ukulhas_2023-09-01_medium\\03f2d187-b816-49e5-bc71-803db484f814\n",
      "data/Ukulhas_2023-09-01_medium\\f9011478-eeec-4af7-b15a-d41f99b4d8ed\n",
      "... downloading https://s3-us-west-2.amazonaws.com/aoi-processed-images-prod/d6b27eb0-f691-11ee-b14d-fb14aa16a18a/6d6e7fcd-03d2-4dc9-91f2-d2acb486ddf9/metadata/SKYWATCH_PLSD_PS_20230930T0438_ALL_Tile_0_0_0a02_metadata.json\n",
      "... downloading https://s3-us-west-2.amazonaws.com/aoi-processed-images-prod/d6b27eb0-f691-11ee-b14d-fb14aa16a18a/6d6e7fcd-03d2-4dc9-91f2-d2acb486ddf9/analytic/SKYWATCH_PLSD_PS_20230930T0438_ALL_Tile_0_0_0a02.tif\n",
      "data/Ukulhas_2023-10-01_medium\\ada332eb-056d-4900-843d-26669f29f34d\n",
      "data/Ukulhas_2023-10-01_medium\\67b5c055-d72f-420c-9bda-f40da80ee767\n",
      "... downloading https://s3-us-west-2.amazonaws.com/aoi-processed-images-prod/d9f56914-f691-11ee-a123-fb14aa16a18a/73a101d0-bdf6-4f34-8266-0a411ceccb06/metadata/SKYWATCH_PLSD_PS_20231007T0523_ALL_Tile_0_0_135e_metadata.json\n",
      "... downloading https://s3-us-west-2.amazonaws.com/aoi-processed-images-prod/d9f56914-f691-11ee-a123-fb14aa16a18a/73a101d0-bdf6-4f34-8266-0a411ceccb06/analytic/SKYWATCH_PLSD_PS_20231007T0523_ALL_Tile_0_0_135e.tif\n",
      "data/Ukulhas_2023-10-01_medium\\0027ff01-650c-41d5-bf4a-ced7a3b4ec5c\n",
      "... downloading https://s3-us-west-2.amazonaws.com/aoi-processed-images-prod/d9f56914-f691-11ee-a123-fb14aa16a18a/b2d3930f-5707-4940-9482-c64259455801/metadata/SKYWATCH_PLSD_PS_20231015T0521_ALL_Tile_0_0_cc07_metadata.json\n",
      "... downloading https://s3-us-west-2.amazonaws.com/aoi-processed-images-prod/d9f56914-f691-11ee-a123-fb14aa16a18a/b2d3930f-5707-4940-9482-c64259455801/analytic/SKYWATCH_PLSD_PS_20231015T0521_ALL_Tile_0_0_cc07.tif\n",
      "data/Ukulhas_2023-10-01_medium\\29851ebf-d3c7-48b6-bd02-2e96e2382744\n",
      "... downloading https://s3-us-west-2.amazonaws.com/aoi-processed-images-prod/d9f56914-f691-11ee-a123-fb14aa16a18a/6fd1d6b6-7bc9-42ec-8af2-312f6c1bfe20/metadata/SKYWATCH_PLSD_PS_20231016T0446_ALL_Tile_0_0_6000_metadata.json\n",
      "... downloading https://s3-us-west-2.amazonaws.com/aoi-processed-images-prod/d9f56914-f691-11ee-a123-fb14aa16a18a/6fd1d6b6-7bc9-42ec-8af2-312f6c1bfe20/analytic/SKYWATCH_PLSD_PS_20231016T0446_ALL_Tile_0_0_6000.tif\n",
      "data/Ukulhas_2023-10-01_medium\\1f7e1b5f-f464-4dc4-a9d8-e1835266cd59\n",
      "data/Ukulhas_2023-10-01_medium\\5ac7c9ff-11e9-4893-9c27-3dfda8402d33\n",
      "data/Ukulhas_2023-10-01_medium\\e876beaf-fa7f-407c-b863-043584081dcb\n",
      "data/Ukulhas_2023-11-01_medium\\3cde1bbc-ce4f-4fce-a656-4df14c11f50b\n",
      "data/Ukulhas_2023-11-01_medium\\c2188432-bc81-426e-85eb-4dad1b2b6ebb\n",
      "data/Ukulhas_2023-11-01_medium\\137f6427-9fb3-4380-a0b6-4766910bb0c4\n",
      "... downloading https://s3-us-west-2.amazonaws.com/aoi-processed-images-prod/dd6261f6-f691-11ee-b016-fb14aa16a18a/0d2bf15b-8b92-4b8a-9b79-75bdf5f06b54/metadata/SKYWATCH_PLSD_PS_20231115T0525_ALL_Tile_0_0_9765_metadata.json\n",
      "... downloading https://s3-us-west-2.amazonaws.com/aoi-processed-images-prod/dd6261f6-f691-11ee-b016-fb14aa16a18a/0d2bf15b-8b92-4b8a-9b79-75bdf5f06b54/analytic/SKYWATCH_PLSD_PS_20231115T0525_ALL_Tile_0_0_9765.tif\n",
      "data/Ukulhas_2023-11-01_medium\\a145d675-0283-464a-881b-4703944e0599\n",
      "... downloading https://s3-us-west-2.amazonaws.com/aoi-processed-images-prod/dd6261f6-f691-11ee-b016-fb14aa16a18a/a5647a62-bde9-4f90-acfd-02d10fee6259/metadata/SKYWATCH_S2_MS_20231117T0521_ALL_Tile_0_0_50d3_metadata.json\n",
      "... downloading https://s3-us-west-2.amazonaws.com/aoi-processed-images-prod/dd6261f6-f691-11ee-b016-fb14aa16a18a/a5647a62-bde9-4f90-acfd-02d10fee6259/analytic/SKYWATCH_S2_MS_20231117T0521_ALL_Tile_0_0_50d3.tif\n",
      "data/Ukulhas_2023-11-01_medium\\3f154459-ad7e-4ea0-96eb-9cf61fdf6382\n",
      "data/Ukulhas_2023-11-01_medium\\e9ed4229-cdb0-4bc9-9dfe-8a995e2a2608\n",
      "data/Ukulhas_2023-12-01_medium\\4f1dd543-b47c-44c3-bd48-c1c398ba416c\n",
      "... downloading https://s3-us-west-2.amazonaws.com/aoi-processed-images-prod/e0b26322-f691-11ee-a421-fb14aa16a18a/4f9ce994-2f68-4487-9cee-039c0907c3f8/metadata/SKYWATCH_S2_MS_20231202T0521_ALL_Tile_0_0_6aac_metadata.json\n",
      "... downloading https://s3-us-west-2.amazonaws.com/aoi-processed-images-prod/e0b26322-f691-11ee-a421-fb14aa16a18a/4f9ce994-2f68-4487-9cee-039c0907c3f8/analytic/SKYWATCH_S2_MS_20231202T0521_ALL_Tile_0_0_6aac.tif\n",
      "data/Ukulhas_2023-12-01_medium\\40693034-595d-4f35-9e18-93474b1a9b5f\n",
      "data/Ukulhas_2023-12-01_medium\\12b32f5d-b5bd-41e6-8df5-8928183b9c99\n",
      "data/Ukulhas_2023-12-01_medium\\11958150-dc40-4929-8263-4951e474b10d\n",
      "... downloading https://s3-us-west-2.amazonaws.com/aoi-processed-images-prod/e0b26322-f691-11ee-a421-fb14aa16a18a/a9ededc6-83fb-4011-9de9-05a0ba318885/metadata/SKYWATCH_PLSD_PS_20231218T0447_ALL_Tile_0_0_aadf_metadata.json\n",
      "... downloading https://s3-us-west-2.amazonaws.com/aoi-processed-images-prod/e0b26322-f691-11ee-a421-fb14aa16a18a/a9ededc6-83fb-4011-9de9-05a0ba318885/analytic/SKYWATCH_PLSD_PS_20231218T0447_ALL_Tile_0_0_aadf.tif\n",
      "data/Ukulhas_2023-12-01_medium\\6d098a33-ea2b-4bd7-b0a4-6331701f54c9\n",
      "... downloading https://s3-us-west-2.amazonaws.com/aoi-processed-images-prod/e0b26322-f691-11ee-a421-fb14aa16a18a/62d2abb9-707c-40a7-8e3c-2a7f26e50836/metadata/SKYWATCH_PLSD_PS_20231224T0526_ALL_Tile_0_0_0b28_metadata.json\n",
      "... downloading https://s3-us-west-2.amazonaws.com/aoi-processed-images-prod/e0b26322-f691-11ee-a421-fb14aa16a18a/62d2abb9-707c-40a7-8e3c-2a7f26e50836/analytic/SKYWATCH_PLSD_PS_20231224T0526_ALL_Tile_0_0_0b28.tif\n",
      "data/Ukulhas_2023-12-01_medium\\70312a85-5f51-49de-83b1-b3d858a8e78f\n",
      "data/Ukulhas_2023-12-01_medium\\f077a647-786f-4c5a-b870-b513e6f05928\n"
     ]
    }
   ],
   "source": [
    "# once the status is good, run this cell to download the images\n",
    "images = []\n",
    "for i in month_range:\n",
    "    start_date = starts[i]\n",
    "    pipeline_name = location_name + start_date + '_' + resolution\n",
    "    status,res = SDS_earthcache_api.checkStatus(nb_client, pipeline_name)\n",
    "    if(status == 200):\n",
    "        images.append(SDS_earthcache_api.download_images(nb_client, pipeline_name))"
   ]
  },
  {
   "cell_type": "code",
   "execution_count": 43,
   "metadata": {},
   "outputs": [
    {
     "data": {
      "text/plain": [
       "'data/Ukulhas_2023-01-02_medium\\\\45bba2a6-0e36-47d8-b053-c5683e5ac7c6\\\\20230103_043520/SKYWATCH_PLSD_PS_20230103T0435_TC_Tile_0_0_ec9f.tif'"
      ]
     },
     "execution_count": 43,
     "metadata": {},
     "output_type": "execute_result"
    }
   ],
   "source": [
    "images[0][0][0]"
   ]
  },
  {
   "cell_type": "markdown",
   "metadata": {},
   "source": [
    "# visualize sample"
   ]
  },
  {
   "cell_type": "code",
   "execution_count": null,
   "metadata": {},
   "outputs": [],
   "source": [
    "# this function visualizes the first image\n",
    "SDS_earthcache_api.view_first_image(images[0])"
   ]
  }
 ],
 "metadata": {
  "kernelspec": {
   "display_name": "coastsat",
   "language": "python",
   "name": "python3"
  },
  "language_info": {
   "codemirror_mode": {
    "name": "ipython",
    "version": 3
   },
   "file_extension": ".py",
   "mimetype": "text/x-python",
   "name": "python",
   "nbconvert_exporter": "python",
   "pygments_lexer": "ipython3",
   "version": "3.8.15"
  },
  "toc": {
   "base_numbering": 1,
   "nav_menu": {},
   "number_sections": true,
   "sideBar": true,
   "skip_h1_title": false,
   "title_cell": "Table of Contents",
   "title_sidebar": "Contents",
   "toc_cell": false,
   "toc_position": {},
   "toc_section_display": true,
   "toc_window_display": false
  },
  "varInspector": {
   "cols": {
    "lenName": 16,
    "lenType": 16,
    "lenVar": 40
   },
   "kernels_config": {
    "python": {
     "delete_cmd_postfix": "",
     "delete_cmd_prefix": "del ",
     "library": "var_list.py",
     "varRefreshCmd": "print(var_dic_list())"
    },
    "r": {
     "delete_cmd_postfix": ") ",
     "delete_cmd_prefix": "rm(",
     "library": "var_list.r",
     "varRefreshCmd": "cat(var_dic_list()) "
    }
   },
   "types_to_exclude": [
    "module",
    "function",
    "builtin_function_or_method",
    "instance",
    "_Feature"
   ],
   "window_display": false
  }
 },
 "nbformat": 4,
 "nbformat_minor": 4
}
